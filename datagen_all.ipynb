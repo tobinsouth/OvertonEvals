{
 "cells": [
  {
   "cell_type": "markdown",
   "metadata": {},
   "source": [
    "# Combine all the datasets\n",
    "\n",
    "Here we are going to very simply combine all the datasets into one."
   ]
  },
  {
   "cell_type": "code",
   "execution_count": null,
   "metadata": {},
   "outputs": [],
   "source": [
    "from dotenv import load_dotenv\n",
    "import pandas as pd, numpy as np, os\n",
    "\n",
    "# Load environment variables\n",
    "load_dotenv()\n",
    "DATA_PATH = os.getenv('DATA_PATH')\n",
    "TEMP_PATH = os.getenv('TEMP_PATH')"
   ]
  },
  {
   "cell_type": "markdown",
   "metadata": {},
   "source": [
    "### Habermas"
   ]
  },
  {
   "cell_type": "code",
   "execution_count": null,
   "metadata": {},
   "outputs": [],
   "source": [
    "habermas = pd.read_csv(DATA_PATH + 'habermas_machine_questions.csv')\n",
    "habermas.rename(columns={'question.text': 'question', 'own_opinion.text': 'perspectives'}, inplace=True)\n",
    "habermas['source'] = 'habermas'\n",
    "habermas = habermas.reset_index()[['question', 'perspectives', 'source']]"
   ]
  },
  {
   "cell_type": "code",
   "execution_count": null,
   "metadata": {},
   "outputs": [],
   "source": [
    "ValuePrism = pd.read_csv(DATA_PATH + 'ValuePrism_perspectives.csv')\n",
    "ValuePrism.rename(columns={'situation': 'question', 'perspective': 'perspectives'}, inplace=True)\n",
    "ValuePrism['source'] = 'valueprism'\n",
    "ValuePrism = ValuePrism.reset_index()[['question', 'perspectives', 'source']]"
   ]
  },
  {
   "cell_type": "code",
   "execution_count": null,
   "metadata": {},
   "outputs": [],
   "source": [
    "# We're gonna sample ValuePrism for now since it's so big\n",
    "print(ValuePrism.shape)\n",
    "ValuePrism = ValuePrism.sample(1000)"
   ]
  },
  {
   "cell_type": "code",
   "execution_count": null,
   "metadata": {},
   "outputs": [],
   "source": [
    "perspectrum = pd.read_csv(DATA_PATH + 'perspectrum_processed.csv')\n",
    "perspectrum.rename(columns={'text': 'question', 'perspectives.text': 'perspectives'}, inplace=True)\n",
    "perspectrum['source'] = 'perspectrum'\n",
    "perspectrum = perspectrum.reset_index()[['question', 'perspectives', 'source']]"
   ]
  },
  {
   "cell_type": "code",
   "execution_count": null,
   "metadata": {},
   "outputs": [],
   "source": [
    "deliberation = pd.read_csv(DATA_PATH + 'deliberation/' + 'deliberation_overton_results_raw.csv')\n",
    "deliberation.drop(columns=['question'], inplace=True)\n",
    "deliberation.rename(columns={'Question': 'question', 'Theme': 'perspectives'}, inplace=True)\n",
    "deliberation = deliberation.groupby('question')['perspectives'].apply(lambda x: x.to_list()).reset_index()\n",
    "deliberation['source'] = 'deliberation'"
   ]
  },
  {
   "cell_type": "code",
   "execution_count": null,
   "metadata": {},
   "outputs": [],
   "source": [
    "print(habermas.shape, ValuePrism.shape, perspectrum.shape, deliberation.shape)"
   ]
  },
  {
   "cell_type": "markdown",
   "metadata": {},
   "source": [
    "### Combine and save"
   ]
  },
  {
   "cell_type": "markdown",
   "metadata": {},
   "source": [
    "perspectrum"
   ]
  },
  {
   "cell_type": "code",
   "execution_count": null,
   "metadata": {},
   "outputs": [],
   "source": [
    "df_all = pd.concat([habermas, ValuePrism, perspectrum, deliberation])"
   ]
  },
  {
   "cell_type": "code",
   "execution_count": null,
   "metadata": {},
   "outputs": [],
   "source": [
    "df_all.to_csv(DATA_PATH + 'questions_and_human_perspectives.csv')"
   ]
  }
 ],
 "metadata": {
  "kernelspec": {
   "display_name": ".venv",
   "language": "python",
   "name": "python3"
  },
  "language_info": {
   "codemirror_mode": {
    "name": "ipython",
    "version": 3
   },
   "file_extension": ".py",
   "mimetype": "text/x-python",
   "name": "python",
   "nbconvert_exporter": "python",
   "pygments_lexer": "ipython3",
   "version": "3.11.10"
  }
 },
 "nbformat": 4,
 "nbformat_minor": 2
}
