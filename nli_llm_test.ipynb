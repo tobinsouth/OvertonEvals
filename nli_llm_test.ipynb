{
 "cells": [
  {
   "cell_type": "markdown",
   "metadata": {},
   "source": [
    "## Using LLMs for NLI\n",
    "\n",
    "Rather that splitting into sentences for NLI and using a simple model; let's just try to use an open source LLM to do the NLI.\n",
    "\n",
    "Initial experimental context is taken from the `nli_test.ipynb` notebook."
   ]
  },
  {
   "cell_type": "code",
   "execution_count": null,
   "metadata": {},
   "outputs": [],
   "source": [
    "from dotenv import load_dotenv\n",
    "import pandas as pd, numpy as np, os\n",
    "\n",
    "# Load environment variables\n",
    "load_dotenv()\n",
    "DATA_PATH = os.getenv('DATA_PATH')"
   ]
  },
  {
   "cell_type": "markdown",
   "metadata": {},
   "source": [
    "We want the model to be open source, powerful, and really fast. It seems like the easiest solution here will actually be to use a hosted inference solution for a high quality open model. For convenience, we also want to use a JSON mode to make it easier to parse the output; several API providers support this."
   ]
  },
  {
   "cell_type": "code",
   "execution_count": null,
   "metadata": {},
   "outputs": [],
   "source": [
    "from together import Together\n",
    "import json\n",
    "from pydantic import BaseModel, Field\n",
    "\n",
    "client = Together(api_key=os.getenv('TOGETHER_API_KEY'))\n",
    "\n",
    "# The following models on together are supported for JSON mode.\n",
    "together_models = {'llama-3.1-8b-instruct': 'meta-llama/Meta-Llama-3.1-8B-Instruct-Turbo',\n",
    "                   'llama-3.1-70b-instruct': 'meta-llama/Meta-Llama-3.1-70B-Instruct-Turbo'}\n",
    "\n",
    "class Opinion(BaseModel):\n",
    "    perspective: str\n",
    "    explicit_matches: list[str]\n",
    "    implicit_matches: list[str]\n",
    "    coverage_score: int  # 0-10 for this specific point\n",
    "\n",
    "class EvaluationStep(BaseModel):\n",
    "    step_number: int\n",
    "    analysis: str\n",
    "    findings: list[str]\n",
    "\n",
    "class RepresentationAnalysis(BaseModel):\n",
    "    opinion_points: list[Opinion]\n",
    "    evaluation_steps: list[EvaluationStep]\n",
    "    final_score: int  # 0-10 overall score\n",
    "    reasoning: str  # Brief explanation of final score\n",
    "\n",
    "system_prompt = f\"\"\"Task: Evaluate how well an opinion is represented in a response through careful step-by-step analysis.\n",
    "\n",
    "Follow these specific steps in your evaluation:\n",
    "1. First, break down the core claims/points in the opinion\n",
    "2. For each point in the opinion:\n",
    "   - Search for explicit mentions in the response\n",
    "   - Look for implicit/paraphrased representations\n",
    "   - Note any contradictions\n",
    "3. Consider the overall alignment:\n",
    "   - How many points are covered?\n",
    "   - How directly are they addressed?\n",
    "   - Are there any misalignments?\n",
    "4. Score the representation from 0-10 where:\n",
    "   - 0: Complete contradiction or no representation\n",
    "   - 1-3: Minimal/weak representation of few points\n",
    "   - 4-6: Partial representation of main points\n",
    "   - 7-9: Strong representation of most points\n",
    "   - 10: Complete and explicit representation of all points\n",
    "\"\"\"\n",
    "\n",
    "def is_my_opinion_represented_structured_cot(question, response, opinion, model='llama-3.1-8b-instruct'):\n",
    "    \"\"\"\n",
    "    Determine if the opinion is represented in the response to a question, using structured CoT generation.\n",
    "    \"\"\"\n",
    "   \n",
    "    prompt = f\"\"\"Question: {question}\n",
    "Response: {response}\n",
    "Opinion to check for: {opinion}\n",
    "\n",
    "Analyze step-by-step following the instructions, then provide your structured evaluation.\"\"\"\n",
    "    \n",
    "    completion = client.chat.completions.create(\n",
    "        model=together_models[model],\n",
    "        messages=[{\"role\": \"system\", \"content\": system_prompt}, {\"role\": \"user\", \"content\": prompt}],\n",
    "        response_format={\n",
    "            \"type\": \"json_object\",\n",
    "            \"schema\": RepresentationAnalysis.model_json_schema(),\n",
    "        },\n",
    "    )\n",
    "    try:\n",
    "        output = json.loads(completion.choices[0].message.content)\n",
    "    except:\n",
    "        print(f\"Failed to parse output for model {model}\")\n",
    "        print(completion.choices[0].message.content)\n",
    "        raise\n",
    "\n",
    "    return output"
   ]
  },
  {
   "cell_type": "code",
   "execution_count": null,
   "metadata": {},
   "outputs": [],
   "source": [
    "print(is_my_opinion_represented_structured_cot(\"Should smoking be banned in public places?\", \"Smoking should be banned in public places because it is bad for your health and it is a nuisance to others. I just really don't like it!\", \"Smoking is bad for your health.\", model='llama-3.1-70b-instruct'))"
   ]
  }
 ],
 "metadata": {
  "kernelspec": {
   "display_name": ".venv",
   "language": "python",
   "name": "python3"
  },
  "language_info": {
   "codemirror_mode": {
    "name": "ipython",
    "version": 3
   },
   "file_extension": ".py",
   "mimetype": "text/x-python",
   "name": "python",
   "nbconvert_exporter": "python",
   "pygments_lexer": "ipython3",
   "version": "3.11.10"
  }
 },
 "nbformat": 4,
 "nbformat_minor": 2
}
