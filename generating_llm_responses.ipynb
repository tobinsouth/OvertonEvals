{
 "cells": [
  {
   "cell_type": "markdown",
   "metadata": {},
   "source": [
    "# Getting Vanilla LLM Responses\n",
    "### We're going to generate responses from a LLM for each question, based on the habermas_machine_questions.csv file.\n",
    "\n",
    "The input is the habermas_machine_questions.csv file.\n",
    "The output is a large CSV of questions, opinions, and LLM responses. LLM responses & questions are 1-to-1 but duplicated across varying opinions. This is not space efficient but makes it easier to work with."
   ]
  },
  {
   "cell_type": "code",
   "execution_count": 1,
   "metadata": {
    "execution": {
     "iopub.execute_input": "2025-01-03T20:15:13.800270Z",
     "iopub.status.busy": "2025-01-03T20:15:13.799372Z",
     "iopub.status.idle": "2025-01-03T20:15:16.596013Z",
     "shell.execute_reply": "2025-01-03T20:15:16.593891Z"
    }
   },
   "outputs": [],
   "source": [
    "from dotenv import load_dotenv\n",
    "import pandas as pd, numpy as np, os\n",
    "\n",
    "# Load environment variables\n",
    "load_dotenv()\n",
    "DATA_PATH = os.getenv('DATA_PATH')\n",
    "TEMP_PATH = os.getenv('TEMP_PATH')"
   ]
  },
  {
   "cell_type": "code",
   "execution_count": 2,
   "metadata": {
    "execution": {
     "iopub.execute_input": "2025-01-03T20:15:16.603755Z",
     "iopub.status.busy": "2025-01-03T20:15:16.602665Z",
     "iopub.status.idle": "2025-01-03T20:15:16.765580Z",
     "shell.execute_reply": "2025-01-03T20:15:16.764268Z"
    }
   },
   "outputs": [
    {
     "name": "stdout",
     "output_type": "stream",
     "text": [
      "df_questions.shape:  (3345, 4)\n"
     ]
    },
    {
     "data": {
      "text/html": [
       "<div>\n",
       "<style scoped>\n",
       "    .dataframe tbody tr th:only-of-type {\n",
       "        vertical-align: middle;\n",
       "    }\n",
       "\n",
       "    .dataframe tbody tr th {\n",
       "        vertical-align: top;\n",
       "    }\n",
       "\n",
       "    .dataframe thead th {\n",
       "        text-align: right;\n",
       "    }\n",
       "</style>\n",
       "<table border=\"1\" class=\"dataframe\">\n",
       "  <thead>\n",
       "    <tr style=\"text-align: right;\">\n",
       "      <th></th>\n",
       "      <th>Unnamed: 0</th>\n",
       "      <th>question</th>\n",
       "      <th>perspectives</th>\n",
       "      <th>source</th>\n",
       "    </tr>\n",
       "  </thead>\n",
       "  <tbody>\n",
       "    <tr>\n",
       "      <th>2855</th>\n",
       "      <td>417</td>\n",
       "      <td>It is sometimes right for the government to re...</td>\n",
       "      <td>['Choosing cultural values are the rights of t...</td>\n",
       "      <td>perspectrum</td>\n",
       "    </tr>\n",
       "    <tr>\n",
       "      <th>796</th>\n",
       "      <td>796</td>\n",
       "      <td>Should the government introduce a universal ba...</td>\n",
       "      <td>['The government should introduce a universal ...</td>\n",
       "      <td>habermas</td>\n",
       "    </tr>\n",
       "    <tr>\n",
       "      <th>2058</th>\n",
       "      <td>19487</td>\n",
       "      <td>Steal bread in order to survive</td>\n",
       "      <td>[\"Value: Survival\\nExplanation: Stealing the b...</td>\n",
       "      <td>valueprism</td>\n",
       "    </tr>\n",
       "    <tr>\n",
       "      <th>424</th>\n",
       "      <td>424</td>\n",
       "      <td>Should all universities in the UK be obliged t...</td>\n",
       "      <td>['No, I believe this is counter productive. A ...</td>\n",
       "      <td>habermas</td>\n",
       "    </tr>\n",
       "    <tr>\n",
       "      <th>2003</th>\n",
       "      <td>23853</td>\n",
       "      <td>abolishing forced labour</td>\n",
       "      <td>['Value: Human dignity\\nExplanation: Abolishin...</td>\n",
       "      <td>valueprism</td>\n",
       "    </tr>\n",
       "    <tr>\n",
       "      <th>1053</th>\n",
       "      <td>1053</td>\n",
       "      <td>Should we ban junk food adverts during childre...</td>\n",
       "      <td>[\"We should ban junk food adverts during child...</td>\n",
       "      <td>habermas</td>\n",
       "    </tr>\n",
       "    <tr>\n",
       "      <th>827</th>\n",
       "      <td>827</td>\n",
       "      <td>Should the government regulate the level of sa...</td>\n",
       "      <td>['Yes because people eat too much salt in thei...</td>\n",
       "      <td>habermas</td>\n",
       "    </tr>\n",
       "    <tr>\n",
       "      <th>15</th>\n",
       "      <td>15</td>\n",
       "      <td>Are people who hold high political office and ...</td>\n",
       "      <td>['One minute I think they should disclose and ...</td>\n",
       "      <td>habermas</td>\n",
       "    </tr>\n",
       "    <tr>\n",
       "      <th>66</th>\n",
       "      <td>66</td>\n",
       "      <td>Do we need a sugar tax?</td>\n",
       "      <td>['Sugar Tax would be somewhat of a blunt instr...</td>\n",
       "      <td>habermas</td>\n",
       "    </tr>\n",
       "    <tr>\n",
       "      <th>781</th>\n",
       "      <td>781</td>\n",
       "      <td>Should the government fund more public art in ...</td>\n",
       "      <td>[\"I believe the government should not fund pub...</td>\n",
       "      <td>habermas</td>\n",
       "    </tr>\n",
       "  </tbody>\n",
       "</table>\n",
       "</div>"
      ],
      "text/plain": [
       "      Unnamed: 0                                           question  \\\n",
       "2855         417  It is sometimes right for the government to re...   \n",
       "796          796  Should the government introduce a universal ba...   \n",
       "2058       19487                    Steal bread in order to survive   \n",
       "424          424  Should all universities in the UK be obliged t...   \n",
       "2003       23853                           abolishing forced labour   \n",
       "1053        1053  Should we ban junk food adverts during childre...   \n",
       "827          827  Should the government regulate the level of sa...   \n",
       "15            15  Are people who hold high political office and ...   \n",
       "66            66                            Do we need a sugar tax?   \n",
       "781          781  Should the government fund more public art in ...   \n",
       "\n",
       "                                           perspectives       source  \n",
       "2855  ['Choosing cultural values are the rights of t...  perspectrum  \n",
       "796   ['The government should introduce a universal ...     habermas  \n",
       "2058  [\"Value: Survival\\nExplanation: Stealing the b...   valueprism  \n",
       "424   ['No, I believe this is counter productive. A ...     habermas  \n",
       "2003  ['Value: Human dignity\\nExplanation: Abolishin...   valueprism  \n",
       "1053  [\"We should ban junk food adverts during child...     habermas  \n",
       "827   ['Yes because people eat too much salt in thei...     habermas  \n",
       "15    ['One minute I think they should disclose and ...     habermas  \n",
       "66    ['Sugar Tax would be somewhat of a blunt instr...     habermas  \n",
       "781   [\"I believe the government should not fund pub...     habermas  "
      ]
     },
     "execution_count": 2,
     "metadata": {},
     "output_type": "execute_result"
    }
   ],
   "source": [
    "df_questions = pd.read_csv(DATA_PATH+'questions_and_human_perspectives.csv')\n",
    "print(\"df_questions.shape: \", df_questions.shape)\n",
    "df_questions.sample(10)"
   ]
  },
  {
   "cell_type": "code",
   "execution_count": 3,
   "metadata": {
    "execution": {
     "iopub.execute_input": "2025-01-03T20:15:16.865176Z",
     "iopub.status.busy": "2025-01-03T20:15:16.864521Z",
     "iopub.status.idle": "2025-01-03T20:15:16.881350Z",
     "shell.execute_reply": "2025-01-03T20:15:16.875218Z"
    }
   },
   "outputs": [
    {
     "name": "stdout",
     "output_type": "stream",
     "text": [
      "Sampling  200  questions.\n"
     ]
    }
   ],
   "source": [
    "# Let's reduce the number of questions to 100 for testing.\n",
    "sample_size = 200\n",
    "print(\"Sampling \", sample_size, \" questions.\")\n",
    "df_questions = df_questions.sample(n=sample_size, random_state=42)"
   ]
  },
  {
   "cell_type": "code",
   "execution_count": 4,
   "metadata": {
    "execution": {
     "iopub.execute_input": "2025-01-03T20:15:16.889384Z",
     "iopub.status.busy": "2025-01-03T20:15:16.888008Z",
     "iopub.status.idle": "2025-01-03T20:15:16.970841Z",
     "shell.execute_reply": "2025-01-03T20:15:16.969039Z"
    }
   },
   "outputs": [],
   "source": [
    "import pandas as pd\n",
    "from tqdm import tqdm\n",
    "import json\n",
    "import os\n",
    "\n",
    "def generate_responses(questions, generation_function, output_path, start_from_checkpoint=True):\n",
    "    \"\"\"\n",
    "    This is a general helper function to generate responses from an LLM and save them to a JSON file. It takes in an arbitrary generation function and can resume from a checkpoint. It will save a JSON file of responses.\n",
    "    \"\"\"\n",
    "    print(\"Generating responses for: \", output_path)\n",
    "    \n",
    "    # Load existing responses if any and if we want to resume\n",
    "    responses = {}\n",
    "    if start_from_checkpoint:\n",
    "        with open(output_path, 'r') as f:\n",
    "            responses = json.load(f)\n",
    "\n",
    "    # Make sure the directory exists\n",
    "    os.makedirs(os.path.dirname(output_path), exist_ok=True)\n",
    "\n",
    "    # Get questions that haven't been answered yet for this model\n",
    "    remaining_questions = [\n",
    "        q for q in questions \n",
    "        if q not in responses\n",
    "    ]\n",
    "        \n",
    "    if not remaining_questions:\n",
    "        print(f\"All questions already processed.\")\n",
    "        return\n",
    "                \n",
    "    # Process each remaining question with progress bar\n",
    "    for idx, question in enumerate(tqdm(remaining_questions, desc=f\"Generating responses\", smoothing=0, ascii=True)):\n",
    "        try:\n",
    "            # Generate response\n",
    "            response = generation_function(question)\n",
    "            \n",
    "            # Store response\n",
    "            responses[question] = response\n",
    "                \n",
    "        except Exception as e:\n",
    "            print(f\"\\nError processing question '{question}' for: {str(e)}\")\n",
    "            continue\n",
    "\n",
    "        if idx % 10 == 0:\n",
    "            # Save to JSON\n",
    "            with open(output_path, 'w') as f:\n",
    "                json.dump(responses, f, indent=2)\n",
    "                \n",
    "    with open(output_path, 'w') as f:\n",
    "        json.dump(responses, f, indent=2)\n",
    "    \n",
    "    return responses"
   ]
  },
  {
   "cell_type": "markdown",
   "metadata": {},
   "source": [
    "# Running questions through various LLMs\n",
    "\n",
    "\n",
    "### OpenAI Models\n",
    "We're going to start with OpenAI models. You'll need to set your OpenAI API key in the .env file."
   ]
  },
  {
   "cell_type": "code",
   "execution_count": 5,
   "metadata": {
    "execution": {
     "iopub.execute_input": "2025-01-03T20:15:16.977850Z",
     "iopub.status.busy": "2025-01-03T20:15:16.976969Z",
     "iopub.status.idle": "2025-01-03T20:45:00.255875Z",
     "shell.execute_reply": "2025-01-03T20:45:00.253437Z"
    }
   },
   "outputs": [
    {
     "name": "stdout",
     "output_type": "stream",
     "text": [
      "Generating responses for:  temp/gpt-4o-mini_responses.json\n"
     ]
    },
    {
     "name": "stderr",
     "output_type": "stream",
     "text": [
      "\r",
      "Generating responses:   0%|                                                                          | 0/200 [00:00<?, ?it/s]"
     ]
    },
    {
     "name": "stderr",
     "output_type": "stream",
     "text": [
      "\r",
      "Generating responses:   0%|3                                                                 | 1/200 [00:08<27:10,  8.19s/it]"
     ]
    },
    {
     "name": "stderr",
     "output_type": "stream",
     "text": [
      "\r",
      "Generating responses:   1%|6                                                                 | 2/200 [00:16<27:38,  8.37s/it]"
     ]
    },
    {
     "name": "stderr",
     "output_type": "stream",
     "text": [
      "\r",
      "Generating responses:   2%|9                                                                 | 3/200 [00:21<23:58,  7.30s/it]"
     ]
    },
    {
     "name": "stderr",
     "output_type": "stream",
     "text": [
      "\r",
      "Generating responses:   2%|#3                                                                | 4/200 [00:30<24:36,  7.53s/it]"
     ]
    },
    {
     "name": "stderr",
     "output_type": "stream",
     "text": [
      "\r",
      "Generating responses:   2%|#6                                                                | 5/200 [00:38<25:00,  7.70s/it]"
     ]
    },
    {
     "name": "stderr",
     "output_type": "stream",
     "text": [
      "\r",
      "Generating responses:   3%|#9                                                                | 6/200 [00:42<22:57,  7.10s/it]"
     ]
    },
    {
     "name": "stderr",
     "output_type": "stream",
     "text": [
      "\r",
      "Generating responses:   4%|##3                                                               | 7/200 [00:48<22:09,  6.89s/it]"
     ]
    },
    {
     "name": "stderr",
     "output_type": "stream",
     "text": [
      "\r",
      "Generating responses:   4%|##6                                                               | 8/200 [00:58<23:12,  7.26s/it]"
     ]
    },
    {
     "name": "stderr",
     "output_type": "stream",
     "text": [
      "\r",
      "Generating responses:   4%|##9                                                               | 9/200 [01:07<23:48,  7.48s/it]"
     ]
    },
    {
     "name": "stderr",
     "output_type": "stream",
     "text": [
      "\r",
      "Generating responses:   5%|###2                                                             | 10/200 [01:19<25:04,  7.92s/it]"
     ]
    },
    {
     "name": "stderr",
     "output_type": "stream",
     "text": [
      "\r",
      "Generating responses:   6%|###5                                                             | 11/200 [01:25<24:36,  7.81s/it]"
     ]
    },
    {
     "name": "stderr",
     "output_type": "stream",
     "text": [
      "\r",
      "Generating responses:   6%|###9                                                             | 12/200 [01:39<25:53,  8.26s/it]"
     ]
    },
    {
     "name": "stderr",
     "output_type": "stream",
     "text": [
      "\r",
      "Generating responses:   6%|####2                                                            | 13/200 [01:50<26:30,  8.50s/it]"
     ]
    },
    {
     "name": "stderr",
     "output_type": "stream",
     "text": [
      "\r",
      "Generating responses:   7%|####5                                                            | 14/200 [01:53<25:03,  8.08s/it]"
     ]
    },
    {
     "name": "stderr",
     "output_type": "stream",
     "text": [
      "\r",
      "Generating responses:   8%|####8                                                            | 15/200 [02:05<25:42,  8.34s/it]"
     ]
    },
    {
     "name": "stderr",
     "output_type": "stream",
     "text": [
      "\r",
      "Generating responses:   8%|#####2                                                           | 16/200 [02:10<25:02,  8.17s/it]"
     ]
    },
    {
     "name": "stderr",
     "output_type": "stream",
     "text": [
      "\r",
      "Generating responses:   8%|#####5                                                           | 17/200 [02:16<24:27,  8.02s/it]"
     ]
    },
    {
     "name": "stderr",
     "output_type": "stream",
     "text": [
      "\r",
      "Generating responses:   9%|#####8                                                           | 18/200 [02:22<24:05,  7.94s/it]"
     ]
    },
    {
     "name": "stderr",
     "output_type": "stream",
     "text": [
      "\r",
      "Generating responses:  10%|######1                                                          | 19/200 [02:27<23:26,  7.77s/it]"
     ]
    },
    {
     "name": "stderr",
     "output_type": "stream",
     "text": [
      "\r",
      "Generating responses:  10%|######5                                                          | 20/200 [02:35<23:17,  7.76s/it]"
     ]
    },
    {
     "name": "stderr",
     "output_type": "stream",
     "text": [
      "\r",
      "Generating responses:  10%|######8                                                          | 21/200 [02:41<22:55,  7.69s/it]"
     ]
    },
    {
     "name": "stderr",
     "output_type": "stream",
     "text": [
      "\r",
      "Generating responses:  11%|#######1                                                         | 22/200 [02:48<22:45,  7.67s/it]"
     ]
    },
    {
     "name": "stderr",
     "output_type": "stream",
     "text": [
      "\r",
      "Generating responses:  12%|#######4                                                         | 23/200 [03:02<23:21,  7.92s/it]"
     ]
    },
    {
     "name": "stderr",
     "output_type": "stream",
     "text": [
      "\r",
      "Generating responses:  12%|#######8                                                         | 24/200 [03:07<22:51,  7.79s/it]"
     ]
    },
    {
     "name": "stderr",
     "output_type": "stream",
     "text": [
      "\r",
      "Generating responses:  12%|########1                                                        | 25/200 [03:13<22:33,  7.73s/it]"
     ]
    },
    {
     "name": "stderr",
     "output_type": "stream",
     "text": [
      "\r",
      "Generating responses:  13%|########4                                                        | 26/200 [03:20<22:21,  7.71s/it]"
     ]
    },
    {
     "name": "stderr",
     "output_type": "stream",
     "text": [
      "\r",
      "Generating responses:  14%|########7                                                        | 27/200 [03:24<21:47,  7.56s/it]"
     ]
    },
    {
     "name": "stderr",
     "output_type": "stream",
     "text": [
      "\r",
      "Generating responses:  14%|#########1                                                       | 28/200 [03:28<21:18,  7.43s/it]"
     ]
    },
    {
     "name": "stderr",
     "output_type": "stream",
     "text": [
      "\r",
      "Generating responses:  14%|#########4                                                       | 29/200 [03:33<21:01,  7.38s/it]"
     ]
    },
    {
     "name": "stderr",
     "output_type": "stream",
     "text": [
      "\r",
      "Generating responses:  15%|#########7                                                       | 30/200 [03:41<20:55,  7.39s/it]"
     ]
    },
    {
     "name": "stderr",
     "output_type": "stream",
     "text": [
      "\r",
      "Generating responses:  16%|##########                                                       | 31/200 [03:47<20:40,  7.34s/it]"
     ]
    },
    {
     "name": "stderr",
     "output_type": "stream",
     "text": [
      "\r",
      "Generating responses:  16%|##########4                                                      | 32/200 [03:56<20:42,  7.40s/it]"
     ]
    },
    {
     "name": "stderr",
     "output_type": "stream",
     "text": [
      "\r",
      "Generating responses:  16%|##########7                                                      | 33/200 [04:05<20:44,  7.45s/it]"
     ]
    },
    {
     "name": "stderr",
     "output_type": "stream",
     "text": [
      "\r",
      "Generating responses:  17%|###########                                                      | 34/200 [04:15<20:47,  7.51s/it]"
     ]
    },
    {
     "name": "stderr",
     "output_type": "stream",
     "text": [
      "\r",
      "Generating responses:  18%|###########3                                                     | 35/200 [04:23<20:41,  7.52s/it]"
     ]
    },
    {
     "name": "stderr",
     "output_type": "stream",
     "text": [
      "\r",
      "Generating responses:  18%|###########7                                                     | 36/200 [04:28<20:21,  7.45s/it]"
     ]
    },
    {
     "name": "stderr",
     "output_type": "stream",
     "text": [
      "\r",
      "Generating responses:  18%|############                                                     | 37/200 [04:34<20:08,  7.42s/it]"
     ]
    },
    {
     "name": "stderr",
     "output_type": "stream",
     "text": [
      "\r",
      "Generating responses:  19%|############3                                                    | 38/200 [04:41<19:59,  7.40s/it]"
     ]
    },
    {
     "name": "stderr",
     "output_type": "stream",
     "text": [
      "\r",
      "Generating responses:  20%|############6                                                    | 39/200 [04:43<19:28,  7.26s/it]"
     ]
    },
    {
     "name": "stderr",
     "output_type": "stream",
     "text": [
      "\r",
      "Generating responses:  20%|#############                                                    | 40/200 [04:51<19:26,  7.29s/it]"
     ]
    },
    {
     "name": "stderr",
     "output_type": "stream",
     "text": [
      "\r",
      "Generating responses:  20%|#############3                                                   | 41/200 [04:52<18:54,  7.14s/it]"
     ]
    },
    {
     "name": "stderr",
     "output_type": "stream",
     "text": [
      "\r",
      "Generating responses:  21%|#############6                                                   | 42/200 [04:56<18:35,  7.06s/it]"
     ]
    },
    {
     "name": "stderr",
     "output_type": "stream",
     "text": [
      "\r",
      "Generating responses:  22%|#############9                                                   | 43/200 [05:04<18:33,  7.09s/it]"
     ]
    },
    {
     "name": "stderr",
     "output_type": "stream",
     "text": [
      "\r",
      "Generating responses:  22%|##############3                                                  | 44/200 [05:14<18:34,  7.14s/it]"
     ]
    },
    {
     "name": "stderr",
     "output_type": "stream",
     "text": [
      "\r",
      "Generating responses:  22%|##############6                                                  | 45/200 [05:22<18:31,  7.17s/it]"
     ]
    },
    {
     "name": "stderr",
     "output_type": "stream",
     "text": [
      "\r",
      "Generating responses:  23%|##############9                                                  | 46/200 [05:29<18:23,  7.16s/it]"
     ]
    },
    {
     "name": "stderr",
     "output_type": "stream",
     "text": [
      "\r",
      "Generating responses:  24%|###############2                                                 | 47/200 [05:43<18:39,  7.31s/it]"
     ]
    },
    {
     "name": "stderr",
     "output_type": "stream",
     "text": [
      "\r",
      "Generating responses:  24%|###############6                                                 | 48/200 [05:49<18:27,  7.29s/it]"
     ]
    },
    {
     "name": "stderr",
     "output_type": "stream",
     "text": [
      "\r",
      "Generating responses:  24%|###############9                                                 | 49/200 [05:55<18:14,  7.25s/it]"
     ]
    },
    {
     "name": "stderr",
     "output_type": "stream",
     "text": [
      "\r",
      "Generating responses:  25%|################2                                                | 50/200 [06:00<18:01,  7.21s/it]"
     ]
    },
    {
     "name": "stderr",
     "output_type": "stream",
     "text": [
      "\r",
      "Generating responses:  26%|################5                                                | 51/200 [06:09<18:00,  7.25s/it]"
     ]
    },
    {
     "name": "stderr",
     "output_type": "stream",
     "text": [
      "\r",
      "Generating responses:  26%|################9                                                | 52/200 [06:13<17:44,  7.19s/it]"
     ]
    },
    {
     "name": "stderr",
     "output_type": "stream",
     "text": [
      "\r",
      "Generating responses:  26%|#################2                                               | 53/200 [06:20<17:36,  7.19s/it]"
     ]
    },
    {
     "name": "stderr",
     "output_type": "stream",
     "text": [
      "\r",
      "Generating responses:  27%|#################5                                               | 54/200 [06:29<17:32,  7.21s/it]"
     ]
    },
    {
     "name": "stderr",
     "output_type": "stream",
     "text": [
      "\r",
      "Generating responses:  28%|#################8                                               | 55/200 [06:34<17:19,  7.17s/it]"
     ]
    },
    {
     "name": "stderr",
     "output_type": "stream",
     "text": [
      "\r",
      "Generating responses:  28%|##################2                                              | 56/200 [06:41<17:11,  7.17s/it]"
     ]
    },
    {
     "name": "stderr",
     "output_type": "stream",
     "text": [
      "\r",
      "Generating responses:  28%|##################5                                              | 57/200 [06:46<16:59,  7.13s/it]"
     ]
    },
    {
     "name": "stderr",
     "output_type": "stream",
     "text": [
      "\r",
      "Generating responses:  29%|##################8                                              | 58/200 [06:50<16:44,  7.08s/it]"
     ]
    },
    {
     "name": "stderr",
     "output_type": "stream",
     "text": [
      "\r",
      "Generating responses:  30%|###################1                                             | 59/200 [07:11<17:12,  7.32s/it]"
     ]
    },
    {
     "name": "stderr",
     "output_type": "stream",
     "text": [
      "\r",
      "Generating responses:  30%|###################5                                             | 60/200 [07:18<17:02,  7.30s/it]"
     ]
    },
    {
     "name": "stderr",
     "output_type": "stream",
     "text": [
      "\r",
      "Generating responses:  30%|###################8                                             | 61/200 [07:19<16:42,  7.21s/it]"
     ]
    },
    {
     "name": "stderr",
     "output_type": "stream",
     "text": [
      "\r",
      "Generating responses:  31%|####################1                                            | 62/200 [07:27<16:35,  7.21s/it]"
     ]
    },
    {
     "name": "stderr",
     "output_type": "stream",
     "text": [
      "\r",
      "Generating responses:  32%|####################4                                            | 63/200 [07:36<16:31,  7.24s/it]"
     ]
    },
    {
     "name": "stderr",
     "output_type": "stream",
     "text": [
      "\r",
      "Generating responses:  32%|####################8                                            | 64/200 [07:38<16:13,  7.16s/it]"
     ]
    },
    {
     "name": "stderr",
     "output_type": "stream",
     "text": [
      "\r",
      "Generating responses:  32%|#####################1                                           | 65/200 [07:42<16:01,  7.12s/it]"
     ]
    },
    {
     "name": "stderr",
     "output_type": "stream",
     "text": [
      "\r",
      "Generating responses:  33%|#####################4                                           | 66/200 [07:49<15:53,  7.11s/it]"
     ]
    },
    {
     "name": "stderr",
     "output_type": "stream",
     "text": [
      "\r",
      "Generating responses:  34%|#####################7                                           | 67/200 [07:52<15:38,  7.05s/it]"
     ]
    },
    {
     "name": "stderr",
     "output_type": "stream",
     "text": [
      "\r",
      "Generating responses:  34%|######################1                                          | 68/200 [07:59<15:31,  7.06s/it]"
     ]
    },
    {
     "name": "stderr",
     "output_type": "stream",
     "text": [
      "\r",
      "Generating responses:  34%|######################4                                          | 69/200 [08:08<15:27,  7.08s/it]"
     ]
    },
    {
     "name": "stderr",
     "output_type": "stream",
     "text": [
      "\r",
      "Generating responses:  35%|######################7                                          | 70/200 [08:15<15:21,  7.09s/it]"
     ]
    },
    {
     "name": "stderr",
     "output_type": "stream",
     "text": [
      "\r",
      "Generating responses:  36%|#######################                                          | 71/200 [08:25<15:18,  7.12s/it]"
     ]
    },
    {
     "name": "stderr",
     "output_type": "stream",
     "text": [
      "\r",
      "Generating responses:  36%|#######################4                                         | 72/200 [08:33<15:12,  7.13s/it]"
     ]
    },
    {
     "name": "stderr",
     "output_type": "stream",
     "text": [
      "\r",
      "Generating responses:  36%|#######################7                                         | 73/200 [08:40<15:05,  7.13s/it]"
     ]
    },
    {
     "name": "stderr",
     "output_type": "stream",
     "text": [
      "\r",
      "Generating responses:  37%|########################                                         | 74/200 [08:50<15:02,  7.16s/it]"
     ]
    },
    {
     "name": "stderr",
     "output_type": "stream",
     "text": [
      "\r",
      "Generating responses:  38%|########################3                                        | 75/200 [08:58<14:57,  7.18s/it]"
     ]
    },
    {
     "name": "stderr",
     "output_type": "stream",
     "text": [
      "\r",
      "Generating responses:  38%|########################7                                        | 76/200 [08:59<14:40,  7.10s/it]"
     ]
    },
    {
     "name": "stderr",
     "output_type": "stream",
     "text": [
      "\r",
      "Generating responses:  38%|#########################                                        | 77/200 [09:06<14:32,  7.10s/it]"
     ]
    },
    {
     "name": "stderr",
     "output_type": "stream",
     "text": [
      "\r",
      "Generating responses:  39%|#########################3                                       | 78/200 [09:12<14:23,  7.08s/it]"
     ]
    },
    {
     "name": "stderr",
     "output_type": "stream",
     "text": [
      "\r",
      "Generating responses:  40%|#########################6                                       | 79/200 [09:23<14:22,  7.13s/it]"
     ]
    },
    {
     "name": "stderr",
     "output_type": "stream",
     "text": [
      "\r",
      "Generating responses:  40%|##########################                                       | 80/200 [09:33<14:20,  7.17s/it]"
     ]
    },
    {
     "name": "stderr",
     "output_type": "stream",
     "text": [
      "\r",
      "Generating responses:  40%|##########################3                                      | 81/200 [09:39<14:11,  7.16s/it]"
     ]
    },
    {
     "name": "stderr",
     "output_type": "stream",
     "text": [
      "\r",
      "Generating responses:  41%|##########################6                                      | 82/200 [09:41<13:57,  7.10s/it]"
     ]
    },
    {
     "name": "stderr",
     "output_type": "stream",
     "text": [
      "\r",
      "Generating responses:  42%|##########################9                                      | 83/200 [09:44<13:44,  7.04s/it]"
     ]
    },
    {
     "name": "stderr",
     "output_type": "stream",
     "text": [
      "\r",
      "Generating responses:  42%|###########################3                                     | 84/200 [09:51<13:36,  7.04s/it]"
     ]
    },
    {
     "name": "stderr",
     "output_type": "stream",
     "text": [
      "\r",
      "Generating responses:  42%|###########################6                                     | 85/200 [10:10<13:46,  7.19s/it]"
     ]
    },
    {
     "name": "stderr",
     "output_type": "stream",
     "text": [
      "\r",
      "Generating responses:  43%|###########################9                                     | 86/200 [10:17<13:38,  7.18s/it]"
     ]
    },
    {
     "name": "stderr",
     "output_type": "stream",
     "text": [
      "\r",
      "Generating responses:  44%|############################2                                    | 87/200 [10:25<13:32,  7.19s/it]"
     ]
    },
    {
     "name": "stderr",
     "output_type": "stream",
     "text": [
      "\r",
      "Generating responses:  44%|############################6                                    | 88/200 [10:31<13:23,  7.17s/it]"
     ]
    },
    {
     "name": "stderr",
     "output_type": "stream",
     "text": [
      "\r",
      "Generating responses:  44%|############################9                                    | 89/200 [10:40<13:18,  7.19s/it]"
     ]
    },
    {
     "name": "stderr",
     "output_type": "stream",
     "text": [
      "\r",
      "Generating responses:  45%|#############################2                                   | 90/200 [10:45<13:08,  7.17s/it]"
     ]
    },
    {
     "name": "stderr",
     "output_type": "stream",
     "text": [
      "\r",
      "Generating responses:  46%|#############################5                                   | 91/200 [10:47<12:55,  7.11s/it]"
     ]
    },
    {
     "name": "stderr",
     "output_type": "stream",
     "text": [
      "\r",
      "Generating responses:  46%|#############################9                                   | 92/200 [10:52<12:46,  7.09s/it]"
     ]
    },
    {
     "name": "stderr",
     "output_type": "stream",
     "text": [
      "\r",
      "Generating responses:  46%|##############################2                                  | 93/200 [10:57<12:36,  7.07s/it]"
     ]
    },
    {
     "name": "stderr",
     "output_type": "stream",
     "text": [
      "\r",
      "Generating responses:  47%|##############################5                                  | 94/200 [11:03<12:28,  7.06s/it]"
     ]
    },
    {
     "name": "stderr",
     "output_type": "stream",
     "text": [
      "\r",
      "Generating responses:  48%|##############################8                                  | 95/200 [11:18<12:30,  7.15s/it]"
     ]
    },
    {
     "name": "stderr",
     "output_type": "stream",
     "text": [
      "\r",
      "Generating responses:  48%|###############################2                                 | 96/200 [11:26<12:23,  7.15s/it]"
     ]
    },
    {
     "name": "stderr",
     "output_type": "stream",
     "text": [
      "\r",
      "Generating responses:  48%|###############################5                                 | 97/200 [11:33<12:16,  7.15s/it]"
     ]
    },
    {
     "name": "stderr",
     "output_type": "stream",
     "text": [
      "\r",
      "Generating responses:  49%|###############################8                                 | 98/200 [11:41<12:09,  7.15s/it]"
     ]
    },
    {
     "name": "stderr",
     "output_type": "stream",
     "text": [
      "\r",
      "Generating responses:  50%|################################1                                | 99/200 [11:49<12:03,  7.16s/it]"
     ]
    },
    {
     "name": "stderr",
     "output_type": "stream",
     "text": [
      "\r",
      "Generating responses:  50%|################################                                | 100/200 [11:57<11:57,  7.17s/it]"
     ]
    },
    {
     "name": "stderr",
     "output_type": "stream",
     "text": [
      "\r",
      "Generating responses:  50%|################################3                               | 101/200 [12:04<11:50,  7.17s/it]"
     ]
    },
    {
     "name": "stderr",
     "output_type": "stream",
     "text": [
      "\r",
      "Generating responses:  51%|################################6                               | 102/200 [12:13<11:44,  7.19s/it]"
     ]
    },
    {
     "name": "stderr",
     "output_type": "stream",
     "text": [
      "\r",
      "Generating responses:  52%|################################9                               | 103/200 [12:21<11:38,  7.20s/it]"
     ]
    },
    {
     "name": "stderr",
     "output_type": "stream",
     "text": [
      "\r",
      "Generating responses:  52%|#################################2                              | 104/200 [12:27<11:30,  7.19s/it]"
     ]
    },
    {
     "name": "stderr",
     "output_type": "stream",
     "text": [
      "\r",
      "Generating responses:  52%|#################################6                              | 105/200 [12:28<11:17,  7.13s/it]"
     ]
    },
    {
     "name": "stderr",
     "output_type": "stream",
     "text": [
      "\r",
      "Generating responses:  53%|#################################9                              | 106/200 [12:31<11:06,  7.09s/it]"
     ]
    },
    {
     "name": "stderr",
     "output_type": "stream",
     "text": [
      "\r",
      "Generating responses:  54%|##################################2                             | 107/200 [12:35<10:56,  7.06s/it]"
     ]
    },
    {
     "name": "stderr",
     "output_type": "stream",
     "text": [
      "\r",
      "Generating responses:  54%|##################################5                             | 108/200 [12:46<10:53,  7.10s/it]"
     ]
    },
    {
     "name": "stderr",
     "output_type": "stream",
     "text": [
      "\r",
      "Generating responses:  55%|##################################8                             | 109/200 [12:54<10:46,  7.10s/it]"
     ]
    },
    {
     "name": "stderr",
     "output_type": "stream",
     "text": [
      "\r",
      "Generating responses:  55%|###################################2                            | 110/200 [13:03<10:40,  7.12s/it]"
     ]
    },
    {
     "name": "stderr",
     "output_type": "stream",
     "text": [
      "\r",
      "Generating responses:  56%|###################################5                            | 111/200 [13:10<10:33,  7.12s/it]"
     ]
    },
    {
     "name": "stderr",
     "output_type": "stream",
     "text": [
      "\r",
      "Generating responses:  56%|###################################8                            | 112/200 [13:21<10:29,  7.15s/it]"
     ]
    },
    {
     "name": "stderr",
     "output_type": "stream",
     "text": [
      "\r",
      "Generating responses:  56%|####################################1                           | 113/200 [13:27<10:21,  7.14s/it]"
     ]
    },
    {
     "name": "stderr",
     "output_type": "stream",
     "text": [
      "\r",
      "Generating responses:  57%|####################################4                           | 114/200 [13:34<10:14,  7.14s/it]"
     ]
    },
    {
     "name": "stderr",
     "output_type": "stream",
     "text": [
      "\r",
      "Generating responses:  57%|####################################8                           | 115/200 [13:37<10:04,  7.11s/it]"
     ]
    },
    {
     "name": "stderr",
     "output_type": "stream",
     "text": [
      "\r",
      "Generating responses:  58%|#####################################1                          | 116/200 [13:44<09:57,  7.11s/it]"
     ]
    },
    {
     "name": "stderr",
     "output_type": "stream",
     "text": [
      "\r",
      "Generating responses:  58%|#####################################4                          | 117/200 [13:53<09:51,  7.13s/it]"
     ]
    },
    {
     "name": "stderr",
     "output_type": "stream",
     "text": [
      "\r",
      "Generating responses:  59%|#####################################7                          | 118/200 [14:00<09:44,  7.12s/it]"
     ]
    },
    {
     "name": "stderr",
     "output_type": "stream",
     "text": [
      "\r",
      "Generating responses:  60%|######################################                          | 119/200 [14:12<09:39,  7.16s/it]"
     ]
    },
    {
     "name": "stderr",
     "output_type": "stream",
     "text": [
      "\r",
      "Generating responses:  60%|######################################4                         | 120/200 [14:21<09:34,  7.18s/it]"
     ]
    },
    {
     "name": "stderr",
     "output_type": "stream",
     "text": [
      "\r",
      "Generating responses:  60%|######################################7                         | 121/200 [14:29<09:27,  7.18s/it]"
     ]
    },
    {
     "name": "stderr",
     "output_type": "stream",
     "text": [
      "\r",
      "Generating responses:  61%|#######################################                         | 122/200 [14:41<09:23,  7.22s/it]"
     ]
    },
    {
     "name": "stderr",
     "output_type": "stream",
     "text": [
      "\r",
      "Generating responses:  62%|#######################################3                        | 123/200 [14:44<09:13,  7.19s/it]"
     ]
    },
    {
     "name": "stderr",
     "output_type": "stream",
     "text": [
      "\r",
      "Generating responses:  62%|#######################################6                        | 124/200 [14:48<09:04,  7.17s/it]"
     ]
    },
    {
     "name": "stderr",
     "output_type": "stream",
     "text": [
      "\r",
      "Generating responses:  62%|########################################                        | 125/200 [14:55<08:57,  7.16s/it]"
     ]
    },
    {
     "name": "stderr",
     "output_type": "stream",
     "text": [
      "\r",
      "Generating responses:  63%|########################################3                       | 126/200 [15:04<08:51,  7.18s/it]"
     ]
    },
    {
     "name": "stderr",
     "output_type": "stream",
     "text": [
      "\r",
      "Generating responses:  64%|########################################6                       | 127/200 [15:11<08:44,  7.18s/it]"
     ]
    },
    {
     "name": "stderr",
     "output_type": "stream",
     "text": [
      "\r",
      "Generating responses:  64%|########################################9                       | 128/200 [15:20<08:37,  7.19s/it]"
     ]
    },
    {
     "name": "stderr",
     "output_type": "stream",
     "text": [
      "\r",
      "Generating responses:  64%|#########################################2                      | 129/200 [15:28<08:31,  7.20s/it]"
     ]
    },
    {
     "name": "stderr",
     "output_type": "stream",
     "text": [
      "\r",
      "Generating responses:  65%|#########################################6                      | 130/200 [15:36<08:24,  7.20s/it]"
     ]
    },
    {
     "name": "stderr",
     "output_type": "stream",
     "text": [
      "\r",
      "Generating responses:  66%|#########################################9                      | 131/200 [15:40<08:15,  7.18s/it]"
     ]
    },
    {
     "name": "stderr",
     "output_type": "stream",
     "text": [
      "\r",
      "Generating responses:  66%|##########################################2                     | 132/200 [15:49<08:09,  7.19s/it]"
     ]
    },
    {
     "name": "stderr",
     "output_type": "stream",
     "text": [
      "\r",
      "Generating responses:  66%|##########################################5                     | 133/200 [15:57<08:02,  7.20s/it]"
     ]
    },
    {
     "name": "stderr",
     "output_type": "stream",
     "text": [
      "\r",
      "Generating responses:  67%|##########################################8                     | 134/200 [16:06<07:55,  7.21s/it]"
     ]
    },
    {
     "name": "stderr",
     "output_type": "stream",
     "text": [
      "\r",
      "Generating responses:  68%|###########################################2                    | 135/200 [16:08<07:46,  7.17s/it]"
     ]
    },
    {
     "name": "stderr",
     "output_type": "stream",
     "text": [
      "\r",
      "Generating responses:  68%|###########################################5                    | 136/200 [16:14<07:38,  7.17s/it]"
     ]
    },
    {
     "name": "stderr",
     "output_type": "stream",
     "text": [
      "\r",
      "Generating responses:  68%|###########################################8                    | 137/200 [16:21<07:31,  7.16s/it]"
     ]
    },
    {
     "name": "stderr",
     "output_type": "stream",
     "text": [
      "\r",
      "Generating responses:  69%|############################################1                   | 138/200 [16:26<07:23,  7.15s/it]"
     ]
    },
    {
     "name": "stderr",
     "output_type": "stream",
     "text": [
      "\r",
      "Generating responses:  70%|############################################4                   | 139/200 [16:36<07:17,  7.17s/it]"
     ]
    },
    {
     "name": "stderr",
     "output_type": "stream",
     "text": [
      "\r",
      "Generating responses:  70%|############################################8                   | 140/200 [16:45<07:11,  7.19s/it]"
     ]
    },
    {
     "name": "stderr",
     "output_type": "stream",
     "text": [
      "\r",
      "Generating responses:  70%|#############################################1                  | 141/200 [16:52<07:03,  7.18s/it]"
     ]
    },
    {
     "name": "stderr",
     "output_type": "stream",
     "text": [
      "\r",
      "Generating responses:  71%|#############################################4                  | 142/200 [17:00<06:56,  7.19s/it]"
     ]
    },
    {
     "name": "stderr",
     "output_type": "stream",
     "text": [
      "\r",
      "Generating responses:  72%|#############################################7                  | 143/200 [17:02<06:47,  7.15s/it]"
     ]
    },
    {
     "name": "stderr",
     "output_type": "stream",
     "text": [
      "\r",
      "Generating responses:  72%|##############################################                  | 144/200 [17:09<06:40,  7.15s/it]"
     ]
    },
    {
     "name": "stderr",
     "output_type": "stream",
     "text": [
      "\r",
      "Generating responses:  72%|##############################################4                 | 145/200 [17:14<06:32,  7.14s/it]"
     ]
    },
    {
     "name": "stderr",
     "output_type": "stream",
     "text": [
      "\r",
      "Generating responses:  73%|##############################################7                 | 146/200 [17:23<06:26,  7.15s/it]"
     ]
    },
    {
     "name": "stderr",
     "output_type": "stream",
     "text": [
      "\r",
      "Generating responses:  74%|###############################################                 | 147/200 [17:31<06:19,  7.16s/it]"
     ]
    },
    {
     "name": "stderr",
     "output_type": "stream",
     "text": [
      "\r",
      "Generating responses:  74%|###############################################3                | 148/200 [17:39<06:12,  7.16s/it]"
     ]
    },
    {
     "name": "stderr",
     "output_type": "stream",
     "text": [
      "\r",
      "Generating responses:  74%|###############################################6                | 149/200 [17:42<06:03,  7.13s/it]"
     ]
    },
    {
     "name": "stderr",
     "output_type": "stream",
     "text": [
      "\r",
      "Generating responses:  75%|################################################                | 150/200 [17:48<05:56,  7.12s/it]"
     ]
    },
    {
     "name": "stderr",
     "output_type": "stream",
     "text": [
      "\r",
      "Generating responses:  76%|################################################3               | 151/200 [17:53<05:48,  7.11s/it]"
     ]
    },
    {
     "name": "stderr",
     "output_type": "stream",
     "text": [
      "\r",
      "Generating responses:  76%|################################################6               | 152/200 [18:02<05:41,  7.12s/it]"
     ]
    },
    {
     "name": "stderr",
     "output_type": "stream",
     "text": [
      "\r",
      "Generating responses:  76%|################################################9               | 153/200 [18:08<05:34,  7.11s/it]"
     ]
    },
    {
     "name": "stderr",
     "output_type": "stream",
     "text": [
      "\r",
      "Generating responses:  77%|#################################################2              | 154/200 [18:18<05:28,  7.13s/it]"
     ]
    },
    {
     "name": "stderr",
     "output_type": "stream",
     "text": [
      "\r",
      "Generating responses:  78%|#################################################6              | 155/200 [18:24<05:20,  7.13s/it]"
     ]
    },
    {
     "name": "stderr",
     "output_type": "stream",
     "text": [
      "\r",
      "Generating responses:  78%|#################################################9              | 156/200 [18:31<05:13,  7.12s/it]"
     ]
    },
    {
     "name": "stderr",
     "output_type": "stream",
     "text": [
      "\r",
      "Generating responses:  78%|##################################################2             | 157/200 [18:37<05:06,  7.12s/it]"
     ]
    },
    {
     "name": "stderr",
     "output_type": "stream",
     "text": [
      "\r",
      "Generating responses:  79%|##################################################5             | 158/200 [18:43<04:58,  7.11s/it]"
     ]
    },
    {
     "name": "stderr",
     "output_type": "stream",
     "text": [
      "\r",
      "Generating responses:  80%|##################################################8             | 159/200 [18:57<04:53,  7.15s/it]"
     ]
    },
    {
     "name": "stderr",
     "output_type": "stream",
     "text": [
      "\r",
      "Generating responses:  80%|###################################################2            | 160/200 [19:01<04:45,  7.14s/it]"
     ]
    },
    {
     "name": "stderr",
     "output_type": "stream",
     "text": [
      "\r",
      "Generating responses:  80%|###################################################5            | 161/200 [19:07<04:38,  7.13s/it]"
     ]
    },
    {
     "name": "stderr",
     "output_type": "stream",
     "text": [
      "\r",
      "Generating responses:  81%|###################################################8            | 162/200 [19:09<04:29,  7.10s/it]"
     ]
    },
    {
     "name": "stderr",
     "output_type": "stream",
     "text": [
      "\r",
      "Generating responses:  82%|####################################################1           | 163/200 [19:11<04:21,  7.07s/it]"
     ]
    },
    {
     "name": "stderr",
     "output_type": "stream",
     "text": [
      "\r",
      "Generating responses:  82%|####################################################4           | 164/200 [19:18<04:14,  7.06s/it]"
     ]
    },
    {
     "name": "stderr",
     "output_type": "stream",
     "text": [
      "\r",
      "Generating responses:  82%|####################################################8           | 165/200 [19:23<04:06,  7.05s/it]"
     ]
    },
    {
     "name": "stderr",
     "output_type": "stream",
     "text": [
      "\r",
      "Generating responses:  83%|#####################################################1          | 166/200 [19:31<03:59,  7.05s/it]"
     ]
    },
    {
     "name": "stderr",
     "output_type": "stream",
     "text": [
      "\r",
      "Generating responses:  84%|#####################################################4          | 167/200 [19:37<03:52,  7.05s/it]"
     ]
    },
    {
     "name": "stderr",
     "output_type": "stream",
     "text": [
      "\r",
      "Generating responses:  84%|#####################################################7          | 168/200 [19:44<03:45,  7.05s/it]"
     ]
    },
    {
     "name": "stderr",
     "output_type": "stream",
     "text": [
      "\r",
      "Generating responses:  84%|######################################################          | 169/200 [19:54<03:39,  7.07s/it]"
     ]
    },
    {
     "name": "stderr",
     "output_type": "stream",
     "text": [
      "\r",
      "Generating responses:  85%|######################################################4         | 170/200 [20:03<03:32,  7.08s/it]"
     ]
    },
    {
     "name": "stderr",
     "output_type": "stream",
     "text": [
      "\r",
      "Generating responses:  86%|######################################################7         | 171/200 [20:15<03:26,  7.11s/it]"
     ]
    },
    {
     "name": "stderr",
     "output_type": "stream",
     "text": [
      "\r",
      "Generating responses:  86%|#######################################################         | 172/200 [20:22<03:18,  7.11s/it]"
     ]
    },
    {
     "name": "stderr",
     "output_type": "stream",
     "text": [
      "\r",
      "Generating responses:  86%|#######################################################3        | 173/200 [20:29<03:11,  7.11s/it]"
     ]
    },
    {
     "name": "stderr",
     "output_type": "stream",
     "text": [
      "\r",
      "Generating responses:  87%|#######################################################6        | 174/200 [20:35<03:04,  7.10s/it]"
     ]
    },
    {
     "name": "stderr",
     "output_type": "stream",
     "text": [
      "\r",
      "Generating responses:  88%|########################################################        | 175/200 [20:41<02:57,  7.09s/it]"
     ]
    },
    {
     "name": "stderr",
     "output_type": "stream",
     "text": [
      "\r",
      "Generating responses:  88%|########################################################3       | 176/200 [20:50<02:50,  7.10s/it]"
     ]
    },
    {
     "name": "stderr",
     "output_type": "stream",
     "text": [
      "\r",
      "Generating responses:  88%|########################################################6       | 177/200 [20:53<02:42,  7.08s/it]"
     ]
    },
    {
     "name": "stderr",
     "output_type": "stream",
     "text": [
      "\r",
      "Generating responses:  89%|########################################################9       | 178/200 [21:03<02:36,  7.10s/it]"
     ]
    },
    {
     "name": "stderr",
     "output_type": "stream",
     "text": [
      "\r",
      "Generating responses:  90%|#########################################################2      | 179/200 [21:10<02:29,  7.10s/it]"
     ]
    },
    {
     "name": "stderr",
     "output_type": "stream",
     "text": [
      "\r",
      "Generating responses:  90%|#########################################################6      | 180/200 [21:16<02:21,  7.09s/it]"
     ]
    },
    {
     "name": "stderr",
     "output_type": "stream",
     "text": [
      "\r",
      "Generating responses:  90%|#########################################################9      | 181/200 [21:27<02:15,  7.11s/it]"
     ]
    },
    {
     "name": "stderr",
     "output_type": "stream",
     "text": [
      "\r",
      "Generating responses:  91%|##########################################################2     | 182/200 [21:34<02:08,  7.11s/it]"
     ]
    },
    {
     "name": "stderr",
     "output_type": "stream",
     "text": [
      "\r",
      "Generating responses:  92%|##########################################################5     | 183/200 [21:48<02:01,  7.15s/it]"
     ]
    },
    {
     "name": "stderr",
     "output_type": "stream",
     "text": [
      "\r",
      "Generating responses:  92%|##########################################################8     | 184/200 [21:57<01:54,  7.16s/it]"
     ]
    },
    {
     "name": "stderr",
     "output_type": "stream",
     "text": [
      "\r",
      "Generating responses:  92%|###########################################################2    | 185/200 [22:03<01:47,  7.15s/it]"
     ]
    },
    {
     "name": "stderr",
     "output_type": "stream",
     "text": [
      "\r",
      "Generating responses:  93%|###########################################################5    | 186/200 [22:09<01:40,  7.15s/it]"
     ]
    },
    {
     "name": "stderr",
     "output_type": "stream",
     "text": [
      "\r",
      "Generating responses:  94%|###########################################################8    | 187/200 [22:18<01:33,  7.16s/it]"
     ]
    },
    {
     "name": "stderr",
     "output_type": "stream",
     "text": [
      "\r",
      "Generating responses:  94%|############################################################1   | 188/200 [22:24<01:25,  7.15s/it]"
     ]
    },
    {
     "name": "stderr",
     "output_type": "stream",
     "text": [
      "\r",
      "Generating responses:  94%|############################################################4   | 189/200 [22:31<01:18,  7.15s/it]"
     ]
    },
    {
     "name": "stderr",
     "output_type": "stream",
     "text": [
      "\r",
      "Generating responses:  95%|############################################################8   | 190/200 [22:42<01:11,  7.17s/it]"
     ]
    },
    {
     "name": "stderr",
     "output_type": "stream",
     "text": [
      "\r",
      "Generating responses:  96%|#############################################################1  | 191/200 [22:50<01:04,  7.18s/it]"
     ]
    },
    {
     "name": "stderr",
     "output_type": "stream",
     "text": [
      "\r",
      "Generating responses:  96%|#############################################################4  | 192/200 [22:57<00:57,  7.18s/it]"
     ]
    },
    {
     "name": "stderr",
     "output_type": "stream",
     "text": [
      "\r",
      "Generating responses:  96%|#############################################################7  | 193/200 [23:08<00:50,  7.19s/it]"
     ]
    },
    {
     "name": "stderr",
     "output_type": "stream",
     "text": [
      "\r",
      "Generating responses:  97%|##############################################################  | 194/200 [23:15<00:43,  7.19s/it]"
     ]
    },
    {
     "name": "stderr",
     "output_type": "stream",
     "text": [
      "\r",
      "Generating responses:  98%|##############################################################4 | 195/200 [23:21<00:35,  7.19s/it]"
     ]
    },
    {
     "name": "stderr",
     "output_type": "stream",
     "text": [
      "\r",
      "Generating responses:  98%|##############################################################7 | 196/200 [23:25<00:28,  7.17s/it]"
     ]
    },
    {
     "name": "stderr",
     "output_type": "stream",
     "text": [
      "\r",
      "Generating responses:  98%|############################################################### | 197/200 [23:34<00:21,  7.18s/it]"
     ]
    },
    {
     "name": "stderr",
     "output_type": "stream",
     "text": [
      "\r",
      "Generating responses:  99%|###############################################################3| 198/200 [23:38<00:14,  7.16s/it]"
     ]
    },
    {
     "name": "stderr",
     "output_type": "stream",
     "text": [
      "\r",
      "Generating responses: 100%|###############################################################6| 199/200 [23:51<00:07,  7.20s/it]"
     ]
    },
    {
     "name": "stderr",
     "output_type": "stream",
     "text": [
      "\r",
      "Generating responses: 100%|################################################################| 200/200 [23:58<00:00,  7.19s/it]"
     ]
    },
    {
     "name": "stderr",
     "output_type": "stream",
     "text": [
      "\r",
      "Generating responses: 100%|################################################################| 200/200 [23:58<00:00,  7.19s/it]"
     ]
    },
    {
     "name": "stderr",
     "output_type": "stream",
     "text": [
      "\n"
     ]
    },
    {
     "name": "stdout",
     "output_type": "stream",
     "text": [
      "Generating responses for:  temp/gpt-3.5-turbo_responses.json\n"
     ]
    },
    {
     "name": "stderr",
     "output_type": "stream",
     "text": [
      "\r",
      "Generating responses:   0%|                                                                      | 0/200 [00:00<?, ?it/s]"
     ]
    },
    {
     "name": "stderr",
     "output_type": "stream",
     "text": [
      "\r",
      "Generating responses:   0%|3                                                             | 1/200 [00:01<06:01,  1.82s/it]"
     ]
    },
    {
     "name": "stderr",
     "output_type": "stream",
     "text": [
      "\r",
      "Generating responses:   1%|6                                                             | 2/200 [00:03<06:04,  1.84s/it]"
     ]
    },
    {
     "name": "stderr",
     "output_type": "stream",
     "text": [
      "\r",
      "Generating responses:   2%|9                                                             | 3/200 [00:04<05:24,  1.65s/it]"
     ]
    },
    {
     "name": "stderr",
     "output_type": "stream",
     "text": [
      "\r",
      "Generating responses:   2%|#2                                                            | 4/200 [00:07<05:51,  1.79s/it]"
     ]
    },
    {
     "name": "stderr",
     "output_type": "stream",
     "text": [
      "\r",
      "Generating responses:   2%|#5                                                            | 5/200 [00:08<05:31,  1.70s/it]"
     ]
    },
    {
     "name": "stderr",
     "output_type": "stream",
     "text": [
      "\r",
      "Generating responses:   3%|#8                                                            | 6/200 [00:09<05:03,  1.56s/it]"
     ]
    },
    {
     "name": "stderr",
     "output_type": "stream",
     "text": [
      "\r",
      "Generating responses:   4%|##1                                                           | 7/200 [00:10<04:56,  1.53s/it]"
     ]
    },
    {
     "name": "stderr",
     "output_type": "stream",
     "text": [
      "\r",
      "Generating responses:   4%|##4                                                           | 8/200 [00:11<04:43,  1.48s/it]"
     ]
    },
    {
     "name": "stderr",
     "output_type": "stream",
     "text": [
      "\r",
      "Generating responses:   4%|##7                                                           | 9/200 [00:13<04:44,  1.49s/it]"
     ]
    },
    {
     "name": "stderr",
     "output_type": "stream",
     "text": [
      "\r",
      "Generating responses:   5%|###                                                          | 10/200 [00:14<04:39,  1.47s/it]"
     ]
    },
    {
     "name": "stderr",
     "output_type": "stream",
     "text": [
      "\r",
      "Generating responses:   6%|###3                                                         | 11/200 [00:16<04:35,  1.46s/it]"
     ]
    },
    {
     "name": "stderr",
     "output_type": "stream",
     "text": [
      "\r",
      "Generating responses:   6%|###6                                                         | 12/200 [00:16<04:24,  1.41s/it]"
     ]
    },
    {
     "name": "stderr",
     "output_type": "stream",
     "text": [
      "\r",
      "Generating responses:   6%|###9                                                         | 13/200 [00:17<04:14,  1.36s/it]"
     ]
    },
    {
     "name": "stderr",
     "output_type": "stream",
     "text": [
      "\r",
      "Generating responses:   7%|####2                                                        | 14/200 [00:19<04:18,  1.39s/it]"
     ]
    },
    {
     "name": "stderr",
     "output_type": "stream",
     "text": [
      "\r",
      "Generating responses:   8%|####5                                                        | 15/200 [00:20<04:10,  1.35s/it]"
     ]
    },
    {
     "name": "stderr",
     "output_type": "stream",
     "text": [
      "\r",
      "Generating responses:   8%|####8                                                        | 16/200 [00:21<04:11,  1.36s/it]"
     ]
    },
    {
     "name": "stderr",
     "output_type": "stream",
     "text": [
      "\r",
      "Generating responses:   8%|#####1                                                       | 17/200 [00:24<04:22,  1.43s/it]"
     ]
    },
    {
     "name": "stderr",
     "output_type": "stream",
     "text": [
      "\r",
      "Generating responses:   9%|#####4                                                       | 18/200 [00:26<04:30,  1.49s/it]"
     ]
    },
    {
     "name": "stderr",
     "output_type": "stream",
     "text": [
      "\r",
      "Generating responses:  10%|#####7                                                       | 19/200 [00:27<04:25,  1.47s/it]"
     ]
    },
    {
     "name": "stderr",
     "output_type": "stream",
     "text": [
      "\r",
      "Generating responses:  10%|######1                                                      | 20/200 [00:29<04:23,  1.46s/it]"
     ]
    },
    {
     "name": "stderr",
     "output_type": "stream",
     "text": [
      "\r",
      "Generating responses:  10%|######4                                                      | 21/200 [00:30<04:20,  1.45s/it]"
     ]
    },
    {
     "name": "stderr",
     "output_type": "stream",
     "text": [
      "\r",
      "Generating responses:  11%|######7                                                      | 22/200 [00:31<04:17,  1.44s/it]"
     ]
    },
    {
     "name": "stderr",
     "output_type": "stream",
     "text": [
      "\r",
      "Generating responses:  12%|#######                                                      | 23/200 [00:33<04:16,  1.45s/it]"
     ]
    },
    {
     "name": "stderr",
     "output_type": "stream",
     "text": [
      "\r",
      "Generating responses:  12%|#######3                                                     | 24/200 [00:34<04:11,  1.43s/it]"
     ]
    },
    {
     "name": "stderr",
     "output_type": "stream",
     "text": [
      "\r",
      "Generating responses:  12%|#######6                                                     | 25/200 [00:36<04:15,  1.46s/it]"
     ]
    },
    {
     "name": "stderr",
     "output_type": "stream",
     "text": [
      "\r",
      "Generating responses:  13%|#######9                                                     | 26/200 [00:39<04:26,  1.53s/it]"
     ]
    },
    {
     "name": "stderr",
     "output_type": "stream",
     "text": [
      "\r",
      "Generating responses:  14%|########2                                                    | 27/200 [00:41<04:23,  1.52s/it]"
     ]
    },
    {
     "name": "stderr",
     "output_type": "stream",
     "text": [
      "\r",
      "Generating responses:  14%|########5                                                    | 28/200 [00:42<04:18,  1.51s/it]"
     ]
    },
    {
     "name": "stderr",
     "output_type": "stream",
     "text": [
      "\r",
      "Generating responses:  14%|########8                                                    | 29/200 [00:43<04:15,  1.49s/it]"
     ]
    },
    {
     "name": "stderr",
     "output_type": "stream",
     "text": [
      "\r",
      "Generating responses:  15%|#########1                                                   | 30/200 [00:45<04:15,  1.50s/it]"
     ]
    },
    {
     "name": "stderr",
     "output_type": "stream",
     "text": [
      "\r",
      "Generating responses:  16%|#########4                                                   | 31/200 [00:46<04:13,  1.50s/it]"
     ]
    },
    {
     "name": "stderr",
     "output_type": "stream",
     "text": [
      "\r",
      "Generating responses:  16%|#########7                                                   | 32/200 [00:48<04:15,  1.52s/it]"
     ]
    },
    {
     "name": "stderr",
     "output_type": "stream",
     "text": [
      "\r",
      "Generating responses:  16%|##########                                                   | 33/200 [00:49<04:12,  1.51s/it]"
     ]
    },
    {
     "name": "stderr",
     "output_type": "stream",
     "text": [
      "\r",
      "Generating responses:  17%|##########3                                                  | 34/200 [00:50<04:08,  1.50s/it]"
     ]
    },
    {
     "name": "stderr",
     "output_type": "stream",
     "text": [
      "\r",
      "Generating responses:  18%|##########6                                                  | 35/200 [00:53<04:12,  1.53s/it]"
     ]
    },
    {
     "name": "stderr",
     "output_type": "stream",
     "text": [
      "\r",
      "Generating responses:  18%|##########9                                                  | 36/200 [00:55<04:10,  1.53s/it]"
     ]
    },
    {
     "name": "stderr",
     "output_type": "stream",
     "text": [
      "\r",
      "Generating responses:  18%|###########2                                                 | 37/200 [00:58<04:18,  1.58s/it]"
     ]
    },
    {
     "name": "stderr",
     "output_type": "stream",
     "text": [
      "\r",
      "Generating responses:  19%|###########5                                                 | 38/200 [01:03<04:30,  1.67s/it]"
     ]
    },
    {
     "name": "stderr",
     "output_type": "stream",
     "text": [
      "\r",
      "Generating responses:  20%|###########8                                                 | 39/200 [01:04<04:28,  1.67s/it]"
     ]
    },
    {
     "name": "stderr",
     "output_type": "stream",
     "text": [
      "\r",
      "Generating responses:  20%|############2                                                | 40/200 [01:07<04:29,  1.69s/it]"
     ]
    },
    {
     "name": "stderr",
     "output_type": "stream",
     "text": [
      "\r",
      "Generating responses:  20%|############5                                                | 41/200 [01:07<04:23,  1.66s/it]"
     ]
    },
    {
     "name": "stderr",
     "output_type": "stream",
     "text": [
      "\r",
      "Generating responses:  21%|############8                                                | 42/200 [01:09<04:20,  1.65s/it]"
     ]
    },
    {
     "name": "stderr",
     "output_type": "stream",
     "text": [
      "\r",
      "Generating responses:  22%|#############1                                               | 43/200 [01:10<04:17,  1.64s/it]"
     ]
    },
    {
     "name": "stderr",
     "output_type": "stream",
     "text": [
      "\r",
      "Generating responses:  22%|#############4                                               | 44/200 [01:12<04:16,  1.65s/it]"
     ]
    },
    {
     "name": "stderr",
     "output_type": "stream",
     "text": [
      "\r",
      "Generating responses:  22%|#############7                                               | 45/200 [01:15<04:18,  1.67s/it]"
     ]
    },
    {
     "name": "stderr",
     "output_type": "stream",
     "text": [
      "\r",
      "Generating responses:  23%|##############                                               | 46/200 [01:17<04:18,  1.68s/it]"
     ]
    },
    {
     "name": "stderr",
     "output_type": "stream",
     "text": [
      "\r",
      "Generating responses:  24%|##############3                                              | 47/200 [01:18<04:15,  1.67s/it]"
     ]
    },
    {
     "name": "stderr",
     "output_type": "stream",
     "text": [
      "\r",
      "Generating responses:  24%|##############6                                              | 48/200 [01:19<04:12,  1.66s/it]"
     ]
    },
    {
     "name": "stderr",
     "output_type": "stream",
     "text": [
      "\r",
      "Generating responses:  24%|##############9                                              | 49/200 [01:20<04:09,  1.65s/it]"
     ]
    },
    {
     "name": "stderr",
     "output_type": "stream",
     "text": [
      "\r",
      "Generating responses:  25%|###############2                                             | 50/200 [01:21<04:05,  1.64s/it]"
     ]
    },
    {
     "name": "stderr",
     "output_type": "stream",
     "text": [
      "\r",
      "Generating responses:  26%|###############5                                             | 51/200 [01:26<04:11,  1.69s/it]"
     ]
    },
    {
     "name": "stderr",
     "output_type": "stream",
     "text": [
      "\r",
      "Generating responses:  26%|###############8                                             | 52/200 [01:27<04:08,  1.68s/it]"
     ]
    },
    {
     "name": "stderr",
     "output_type": "stream",
     "text": [
      "\r",
      "Generating responses:  26%|################1                                            | 53/200 [01:28<04:05,  1.67s/it]"
     ]
    },
    {
     "name": "stderr",
     "output_type": "stream",
     "text": [
      "\r",
      "Generating responses:  27%|################4                                            | 54/200 [01:29<04:01,  1.66s/it]"
     ]
    },
    {
     "name": "stderr",
     "output_type": "stream",
     "text": [
      "\r",
      "Generating responses:  28%|################7                                            | 55/200 [01:30<03:59,  1.65s/it]"
     ]
    },
    {
     "name": "stderr",
     "output_type": "stream",
     "text": [
      "\r",
      "Generating responses:  28%|#################                                            | 56/200 [01:32<03:58,  1.66s/it]"
     ]
    },
    {
     "name": "stderr",
     "output_type": "stream",
     "text": [
      "\r",
      "Generating responses:  28%|#################3                                           | 57/200 [01:33<03:55,  1.64s/it]"
     ]
    },
    {
     "name": "stderr",
     "output_type": "stream",
     "text": [
      "\r",
      "Generating responses:  29%|#################6                                           | 58/200 [01:34<03:52,  1.63s/it]"
     ]
    },
    {
     "name": "stderr",
     "output_type": "stream",
     "text": [
      "\r",
      "Generating responses:  30%|#################9                                           | 59/200 [01:36<03:51,  1.64s/it]"
     ]
    },
    {
     "name": "stderr",
     "output_type": "stream",
     "text": [
      "\r",
      "Generating responses:  30%|##################3                                          | 60/200 [01:38<03:49,  1.64s/it]"
     ]
    },
    {
     "name": "stderr",
     "output_type": "stream",
     "text": [
      "\r",
      "Generating responses:  30%|##################6                                          | 61/200 [01:39<03:46,  1.63s/it]"
     ]
    },
    {
     "name": "stderr",
     "output_type": "stream",
     "text": [
      "\r",
      "Generating responses:  31%|##################9                                          | 62/200 [01:41<03:45,  1.63s/it]"
     ]
    },
    {
     "name": "stderr",
     "output_type": "stream",
     "text": [
      "\r",
      "Generating responses:  32%|###################2                                         | 63/200 [01:43<03:45,  1.65s/it]"
     ]
    },
    {
     "name": "stderr",
     "output_type": "stream",
     "text": [
      "\r",
      "Generating responses:  32%|###################5                                         | 64/200 [01:45<03:43,  1.64s/it]"
     ]
    },
    {
     "name": "stderr",
     "output_type": "stream",
     "text": [
      "\r",
      "Generating responses:  32%|###################8                                         | 65/200 [01:47<03:43,  1.66s/it]"
     ]
    },
    {
     "name": "stderr",
     "output_type": "stream",
     "text": [
      "\r",
      "Generating responses:  33%|####################1                                        | 66/200 [01:49<03:41,  1.65s/it]"
     ]
    },
    {
     "name": "stderr",
     "output_type": "stream",
     "text": [
      "\r",
      "Generating responses:  34%|####################4                                        | 67/200 [01:50<03:39,  1.65s/it]"
     ]
    },
    {
     "name": "stderr",
     "output_type": "stream",
     "text": [
      "\r",
      "Generating responses:  34%|####################7                                        | 68/200 [01:51<03:36,  1.64s/it]"
     ]
    },
    {
     "name": "stderr",
     "output_type": "stream",
     "text": [
      "\r",
      "Generating responses:  34%|#####################                                        | 69/200 [01:53<03:35,  1.65s/it]"
     ]
    },
    {
     "name": "stderr",
     "output_type": "stream",
     "text": [
      "\r",
      "Generating responses:  35%|#####################3                                       | 70/200 [01:56<03:36,  1.66s/it]"
     ]
    },
    {
     "name": "stderr",
     "output_type": "stream",
     "text": [
      "\r",
      "Generating responses:  36%|#####################6                                       | 71/200 [01:57<03:33,  1.66s/it]"
     ]
    },
    {
     "name": "stderr",
     "output_type": "stream",
     "text": [
      "\r",
      "Generating responses:  36%|#####################9                                       | 72/200 [02:00<03:33,  1.67s/it]"
     ]
    },
    {
     "name": "stderr",
     "output_type": "stream",
     "text": [
      "\r",
      "Generating responses:  36%|######################2                                      | 73/200 [02:01<03:30,  1.66s/it]"
     ]
    },
    {
     "name": "stderr",
     "output_type": "stream",
     "text": [
      "\r",
      "Generating responses:  37%|######################5                                      | 74/200 [02:02<03:27,  1.65s/it]"
     ]
    },
    {
     "name": "stderr",
     "output_type": "stream",
     "text": [
      "\r",
      "Generating responses:  38%|######################8                                      | 75/200 [02:03<03:25,  1.65s/it]"
     ]
    },
    {
     "name": "stderr",
     "output_type": "stream",
     "text": [
      "\r",
      "Generating responses:  38%|#######################1                                     | 76/200 [02:04<03:23,  1.64s/it]"
     ]
    },
    {
     "name": "stderr",
     "output_type": "stream",
     "text": [
      "\r",
      "Generating responses:  38%|#######################4                                     | 77/200 [02:06<03:21,  1.64s/it]"
     ]
    },
    {
     "name": "stderr",
     "output_type": "stream",
     "text": [
      "\r",
      "Generating responses:  39%|#######################7                                     | 78/200 [02:06<03:18,  1.62s/it]"
     ]
    },
    {
     "name": "stderr",
     "output_type": "stream",
     "text": [
      "\r",
      "Generating responses:  40%|########################                                     | 79/200 [02:08<03:17,  1.63s/it]"
     ]
    },
    {
     "name": "stderr",
     "output_type": "stream",
     "text": [
      "\r",
      "Generating responses:  40%|########################4                                    | 80/200 [02:11<03:17,  1.64s/it]"
     ]
    },
    {
     "name": "stderr",
     "output_type": "stream",
     "text": [
      "\r",
      "Generating responses:  40%|########################7                                    | 81/200 [02:14<03:17,  1.66s/it]"
     ]
    },
    {
     "name": "stderr",
     "output_type": "stream",
     "text": [
      "\r",
      "Generating responses:  41%|#########################                                    | 82/200 [02:15<03:14,  1.65s/it]"
     ]
    },
    {
     "name": "stderr",
     "output_type": "stream",
     "text": [
      "\r",
      "Generating responses:  42%|#########################3                                   | 83/200 [02:16<03:11,  1.64s/it]"
     ]
    },
    {
     "name": "stderr",
     "output_type": "stream",
     "text": [
      "\r",
      "Generating responses:  42%|#########################6                                   | 84/200 [02:17<03:09,  1.63s/it]"
     ]
    },
    {
     "name": "stderr",
     "output_type": "stream",
     "text": [
      "\r",
      "Generating responses:  42%|#########################9                                   | 85/200 [02:20<03:09,  1.65s/it]"
     ]
    },
    {
     "name": "stderr",
     "output_type": "stream",
     "text": [
      "\r",
      "Generating responses:  43%|##########################2                                  | 86/200 [02:21<03:08,  1.65s/it]"
     ]
    },
    {
     "name": "stderr",
     "output_type": "stream",
     "text": [
      "\r",
      "Generating responses:  44%|##########################5                                  | 87/200 [02:25<03:08,  1.67s/it]"
     ]
    },
    {
     "name": "stderr",
     "output_type": "stream",
     "text": [
      "\r",
      "Generating responses:  44%|##########################8                                  | 88/200 [02:26<03:06,  1.67s/it]"
     ]
    },
    {
     "name": "stderr",
     "output_type": "stream",
     "text": [
      "\r",
      "Generating responses:  44%|###########################1                                 | 89/200 [02:28<03:05,  1.67s/it]"
     ]
    },
    {
     "name": "stderr",
     "output_type": "stream",
     "text": [
      "\r",
      "Generating responses:  45%|###########################4                                 | 90/200 [02:30<03:04,  1.67s/it]"
     ]
    },
    {
     "name": "stderr",
     "output_type": "stream",
     "text": [
      "\r",
      "Generating responses:  46%|###########################7                                 | 91/200 [02:31<03:01,  1.66s/it]"
     ]
    },
    {
     "name": "stderr",
     "output_type": "stream",
     "text": [
      "\r",
      "Generating responses:  46%|############################                                 | 92/200 [02:32<02:59,  1.66s/it]"
     ]
    },
    {
     "name": "stderr",
     "output_type": "stream",
     "text": [
      "\r",
      "Generating responses:  46%|############################3                                | 93/200 [02:34<02:57,  1.66s/it]"
     ]
    },
    {
     "name": "stderr",
     "output_type": "stream",
     "text": [
      "\r",
      "Generating responses:  47%|############################6                                | 94/200 [02:35<02:55,  1.66s/it]"
     ]
    },
    {
     "name": "stderr",
     "output_type": "stream",
     "text": [
      "\r",
      "Generating responses:  48%|############################9                                | 95/200 [02:37<02:54,  1.66s/it]"
     ]
    },
    {
     "name": "stderr",
     "output_type": "stream",
     "text": [
      "\r",
      "Generating responses:  48%|#############################2                               | 96/200 [02:39<02:52,  1.66s/it]"
     ]
    },
    {
     "name": "stderr",
     "output_type": "stream",
     "text": [
      "\r",
      "Generating responses:  48%|#############################5                               | 97/200 [02:42<02:52,  1.68s/it]"
     ]
    },
    {
     "name": "stderr",
     "output_type": "stream",
     "text": [
      "\r",
      "Generating responses:  49%|#############################8                               | 98/200 [02:44<02:50,  1.67s/it]"
     ]
    },
    {
     "name": "stderr",
     "output_type": "stream",
     "text": [
      "\r",
      "Generating responses:  50%|##############################1                              | 99/200 [02:45<02:49,  1.68s/it]"
     ]
    },
    {
     "name": "stderr",
     "output_type": "stream",
     "text": [
      "\r",
      "Generating responses:  50%|##############################                              | 100/200 [02:47<02:47,  1.67s/it]"
     ]
    },
    {
     "name": "stderr",
     "output_type": "stream",
     "text": [
      "\r",
      "Generating responses:  50%|##############################3                             | 101/200 [02:48<02:45,  1.67s/it]"
     ]
    },
    {
     "name": "stderr",
     "output_type": "stream",
     "text": [
      "\r",
      "Generating responses:  51%|##############################6                             | 102/200 [02:50<02:43,  1.67s/it]"
     ]
    },
    {
     "name": "stderr",
     "output_type": "stream",
     "text": [
      "\r",
      "Generating responses:  52%|##############################9                             | 103/200 [02:52<02:42,  1.68s/it]"
     ]
    },
    {
     "name": "stderr",
     "output_type": "stream",
     "text": [
      "\r",
      "Generating responses:  52%|###############################2                            | 104/200 [02:54<02:40,  1.68s/it]"
     ]
    },
    {
     "name": "stderr",
     "output_type": "stream",
     "text": [
      "\r",
      "Generating responses:  52%|###############################5                            | 105/200 [02:55<02:38,  1.67s/it]"
     ]
    },
    {
     "name": "stderr",
     "output_type": "stream",
     "text": [
      "\r",
      "Generating responses:  53%|###############################8                            | 106/200 [02:57<02:37,  1.67s/it]"
     ]
    },
    {
     "name": "stderr",
     "output_type": "stream",
     "text": [
      "\r",
      "Generating responses:  54%|################################1                           | 107/200 [02:59<02:35,  1.68s/it]"
     ]
    },
    {
     "name": "stderr",
     "output_type": "stream",
     "text": [
      "\r",
      "Generating responses:  54%|################################4                           | 108/200 [03:03<02:36,  1.70s/it]"
     ]
    },
    {
     "name": "stderr",
     "output_type": "stream",
     "text": [
      "\r",
      "Generating responses:  55%|################################7                           | 109/200 [03:04<02:34,  1.70s/it]"
     ]
    },
    {
     "name": "stderr",
     "output_type": "stream",
     "text": [
      "\r",
      "Generating responses:  55%|#################################                           | 110/200 [03:07<02:33,  1.70s/it]"
     ]
    },
    {
     "name": "stderr",
     "output_type": "stream",
     "text": [
      "\r",
      "Generating responses:  56%|#################################3                          | 111/200 [03:08<02:31,  1.70s/it]"
     ]
    },
    {
     "name": "stderr",
     "output_type": "stream",
     "text": [
      "\r",
      "Generating responses:  56%|#################################6                          | 112/200 [03:15<02:33,  1.75s/it]"
     ]
    },
    {
     "name": "stderr",
     "output_type": "stream",
     "text": [
      "\r",
      "Generating responses:  56%|#################################9                          | 113/200 [03:17<02:31,  1.74s/it]"
     ]
    },
    {
     "name": "stderr",
     "output_type": "stream",
     "text": [
      "\r",
      "Generating responses:  57%|##################################1                         | 114/200 [03:18<02:29,  1.74s/it]"
     ]
    },
    {
     "name": "stderr",
     "output_type": "stream",
     "text": [
      "\r",
      "Generating responses:  57%|##################################5                         | 115/200 [03:19<02:27,  1.73s/it]"
     ]
    },
    {
     "name": "stderr",
     "output_type": "stream",
     "text": [
      "\r",
      "Generating responses:  58%|##################################8                         | 116/200 [03:20<02:25,  1.73s/it]"
     ]
    },
    {
     "name": "stderr",
     "output_type": "stream",
     "text": [
      "\r",
      "Generating responses:  58%|###################################                         | 117/200 [03:22<02:23,  1.73s/it]"
     ]
    },
    {
     "name": "stderr",
     "output_type": "stream",
     "text": [
      "\r",
      "Generating responses:  59%|###################################4                        | 118/200 [03:25<02:22,  1.74s/it]"
     ]
    },
    {
     "name": "stderr",
     "output_type": "stream",
     "text": [
      "\r",
      "Generating responses:  60%|###################################6                        | 119/200 [03:26<02:20,  1.73s/it]"
     ]
    },
    {
     "name": "stderr",
     "output_type": "stream",
     "text": [
      "\r",
      "Generating responses:  60%|####################################                        | 120/200 [03:28<02:18,  1.74s/it]"
     ]
    },
    {
     "name": "stderr",
     "output_type": "stream",
     "text": [
      "\r",
      "Generating responses:  60%|####################################3                       | 121/200 [03:30<02:17,  1.74s/it]"
     ]
    },
    {
     "name": "stderr",
     "output_type": "stream",
     "text": [
      "\r",
      "Generating responses:  61%|####################################6                       | 122/200 [03:31<02:15,  1.73s/it]"
     ]
    },
    {
     "name": "stderr",
     "output_type": "stream",
     "text": [
      "\r",
      "Generating responses:  62%|####################################9                       | 123/200 [03:32<02:12,  1.73s/it]"
     ]
    },
    {
     "name": "stderr",
     "output_type": "stream",
     "text": [
      "\r",
      "Generating responses:  62%|#####################################2                      | 124/200 [03:33<02:10,  1.72s/it]"
     ]
    },
    {
     "name": "stderr",
     "output_type": "stream",
     "text": [
      "\r",
      "Generating responses:  62%|#####################################5                      | 125/200 [03:35<02:09,  1.73s/it]"
     ]
    },
    {
     "name": "stderr",
     "output_type": "stream",
     "text": [
      "\r",
      "Generating responses:  63%|#####################################8                      | 126/200 [03:36<02:07,  1.72s/it]"
     ]
    },
    {
     "name": "stderr",
     "output_type": "stream",
     "text": [
      "\r",
      "Generating responses:  64%|######################################1                     | 127/200 [03:37<02:05,  1.71s/it]"
     ]
    },
    {
     "name": "stderr",
     "output_type": "stream",
     "text": [
      "\r",
      "Generating responses:  64%|######################################4                     | 128/200 [03:39<02:03,  1.71s/it]"
     ]
    },
    {
     "name": "stderr",
     "output_type": "stream",
     "text": [
      "\r",
      "Generating responses:  64%|######################################7                     | 129/200 [03:40<02:01,  1.71s/it]"
     ]
    },
    {
     "name": "stderr",
     "output_type": "stream",
     "text": [
      "\r",
      "Generating responses:  65%|#######################################                     | 130/200 [03:42<01:59,  1.71s/it]"
     ]
    },
    {
     "name": "stderr",
     "output_type": "stream",
     "text": [
      "\r",
      "Generating responses:  66%|#######################################3                    | 131/200 [03:43<01:57,  1.70s/it]"
     ]
    },
    {
     "name": "stderr",
     "output_type": "stream",
     "text": [
      "\r",
      "Generating responses:  66%|#######################################6                    | 132/200 [03:44<01:55,  1.70s/it]"
     ]
    },
    {
     "name": "stderr",
     "output_type": "stream",
     "text": [
      "\r",
      "Generating responses:  66%|#######################################9                    | 133/200 [03:46<01:54,  1.70s/it]"
     ]
    },
    {
     "name": "stderr",
     "output_type": "stream",
     "text": [
      "\r",
      "Generating responses:  67%|########################################2                   | 134/200 [03:49<01:52,  1.71s/it]"
     ]
    },
    {
     "name": "stderr",
     "output_type": "stream",
     "text": [
      "\r",
      "Generating responses:  68%|########################################5                   | 135/200 [03:49<01:50,  1.70s/it]"
     ]
    },
    {
     "name": "stderr",
     "output_type": "stream",
     "text": [
      "\r",
      "Generating responses:  68%|########################################8                   | 136/200 [03:51<01:49,  1.70s/it]"
     ]
    },
    {
     "name": "stderr",
     "output_type": "stream",
     "text": [
      "\r",
      "Generating responses:  68%|#########################################1                  | 137/200 [03:53<01:47,  1.71s/it]"
     ]
    },
    {
     "name": "stderr",
     "output_type": "stream",
     "text": [
      "\r",
      "Generating responses:  69%|#########################################4                  | 138/200 [03:55<01:45,  1.71s/it]"
     ]
    },
    {
     "name": "stderr",
     "output_type": "stream",
     "text": [
      "\r",
      "Generating responses:  70%|#########################################6                  | 139/200 [03:56<01:43,  1.70s/it]"
     ]
    },
    {
     "name": "stderr",
     "output_type": "stream",
     "text": [
      "\r",
      "Generating responses:  70%|##########################################                  | 140/200 [03:58<01:42,  1.70s/it]"
     ]
    },
    {
     "name": "stderr",
     "output_type": "stream",
     "text": [
      "\r",
      "Generating responses:  70%|##########################################3                 | 141/200 [03:59<01:40,  1.70s/it]"
     ]
    },
    {
     "name": "stderr",
     "output_type": "stream",
     "text": [
      "\r",
      "Generating responses:  71%|##########################################5                 | 142/200 [04:01<01:38,  1.70s/it]"
     ]
    },
    {
     "name": "stderr",
     "output_type": "stream",
     "text": [
      "\r",
      "Generating responses:  72%|##########################################9                 | 143/200 [04:02<01:36,  1.69s/it]"
     ]
    },
    {
     "name": "stderr",
     "output_type": "stream",
     "text": [
      "\r",
      "Generating responses:  72%|###########################################1                | 144/200 [04:04<01:35,  1.70s/it]"
     ]
    },
    {
     "name": "stderr",
     "output_type": "stream",
     "text": [
      "\r",
      "Generating responses:  72%|###########################################5                | 145/200 [04:06<01:33,  1.70s/it]"
     ]
    },
    {
     "name": "stderr",
     "output_type": "stream",
     "text": [
      "\r",
      "Generating responses:  73%|###########################################8                | 146/200 [04:08<01:31,  1.70s/it]"
     ]
    },
    {
     "name": "stderr",
     "output_type": "stream",
     "text": [
      "\r",
      "Generating responses:  74%|############################################1               | 147/200 [04:10<01:30,  1.70s/it]"
     ]
    },
    {
     "name": "stderr",
     "output_type": "stream",
     "text": [
      "\r",
      "Generating responses:  74%|############################################4               | 148/200 [04:12<01:28,  1.71s/it]"
     ]
    },
    {
     "name": "stderr",
     "output_type": "stream",
     "text": [
      "\r",
      "Generating responses:  74%|############################################7               | 149/200 [04:13<01:26,  1.70s/it]"
     ]
    },
    {
     "name": "stderr",
     "output_type": "stream",
     "text": [
      "\r",
      "Generating responses:  75%|#############################################               | 150/200 [04:16<01:25,  1.71s/it]"
     ]
    },
    {
     "name": "stderr",
     "output_type": "stream",
     "text": [
      "\r",
      "Generating responses:  76%|#############################################3              | 151/200 [04:17<01:23,  1.71s/it]"
     ]
    },
    {
     "name": "stderr",
     "output_type": "stream",
     "text": [
      "\r",
      "Generating responses:  76%|#############################################6              | 152/200 [04:20<01:22,  1.71s/it]"
     ]
    },
    {
     "name": "stderr",
     "output_type": "stream",
     "text": [
      "\r",
      "Generating responses:  76%|#############################################9              | 153/200 [04:20<01:20,  1.70s/it]"
     ]
    },
    {
     "name": "stderr",
     "output_type": "stream",
     "text": [
      "\r",
      "Generating responses:  77%|##############################################2             | 154/200 [04:23<01:18,  1.71s/it]"
     ]
    },
    {
     "name": "stderr",
     "output_type": "stream",
     "text": [
      "\r",
      "Generating responses:  78%|##############################################5             | 155/200 [04:25<01:17,  1.71s/it]"
     ]
    },
    {
     "name": "stderr",
     "output_type": "stream",
     "text": [
      "\r",
      "Generating responses:  78%|##############################################8             | 156/200 [04:27<01:15,  1.71s/it]"
     ]
    },
    {
     "name": "stderr",
     "output_type": "stream",
     "text": [
      "\r",
      "Generating responses:  78%|###############################################1            | 157/200 [04:31<01:14,  1.73s/it]"
     ]
    },
    {
     "name": "stderr",
     "output_type": "stream",
     "text": [
      "\r",
      "Generating responses:  79%|###############################################4            | 158/200 [04:32<01:12,  1.73s/it]"
     ]
    },
    {
     "name": "stderr",
     "output_type": "stream",
     "text": [
      "\r",
      "Generating responses:  80%|###############################################7            | 159/200 [04:35<01:10,  1.73s/it]"
     ]
    },
    {
     "name": "stderr",
     "output_type": "stream",
     "text": [
      "\r",
      "Generating responses:  80%|################################################            | 160/200 [04:36<01:09,  1.73s/it]"
     ]
    },
    {
     "name": "stderr",
     "output_type": "stream",
     "text": [
      "\r",
      "Generating responses:  80%|################################################3           | 161/200 [04:37<01:07,  1.73s/it]"
     ]
    },
    {
     "name": "stderr",
     "output_type": "stream",
     "text": [
      "\r",
      "Generating responses:  81%|################################################6           | 162/200 [04:38<01:05,  1.72s/it]"
     ]
    },
    {
     "name": "stderr",
     "output_type": "stream",
     "text": [
      "\r",
      "Generating responses:  82%|################################################9           | 163/200 [04:40<01:03,  1.72s/it]"
     ]
    },
    {
     "name": "stderr",
     "output_type": "stream",
     "text": [
      "\r",
      "Generating responses:  82%|#################################################1          | 164/200 [04:42<01:01,  1.72s/it]"
     ]
    },
    {
     "name": "stderr",
     "output_type": "stream",
     "text": [
      "\r",
      "Generating responses:  82%|#################################################5          | 165/200 [04:43<01:00,  1.72s/it]"
     ]
    },
    {
     "name": "stderr",
     "output_type": "stream",
     "text": [
      "\r",
      "Generating responses:  83%|#################################################8          | 166/200 [04:45<00:58,  1.72s/it]"
     ]
    },
    {
     "name": "stderr",
     "output_type": "stream",
     "text": [
      "\r",
      "Generating responses:  84%|##################################################          | 167/200 [04:46<00:56,  1.72s/it]"
     ]
    },
    {
     "name": "stderr",
     "output_type": "stream",
     "text": [
      "\r",
      "Generating responses:  84%|##################################################4         | 168/200 [04:48<00:54,  1.72s/it]"
     ]
    },
    {
     "name": "stderr",
     "output_type": "stream",
     "text": [
      "\r",
      "Generating responses:  84%|##################################################6         | 169/200 [04:49<00:53,  1.71s/it]"
     ]
    },
    {
     "name": "stderr",
     "output_type": "stream",
     "text": [
      "\r",
      "Generating responses:  85%|###################################################         | 170/200 [04:50<00:51,  1.71s/it]"
     ]
    },
    {
     "name": "stderr",
     "output_type": "stream",
     "text": [
      "\r",
      "Generating responses:  86%|###################################################3        | 171/200 [04:51<00:49,  1.71s/it]"
     ]
    },
    {
     "name": "stderr",
     "output_type": "stream",
     "text": [
      "\r",
      "Generating responses:  86%|###################################################6        | 172/200 [04:53<00:47,  1.71s/it]"
     ]
    },
    {
     "name": "stderr",
     "output_type": "stream",
     "text": [
      "\r",
      "Generating responses:  86%|###################################################9        | 173/200 [04:55<00:46,  1.71s/it]"
     ]
    },
    {
     "name": "stderr",
     "output_type": "stream",
     "text": [
      "\r",
      "Generating responses:  87%|####################################################2       | 174/200 [04:57<00:44,  1.71s/it]"
     ]
    },
    {
     "name": "stderr",
     "output_type": "stream",
     "text": [
      "\r",
      "Generating responses:  88%|####################################################5       | 175/200 [04:59<00:42,  1.71s/it]"
     ]
    },
    {
     "name": "stderr",
     "output_type": "stream",
     "text": [
      "\r",
      "Generating responses:  88%|####################################################8       | 176/200 [05:01<00:41,  1.71s/it]"
     ]
    },
    {
     "name": "stderr",
     "output_type": "stream",
     "text": [
      "\r",
      "Generating responses:  88%|#####################################################1      | 177/200 [05:02<00:39,  1.71s/it]"
     ]
    },
    {
     "name": "stderr",
     "output_type": "stream",
     "text": [
      "\r",
      "Generating responses:  89%|#####################################################4      | 178/200 [05:03<00:37,  1.71s/it]"
     ]
    },
    {
     "name": "stderr",
     "output_type": "stream",
     "text": [
      "\r",
      "Generating responses:  90%|#####################################################7      | 179/200 [05:04<00:35,  1.70s/it]"
     ]
    },
    {
     "name": "stderr",
     "output_type": "stream",
     "text": [
      "\r",
      "Generating responses:  90%|######################################################      | 180/200 [05:05<00:33,  1.70s/it]"
     ]
    },
    {
     "name": "stderr",
     "output_type": "stream",
     "text": [
      "\r",
      "Generating responses:  90%|######################################################3     | 181/200 [05:08<00:32,  1.70s/it]"
     ]
    },
    {
     "name": "stderr",
     "output_type": "stream",
     "text": [
      "\r",
      "Generating responses:  91%|######################################################6     | 182/200 [05:11<00:30,  1.71s/it]"
     ]
    },
    {
     "name": "stderr",
     "output_type": "stream",
     "text": [
      "\r",
      "Generating responses:  92%|######################################################9     | 183/200 [05:12<00:28,  1.71s/it]"
     ]
    },
    {
     "name": "stderr",
     "output_type": "stream",
     "text": [
      "\r",
      "Generating responses:  92%|#######################################################2    | 184/200 [05:13<00:27,  1.70s/it]"
     ]
    },
    {
     "name": "stderr",
     "output_type": "stream",
     "text": [
      "\r",
      "Generating responses:  92%|#######################################################5    | 185/200 [05:14<00:25,  1.70s/it]"
     ]
    },
    {
     "name": "stderr",
     "output_type": "stream",
     "text": [
      "\r",
      "Generating responses:  93%|#######################################################8    | 186/200 [05:16<00:23,  1.70s/it]"
     ]
    },
    {
     "name": "stderr",
     "output_type": "stream",
     "text": [
      "\r",
      "Generating responses:  94%|########################################################1   | 187/200 [05:18<00:22,  1.70s/it]"
     ]
    },
    {
     "name": "stderr",
     "output_type": "stream",
     "text": [
      "\r",
      "Generating responses:  94%|########################################################4   | 188/200 [05:19<00:20,  1.70s/it]"
     ]
    },
    {
     "name": "stderr",
     "output_type": "stream",
     "text": [
      "\r",
      "Generating responses:  94%|########################################################7   | 189/200 [05:20<00:18,  1.70s/it]"
     ]
    },
    {
     "name": "stderr",
     "output_type": "stream",
     "text": [
      "\r",
      "Generating responses:  95%|#########################################################   | 190/200 [05:21<00:16,  1.69s/it]"
     ]
    },
    {
     "name": "stderr",
     "output_type": "stream",
     "text": [
      "\r",
      "Generating responses:  96%|#########################################################3  | 191/200 [05:24<00:15,  1.70s/it]"
     ]
    },
    {
     "name": "stderr",
     "output_type": "stream",
     "text": [
      "\r",
      "Generating responses:  96%|#########################################################6  | 192/200 [05:26<00:13,  1.70s/it]"
     ]
    },
    {
     "name": "stderr",
     "output_type": "stream",
     "text": [
      "\r",
      "Generating responses:  96%|#########################################################9  | 193/200 [05:28<00:11,  1.70s/it]"
     ]
    },
    {
     "name": "stderr",
     "output_type": "stream",
     "text": [
      "\r",
      "Generating responses:  97%|##########################################################2 | 194/200 [05:29<00:10,  1.70s/it]"
     ]
    },
    {
     "name": "stderr",
     "output_type": "stream",
     "text": [
      "\r",
      "Generating responses:  98%|##########################################################5 | 195/200 [05:31<00:08,  1.70s/it]"
     ]
    },
    {
     "name": "stderr",
     "output_type": "stream",
     "text": [
      "\r",
      "Generating responses:  98%|##########################################################8 | 196/200 [05:32<00:06,  1.70s/it]"
     ]
    },
    {
     "name": "stderr",
     "output_type": "stream",
     "text": [
      "\r",
      "Generating responses:  98%|###########################################################1| 197/200 [05:33<00:05,  1.69s/it]"
     ]
    },
    {
     "name": "stderr",
     "output_type": "stream",
     "text": [
      "\r",
      "Generating responses:  99%|###########################################################4| 198/200 [05:34<00:03,  1.69s/it]"
     ]
    },
    {
     "name": "stderr",
     "output_type": "stream",
     "text": [
      "\r",
      "Generating responses: 100%|###########################################################7| 199/200 [05:36<00:01,  1.69s/it]"
     ]
    },
    {
     "name": "stderr",
     "output_type": "stream",
     "text": [
      "\r",
      "Generating responses: 100%|############################################################| 200/200 [05:38<00:00,  1.69s/it]"
     ]
    },
    {
     "name": "stderr",
     "output_type": "stream",
     "text": [
      "\r",
      "Generating responses: 100%|############################################################| 200/200 [05:38<00:00,  1.69s/it]"
     ]
    },
    {
     "name": "stderr",
     "output_type": "stream",
     "text": [
      "\n"
     ]
    }
   ],
   "source": [
    "# Let's generate an LLM response for each question, for each AI model.\n",
    "\n",
    "from openai import OpenAI\n",
    "client = OpenAI(api_key=os.getenv('OPENAI_API_KEY'))\n",
    "\n",
    "def generate_openai_response(question, model):\n",
    "    completion = client.chat.completions.create(\n",
    "        model=model,\n",
    "        messages=[\n",
    "            {\"role\": \"user\", \"content\": question}\n",
    "        ]\n",
    "    )\n",
    "    return completion.choices[0].message.content\n",
    "\n",
    "# OpenAI models\n",
    "oai_models = ['gpt-4o-mini','gpt-3.5-turbo']\n",
    "\n",
    "for model in oai_models:\n",
    "    output_file = model+'_responses.json'\n",
    "    generation_function = lambda x: generate_openai_response(x, model)\n",
    "\n",
    "    responses = generate_responses(\n",
    "        questions=df_questions['question'], \n",
    "        generation_function=generation_function,\n",
    "        output_path=TEMP_PATH+output_file,\n",
    "        start_from_checkpoint=False\n",
    "    )"
   ]
  },
  {
   "cell_type": "markdown",
   "metadata": {},
   "source": [
    "### Huggingace Models"
   ]
  },
  {
   "cell_type": "code",
   "execution_count": 6,
   "metadata": {
    "execution": {
     "iopub.execute_input": "2025-01-03T20:45:00.265005Z",
     "iopub.status.busy": "2025-01-03T20:45:00.264184Z",
     "iopub.status.idle": "2025-01-03T20:45:01.810456Z",
     "shell.execute_reply": "2025-01-03T20:45:01.808979Z"
    }
   },
   "outputs": [],
   "source": [
    "import requests\n",
    "from huggingface_hub import InferenceClient\n",
    "hf_api_key = os.getenv('HUGGINGFACE_API_KEY')\n",
    "def query_huggingface(hf_client: InferenceClient, inputs: str, chat:bool=False) -> str:\n",
    "    \"\"\"\n",
    "    This is a helper function to query the Huggingface API.\n",
    "\n",
    "    Huggingface models are either simple inference endpoints, dedicated endpoints, or chat endpoints. We can use dedicated endpoints by passing in the API URL directly.\n",
    "\n",
    "    For non-chat models, we use the text_generation endpoint over the chat_completion endpoint.\n",
    "    \"\"\"\n",
    "    if chat:\n",
    "        messages = [\n",
    "            {\n",
    "                \"role\": \"user\",\n",
    "                \"content\": inputs\n",
    "            }\n",
    "        ]\n",
    "        \n",
    "        completion =  hf_client.chat_completion(\n",
    "            messages=messages, \n",
    "            max_tokens=1024\n",
    "        )\n",
    "\n",
    "        return completion.choices[0].message.content\n",
    "    else:\n",
    "        completion =  hf_client.text_generation(\n",
    "            prompt=inputs, \n",
    "            max_new_tokens=500\n",
    "        )\n",
    "        return completion"
   ]
  },
  {
   "cell_type": "code",
   "execution_count": 7,
   "metadata": {
    "execution": {
     "iopub.execute_input": "2025-01-03T20:45:01.816502Z",
     "iopub.status.busy": "2025-01-03T20:45:01.815995Z",
     "iopub.status.idle": "2025-01-03T23:17:07.514857Z",
     "shell.execute_reply": "2025-01-03T23:17:07.513328Z"
    }
   },
   "outputs": [
    {
     "name": "stdout",
     "output_type": "stream",
     "text": [
      "Generating responses for:  temp/gemma-2-2b-it_responses.json\n"
     ]
    },
    {
     "name": "stderr",
     "output_type": "stream",
     "text": [
      "\r",
      "Generating responses:   0%|                                                                      | 0/200 [00:00<?, ?it/s]"
     ]
    },
    {
     "name": "stderr",
     "output_type": "stream",
     "text": [
      "\r",
      "Generating responses:   0%|3                                                           | 1/200 [01:13<4:05:16, 73.95s/it]"
     ]
    },
    {
     "name": "stderr",
     "output_type": "stream",
     "text": [
      "\r",
      "Generating responses:   1%|6                                                           | 2/200 [01:26<2:22:02, 43.04s/it]"
     ]
    },
    {
     "name": "stderr",
     "output_type": "stream",
     "text": [
      "\r",
      "Generating responses:   2%|9                                                           | 3/200 [01:34<1:43:55, 31.65s/it]"
     ]
    },
    {
     "name": "stderr",
     "output_type": "stream",
     "text": [
      "\r",
      "Generating responses:   2%|#2                                                          | 4/200 [01:46<1:27:15, 26.71s/it]"
     ]
    },
    {
     "name": "stderr",
     "output_type": "stream",
     "text": [
      "\r",
      "Generating responses:   2%|#5                                                          | 5/200 [01:58<1:17:07, 23.73s/it]"
     ]
    },
    {
     "name": "stderr",
     "output_type": "stream",
     "text": [
      "\r",
      "Generating responses:   3%|#8                                                          | 6/200 [02:06<1:08:23, 21.15s/it]"
     ]
    },
    {
     "name": "stderr",
     "output_type": "stream",
     "text": [
      "\r",
      "Generating responses:   4%|##1                                                         | 7/200 [02:12<1:01:04, 18.99s/it]"
     ]
    },
    {
     "name": "stderr",
     "output_type": "stream",
     "text": [
      "\r",
      "Generating responses:   4%|##4                                                           | 8/200 [02:24<57:41, 18.03s/it]"
     ]
    },
    {
     "name": "stderr",
     "output_type": "stream",
     "text": [
      "\r",
      "Generating responses:   4%|##7                                                           | 9/200 [02:36<55:19, 17.38s/it]"
     ]
    },
    {
     "name": "stderr",
     "output_type": "stream",
     "text": [
      "\r",
      "Generating responses:   5%|###                                                          | 10/200 [02:48<53:26, 16.88s/it]"
     ]
    },
    {
     "name": "stderr",
     "output_type": "stream",
     "text": [
      "\r",
      "Generating responses:   6%|###3                                                         | 11/200 [02:59<51:23, 16.31s/it]"
     ]
    },
    {
     "name": "stderr",
     "output_type": "stream",
     "text": [
      "\r",
      "Generating responses:   6%|###6                                                         | 12/200 [03:07<48:58, 15.63s/it]"
     ]
    },
    {
     "name": "stderr",
     "output_type": "stream",
     "text": [
      "\r",
      "Generating responses:   6%|###9                                                         | 13/200 [03:15<46:51, 15.04s/it]"
     ]
    },
    {
     "name": "stderr",
     "output_type": "stream",
     "text": [
      "\r",
      "Generating responses:   7%|####2                                                        | 14/200 [03:27<45:52, 14.80s/it]"
     ]
    },
    {
     "name": "stderr",
     "output_type": "stream",
     "text": [
      "\r",
      "Generating responses:   8%|####5                                                        | 15/200 [03:38<44:58, 14.59s/it]"
     ]
    },
    {
     "name": "stderr",
     "output_type": "stream",
     "text": [
      "\r",
      "Generating responses:   8%|####8                                                        | 16/200 [03:49<43:57, 14.33s/it]"
     ]
    },
    {
     "name": "stderr",
     "output_type": "stream",
     "text": [
      "\r",
      "Generating responses:   8%|#####1                                                       | 17/200 [04:01<43:20, 14.21s/it]"
     ]
    },
    {
     "name": "stderr",
     "output_type": "stream",
     "text": [
      "\r",
      "Generating responses:   9%|#####4                                                       | 18/200 [04:12<42:35, 14.04s/it]"
     ]
    },
    {
     "name": "stderr",
     "output_type": "stream",
     "text": [
      "\r",
      "Generating responses:  10%|#####7                                                       | 19/200 [04:17<40:49, 13.53s/it]"
     ]
    },
    {
     "name": "stderr",
     "output_type": "stream",
     "text": [
      "\r",
      "Generating responses:  10%|######1                                                      | 20/200 [04:23<39:30, 13.17s/it]"
     ]
    },
    {
     "name": "stderr",
     "output_type": "stream",
     "text": [
      "\r",
      "Generating responses:  10%|######4                                                      | 21/200 [04:35<39:10, 13.13s/it]"
     ]
    },
    {
     "name": "stderr",
     "output_type": "stream",
     "text": [
      "\r",
      "Generating responses:  11%|######7                                                      | 22/200 [04:48<38:50, 13.09s/it]"
     ]
    },
    {
     "name": "stderr",
     "output_type": "stream",
     "text": [
      "\r",
      "Generating responses:  12%|#######                                                      | 23/200 [05:00<38:31, 13.06s/it]"
     ]
    },
    {
     "name": "stderr",
     "output_type": "stream",
     "text": [
      "\r",
      "Generating responses:  12%|#######3                                                     | 24/200 [05:11<38:03, 12.97s/it]"
     ]
    },
    {
     "name": "stderr",
     "output_type": "stream",
     "text": [
      "\r",
      "Generating responses:  12%|#######6                                                     | 25/200 [05:23<37:45, 12.95s/it]"
     ]
    },
    {
     "name": "stderr",
     "output_type": "stream",
     "text": [
      "\r",
      "Generating responses:  13%|#######9                                                     | 26/200 [05:36<37:29, 12.93s/it]"
     ]
    },
    {
     "name": "stderr",
     "output_type": "stream",
     "text": [
      "\r",
      "Generating responses:  14%|########2                                                    | 27/200 [05:46<36:58, 12.83s/it]"
     ]
    },
    {
     "name": "stderr",
     "output_type": "stream",
     "text": [
      "\r",
      "Generating responses:  14%|########5                                                    | 28/200 [05:58<36:42, 12.81s/it]"
     ]
    },
    {
     "name": "stderr",
     "output_type": "stream",
     "text": [
      "\r",
      "Generating responses:  14%|########8                                                    | 29/200 [06:10<36:27, 12.79s/it]"
     ]
    },
    {
     "name": "stderr",
     "output_type": "stream",
     "text": [
      "\r",
      "Generating responses:  15%|#########1                                                   | 30/200 [06:18<35:43, 12.61s/it]"
     ]
    },
    {
     "name": "stderr",
     "output_type": "stream",
     "text": [
      "\r",
      "Generating responses:  16%|#########4                                                   | 31/200 [06:30<35:29, 12.60s/it]"
     ]
    },
    {
     "name": "stderr",
     "output_type": "stream",
     "text": [
      "\r",
      "Generating responses:  16%|#########7                                                   | 32/200 [06:42<35:11, 12.57s/it]"
     ]
    },
    {
     "name": "stderr",
     "output_type": "stream",
     "text": [
      "\r",
      "Generating responses:  16%|##########                                                   | 33/200 [06:53<34:53, 12.54s/it]"
     ]
    },
    {
     "name": "stderr",
     "output_type": "stream",
     "text": [
      "\r",
      "Generating responses:  17%|##########3                                                  | 34/200 [07:06<34:39, 12.53s/it]"
     ]
    },
    {
     "name": "stderr",
     "output_type": "stream",
     "text": [
      "\r",
      "Generating responses:  18%|##########6                                                  | 35/200 [07:17<34:21, 12.49s/it]"
     ]
    },
    {
     "name": "stderr",
     "output_type": "stream",
     "text": [
      "\r",
      "Generating responses:  18%|##########9                                                  | 36/200 [07:27<33:57, 12.42s/it]"
     ]
    },
    {
     "name": "stderr",
     "output_type": "stream",
     "text": [
      "\r",
      "Generating responses:  18%|###########2                                                 | 37/200 [07:39<33:44, 12.42s/it]"
     ]
    },
    {
     "name": "stderr",
     "output_type": "stream",
     "text": [
      "\r",
      "Generating responses:  19%|###########5                                                 | 38/200 [07:51<33:31, 12.42s/it]"
     ]
    },
    {
     "name": "stderr",
     "output_type": "stream",
     "text": [
      "\r",
      "Generating responses:  20%|###########8                                                 | 39/200 [07:58<32:55, 12.27s/it]"
     ]
    },
    {
     "name": "stderr",
     "output_type": "stream",
     "text": [
      "\r",
      "Generating responses:  20%|############2                                                | 40/200 [08:09<32:39, 12.24s/it]"
     ]
    },
    {
     "name": "stderr",
     "output_type": "stream",
     "text": [
      "\r",
      "Generating responses:  20%|############5                                                | 41/200 [08:16<32:04, 12.10s/it]"
     ]
    },
    {
     "name": "stderr",
     "output_type": "stream",
     "text": [
      "\r",
      "Generating responses:  21%|############8                                                | 42/200 [08:25<31:41, 12.04s/it]"
     ]
    },
    {
     "name": "stderr",
     "output_type": "stream",
     "text": [
      "\r",
      "Generating responses:  22%|#############1                                               | 43/200 [08:37<31:30, 12.04s/it]"
     ]
    },
    {
     "name": "stderr",
     "output_type": "stream",
     "text": [
      "\r",
      "Generating responses:  22%|#############4                                               | 44/200 [08:49<31:17, 12.04s/it]"
     ]
    },
    {
     "name": "stderr",
     "output_type": "stream",
     "text": [
      "\r",
      "Generating responses:  22%|#############7                                               | 45/200 [08:59<30:59, 12.00s/it]"
     ]
    },
    {
     "name": "stderr",
     "output_type": "stream",
     "text": [
      "\r",
      "Generating responses:  23%|##############                                               | 46/200 [09:11<30:46, 11.99s/it]"
     ]
    },
    {
     "name": "stderr",
     "output_type": "stream",
     "text": [
      "\r",
      "Generating responses:  24%|##############3                                              | 47/200 [09:23<30:35, 12.00s/it]"
     ]
    },
    {
     "name": "stderr",
     "output_type": "stream",
     "text": [
      "\r",
      "Generating responses:  24%|##############6                                              | 48/200 [09:35<30:23, 11.99s/it]"
     ]
    },
    {
     "name": "stderr",
     "output_type": "stream",
     "text": [
      "\r",
      "Generating responses:  24%|##############9                                              | 49/200 [09:47<30:09, 11.98s/it]"
     ]
    },
    {
     "name": "stderr",
     "output_type": "stream",
     "text": [
      "\r",
      "Generating responses:  25%|###############2                                             | 50/200 [09:54<29:44, 11.90s/it]"
     ]
    },
    {
     "name": "stderr",
     "output_type": "stream",
     "text": [
      "\r",
      "Generating responses:  26%|###############5                                             | 51/200 [10:06<29:31, 11.89s/it]"
     ]
    },
    {
     "name": "stderr",
     "output_type": "stream",
     "text": [
      "\r",
      "Generating responses:  26%|###############8                                             | 52/200 [10:17<29:17, 11.87s/it]"
     ]
    },
    {
     "name": "stderr",
     "output_type": "stream",
     "text": [
      "\r",
      "Generating responses:  26%|################1                                            | 53/200 [10:27<28:59, 11.84s/it]"
     ]
    },
    {
     "name": "stderr",
     "output_type": "stream",
     "text": [
      "\r",
      "Generating responses:  27%|################4                                            | 54/200 [10:39<28:49, 11.84s/it]"
     ]
    },
    {
     "name": "stderr",
     "output_type": "stream",
     "text": [
      "\r",
      "Generating responses:  28%|################7                                            | 55/200 [10:51<28:38, 11.85s/it]"
     ]
    },
    {
     "name": "stderr",
     "output_type": "stream",
     "text": [
      "\r",
      "Generating responses:  28%|#################                                            | 56/200 [11:01<28:20, 11.81s/it]"
     ]
    },
    {
     "name": "stderr",
     "output_type": "stream",
     "text": [
      "\r",
      "Generating responses:  28%|#################3                                           | 57/200 [11:10<28:01, 11.76s/it]"
     ]
    },
    {
     "name": "stderr",
     "output_type": "stream",
     "text": [
      "\r",
      "Generating responses:  29%|#################6                                           | 58/200 [11:22<27:51, 11.77s/it]"
     ]
    },
    {
     "name": "stderr",
     "output_type": "stream",
     "text": [
      "\r",
      "Generating responses:  30%|#################9                                           | 59/200 [11:32<27:36, 11.74s/it]"
     ]
    },
    {
     "name": "stderr",
     "output_type": "stream",
     "text": [
      "\r",
      "Generating responses:  30%|##################3                                          | 60/200 [11:39<27:13, 11.67s/it]"
     ]
    },
    {
     "name": "stderr",
     "output_type": "stream",
     "text": [
      "\r",
      "Generating responses:  30%|##################6                                          | 61/200 [11:49<26:57, 11.63s/it]"
     ]
    },
    {
     "name": "stderr",
     "output_type": "stream",
     "text": [
      "\r",
      "Generating responses:  31%|##################9                                          | 62/200 [12:01<26:46, 11.64s/it]"
     ]
    },
    {
     "name": "stderr",
     "output_type": "stream",
     "text": [
      "\r",
      "Generating responses:  32%|###################2                                         | 63/200 [12:12<26:33, 11.63s/it]"
     ]
    },
    {
     "name": "stderr",
     "output_type": "stream",
     "text": [
      "\r",
      "Generating responses:  32%|###################5                                         | 64/200 [12:20<26:13, 11.57s/it]"
     ]
    },
    {
     "name": "stderr",
     "output_type": "stream",
     "text": [
      "\r",
      "Generating responses:  32%|###################8                                         | 65/200 [12:31<26:01, 11.56s/it]"
     ]
    },
    {
     "name": "stderr",
     "output_type": "stream",
     "text": [
      "\r",
      "Generating responses:  33%|####################1                                        | 66/200 [12:43<25:49, 11.56s/it]"
     ]
    },
    {
     "name": "stderr",
     "output_type": "stream",
     "text": [
      "\r",
      "Generating responses:  34%|####################4                                        | 67/200 [12:47<25:24, 11.46s/it]"
     ]
    },
    {
     "name": "stderr",
     "output_type": "stream",
     "text": [
      "\r",
      "Generating responses:  34%|####################7                                        | 68/200 [12:59<25:12, 11.46s/it]"
     ]
    },
    {
     "name": "stderr",
     "output_type": "stream",
     "text": [
      "\r",
      "Generating responses:  34%|#####################                                        | 69/200 [13:09<24:59, 11.45s/it]"
     ]
    },
    {
     "name": "stderr",
     "output_type": "stream",
     "text": [
      "\r",
      "Generating responses:  35%|#####################3                                       | 70/200 [13:22<24:49, 11.46s/it]"
     ]
    },
    {
     "name": "stderr",
     "output_type": "stream",
     "text": [
      "\r",
      "Generating responses:  36%|#####################6                                       | 71/200 [13:34<24:40, 11.47s/it]"
     ]
    },
    {
     "name": "stderr",
     "output_type": "stream",
     "text": [
      "\r",
      "Generating responses:  36%|#####################9                                       | 72/200 [13:43<24:24, 11.44s/it]"
     ]
    },
    {
     "name": "stderr",
     "output_type": "stream",
     "text": [
      "\r",
      "Generating responses:  36%|######################2                                      | 73/200 [13:55<24:13, 11.45s/it]"
     ]
    },
    {
     "name": "stderr",
     "output_type": "stream",
     "text": [
      "\r",
      "Generating responses:  37%|######################5                                      | 74/200 [14:07<24:02, 11.45s/it]"
     ]
    },
    {
     "name": "stderr",
     "output_type": "stream",
     "text": [
      "\r",
      "Generating responses:  38%|######################8                                      | 75/200 [14:16<23:46, 11.41s/it]"
     ]
    },
    {
     "name": "stderr",
     "output_type": "stream",
     "text": [
      "\r",
      "Generating responses:  38%|#######################1                                     | 76/200 [14:22<23:27, 11.35s/it]"
     ]
    },
    {
     "name": "stderr",
     "output_type": "stream",
     "text": [
      "\r",
      "Generating responses:  38%|#######################4                                     | 77/200 [14:31<23:11, 11.31s/it]"
     ]
    },
    {
     "name": "stderr",
     "output_type": "stream",
     "text": [
      "\r",
      "Generating responses:  39%|#######################7                                     | 78/200 [14:39<22:55, 11.28s/it]"
     ]
    },
    {
     "name": "stderr",
     "output_type": "stream",
     "text": [
      "\r",
      "Generating responses:  40%|########################                                     | 79/200 [14:48<22:41, 11.25s/it]"
     ]
    },
    {
     "name": "stderr",
     "output_type": "stream",
     "text": [
      "\r",
      "Generating responses:  40%|########################4                                    | 80/200 [15:01<22:31, 11.26s/it]"
     ]
    },
    {
     "name": "stderr",
     "output_type": "stream",
     "text": [
      "\r",
      "Generating responses:  40%|########################7                                    | 81/200 [15:10<22:17, 11.24s/it]"
     ]
    },
    {
     "name": "stderr",
     "output_type": "stream",
     "text": [
      "\r",
      "Generating responses:  41%|#########################                                    | 82/200 [15:19<22:02, 11.21s/it]"
     ]
    },
    {
     "name": "stderr",
     "output_type": "stream",
     "text": [
      "\r",
      "Generating responses:  42%|#########################3                                   | 83/200 [15:28<21:48, 11.19s/it]"
     ]
    },
    {
     "name": "stderr",
     "output_type": "stream",
     "text": [
      "\r",
      "Generating responses:  42%|#########################6                                   | 84/200 [15:37<21:35, 11.16s/it]"
     ]
    },
    {
     "name": "stderr",
     "output_type": "stream",
     "text": [
      "\r",
      "Generating responses:  42%|#########################9                                   | 85/200 [15:49<21:25, 11.18s/it]"
     ]
    },
    {
     "name": "stderr",
     "output_type": "stream",
     "text": [
      "\r",
      "Generating responses:  43%|##########################2                                  | 86/200 [16:01<21:13, 11.17s/it]"
     ]
    },
    {
     "name": "stderr",
     "output_type": "stream",
     "text": [
      "\r",
      "Generating responses:  44%|##########################5                                  | 87/200 [16:12<21:02, 11.17s/it]"
     ]
    },
    {
     "name": "stderr",
     "output_type": "stream",
     "text": [
      "\r",
      "Generating responses:  44%|##########################8                                  | 88/200 [16:24<20:53, 11.19s/it]"
     ]
    },
    {
     "name": "stderr",
     "output_type": "stream",
     "text": [
      "\r",
      "Generating responses:  44%|###########################1                                 | 89/200 [16:36<20:42, 11.20s/it]"
     ]
    },
    {
     "name": "stderr",
     "output_type": "stream",
     "text": [
      "\r",
      "Generating responses:  45%|###########################4                                 | 90/200 [16:42<20:24, 11.13s/it]"
     ]
    },
    {
     "name": "stderr",
     "output_type": "stream",
     "text": [
      "\r",
      "Generating responses:  46%|###########################7                                 | 91/200 [16:45<20:03, 11.05s/it]"
     ]
    },
    {
     "name": "stderr",
     "output_type": "stream",
     "text": [
      "\r",
      "Generating responses:  46%|############################                                 | 92/200 [16:51<19:47, 11.00s/it]"
     ]
    },
    {
     "name": "stderr",
     "output_type": "stream",
     "text": [
      "\r",
      "Generating responses:  46%|############################3                                | 93/200 [17:01<19:35, 10.99s/it]"
     ]
    },
    {
     "name": "stderr",
     "output_type": "stream",
     "text": [
      "\r",
      "Generating responses:  47%|############################6                                | 94/200 [17:10<19:21, 10.96s/it]"
     ]
    },
    {
     "name": "stderr",
     "output_type": "stream",
     "text": [
      "\r",
      "Generating responses:  48%|############################9                                | 95/200 [17:22<19:11, 10.97s/it]"
     ]
    },
    {
     "name": "stderr",
     "output_type": "stream",
     "text": [
      "\r",
      "Generating responses:  48%|#############################2                               | 96/200 [17:32<18:59, 10.96s/it]"
     ]
    },
    {
     "name": "stderr",
     "output_type": "stream",
     "text": [
      "\r",
      "Generating responses:  48%|#############################5                               | 97/200 [17:43<18:49, 10.97s/it]"
     ]
    },
    {
     "name": "stderr",
     "output_type": "stream",
     "text": [
      "\r",
      "Generating responses:  49%|#############################8                               | 98/200 [17:56<18:39, 10.98s/it]"
     ]
    },
    {
     "name": "stderr",
     "output_type": "stream",
     "text": [
      "\r",
      "Generating responses:  50%|##############################1                              | 99/200 [18:08<18:30, 10.99s/it]"
     ]
    },
    {
     "name": "stderr",
     "output_type": "stream",
     "text": [
      "\r",
      "Generating responses:  50%|##############################                              | 100/200 [18:19<18:19, 10.99s/it]"
     ]
    },
    {
     "name": "stderr",
     "output_type": "stream",
     "text": [
      "\r",
      "Generating responses:  50%|##############################3                             | 101/200 [18:30<18:08, 10.99s/it]"
     ]
    },
    {
     "name": "stderr",
     "output_type": "stream",
     "text": [
      "\r",
      "Generating responses:  51%|##############################6                             | 102/200 [18:40<17:56, 10.98s/it]"
     ]
    },
    {
     "name": "stderr",
     "output_type": "stream",
     "text": [
      "\r",
      "Generating responses:  52%|##############################9                             | 103/200 [18:51<17:46, 10.99s/it]"
     ]
    },
    {
     "name": "stderr",
     "output_type": "stream",
     "text": [
      "\r",
      "Generating responses:  52%|###############################2                            | 104/200 [18:58<17:30, 10.95s/it]"
     ]
    },
    {
     "name": "stderr",
     "output_type": "stream",
     "text": [
      "\r",
      "Generating responses:  52%|###############################5                            | 105/200 [19:02<17:14, 10.89s/it]"
     ]
    },
    {
     "name": "stderr",
     "output_type": "stream",
     "text": [
      "\r",
      "Generating responses:  53%|###############################8                            | 106/200 [19:15<17:04, 10.90s/it]"
     ]
    },
    {
     "name": "stderr",
     "output_type": "stream",
     "text": [
      "\r",
      "Generating responses:  54%|################################1                           | 107/200 [19:27<16:54, 10.91s/it]"
     ]
    },
    {
     "name": "stderr",
     "output_type": "stream",
     "text": [
      "\r",
      "Generating responses:  54%|################################4                           | 108/200 [19:40<16:45, 10.93s/it]"
     ]
    },
    {
     "name": "stderr",
     "output_type": "stream",
     "text": [
      "\r",
      "Generating responses:  55%|################################7                           | 109/200 [19:52<16:35, 10.94s/it]"
     ]
    },
    {
     "name": "stderr",
     "output_type": "stream",
     "text": [
      "\r",
      "Generating responses:  55%|#################################                           | 110/200 [20:04<16:25, 10.95s/it]"
     ]
    },
    {
     "name": "stderr",
     "output_type": "stream",
     "text": [
      "\r",
      "Generating responses:  56%|#################################3                          | 111/200 [20:15<16:14, 10.95s/it]"
     ]
    },
    {
     "name": "stderr",
     "output_type": "stream",
     "text": [
      "\r",
      "Generating responses:  56%|#################################6                          | 112/200 [20:28<16:05, 10.97s/it]"
     ]
    },
    {
     "name": "stderr",
     "output_type": "stream",
     "text": [
      "\r",
      "Generating responses:  56%|#################################9                          | 113/200 [20:31<15:48, 10.90s/it]"
     ]
    },
    {
     "name": "stderr",
     "output_type": "stream",
     "text": [
      "\r",
      "Generating responses:  57%|##################################1                         | 114/200 [20:36<15:32, 10.84s/it]"
     ]
    },
    {
     "name": "stderr",
     "output_type": "stream",
     "text": [
      "\r",
      "Generating responses:  57%|##################################5                         | 115/200 [20:41<15:17, 10.80s/it]"
     ]
    },
    {
     "name": "stderr",
     "output_type": "stream",
     "text": [
      "\r",
      "Generating responses:  58%|##################################8                         | 116/200 [20:54<15:08, 10.81s/it]"
     ]
    },
    {
     "name": "stderr",
     "output_type": "stream",
     "text": [
      "\r",
      "Generating responses:  58%|###################################                         | 117/200 [21:04<14:57, 10.81s/it]"
     ]
    },
    {
     "name": "stderr",
     "output_type": "stream",
     "text": [
      "\r",
      "Generating responses:  59%|###################################4                        | 118/200 [21:09<14:42, 10.76s/it]"
     ]
    },
    {
     "name": "stderr",
     "output_type": "stream",
     "text": [
      "\r",
      "Generating responses:  60%|###################################6                        | 119/200 [21:22<14:32, 10.77s/it]"
     ]
    },
    {
     "name": "stderr",
     "output_type": "stream",
     "text": [
      "\r",
      "Generating responses:  60%|####################################                        | 120/200 [21:33<14:22, 10.78s/it]"
     ]
    },
    {
     "name": "stderr",
     "output_type": "stream",
     "text": [
      "\r",
      "Generating responses:  60%|####################################3                       | 121/200 [21:45<14:12, 10.79s/it]"
     ]
    },
    {
     "name": "stderr",
     "output_type": "stream",
     "text": [
      "\r",
      "Generating responses:  61%|####################################6                       | 122/200 [21:58<14:02, 10.81s/it]"
     ]
    },
    {
     "name": "stderr",
     "output_type": "stream",
     "text": [
      "\r",
      "Generating responses:  62%|####################################9                       | 123/200 [22:07<13:51, 10.80s/it]"
     ]
    },
    {
     "name": "stderr",
     "output_type": "stream",
     "text": [
      "\r",
      "Generating responses:  62%|#####################################2                      | 124/200 [22:19<13:40, 10.80s/it]"
     ]
    },
    {
     "name": "stderr",
     "output_type": "stream",
     "text": [
      "\r",
      "Generating responses:  62%|#####################################5                      | 125/200 [22:27<13:28, 10.78s/it]"
     ]
    },
    {
     "name": "stderr",
     "output_type": "stream",
     "text": [
      "\r",
      "Generating responses:  63%|#####################################8                      | 126/200 [22:39<13:18, 10.79s/it]"
     ]
    },
    {
     "name": "stderr",
     "output_type": "stream",
     "text": [
      "\r",
      "Generating responses:  64%|######################################1                     | 127/200 [22:51<13:08, 10.80s/it]"
     ]
    },
    {
     "name": "stderr",
     "output_type": "stream",
     "text": [
      "\r",
      "Generating responses:  64%|######################################4                     | 128/200 [23:03<12:57, 10.81s/it]"
     ]
    },
    {
     "name": "stderr",
     "output_type": "stream",
     "text": [
      "\r",
      "Generating responses:  64%|######################################7                     | 129/200 [23:15<12:48, 10.82s/it]"
     ]
    },
    {
     "name": "stderr",
     "output_type": "stream",
     "text": [
      "\r",
      "Generating responses:  65%|#######################################                     | 130/200 [23:27<12:38, 10.83s/it]"
     ]
    },
    {
     "name": "stderr",
     "output_type": "stream",
     "text": [
      "\r",
      "Generating responses:  66%|#######################################3                    | 131/200 [23:35<12:25, 10.80s/it]"
     ]
    },
    {
     "name": "stderr",
     "output_type": "stream",
     "text": [
      "\r",
      "Generating responses:  66%|#######################################6                    | 132/200 [23:46<12:14, 10.81s/it]"
     ]
    },
    {
     "name": "stderr",
     "output_type": "stream",
     "text": [
      "\r",
      "Generating responses:  66%|#######################################9                    | 133/200 [23:57<12:04, 10.81s/it]"
     ]
    },
    {
     "name": "stderr",
     "output_type": "stream",
     "text": [
      "\r",
      "Generating responses:  67%|########################################2                   | 134/200 [24:09<11:54, 10.82s/it]"
     ]
    },
    {
     "name": "stderr",
     "output_type": "stream",
     "text": [
      "\r",
      "Generating responses:  68%|########################################5                   | 135/200 [24:15<11:40, 10.78s/it]"
     ]
    },
    {
     "name": "stderr",
     "output_type": "stream",
     "text": [
      "\r",
      "Generating responses:  68%|########################################8                   | 136/200 [24:21<11:27, 10.75s/it]"
     ]
    },
    {
     "name": "stderr",
     "output_type": "stream",
     "text": [
      "\r",
      "Generating responses:  68%|#########################################1                  | 137/200 [24:33<11:17, 10.76s/it]"
     ]
    },
    {
     "name": "stderr",
     "output_type": "stream",
     "text": [
      "\r",
      "Generating responses:  69%|#########################################4                  | 138/200 [24:45<11:07, 10.77s/it]"
     ]
    },
    {
     "name": "stderr",
     "output_type": "stream",
     "text": [
      "\r",
      "Generating responses:  70%|#########################################6                  | 139/200 [24:52<10:55, 10.74s/it]"
     ]
    },
    {
     "name": "stderr",
     "output_type": "stream",
     "text": [
      "\r",
      "Generating responses:  70%|##########################################                  | 140/200 [25:03<10:44, 10.74s/it]"
     ]
    },
    {
     "name": "stderr",
     "output_type": "stream",
     "text": [
      "\r",
      "Generating responses:  70%|##########################################3                 | 141/200 [25:14<10:33, 10.74s/it]"
     ]
    },
    {
     "name": "stderr",
     "output_type": "stream",
     "text": [
      "\r",
      "Generating responses:  71%|##########################################5                 | 142/200 [25:27<10:23, 10.75s/it]"
     ]
    },
    {
     "name": "stderr",
     "output_type": "stream",
     "text": [
      "\r",
      "Generating responses:  72%|##########################################9                 | 143/200 [25:33<10:11, 10.72s/it]"
     ]
    },
    {
     "name": "stderr",
     "output_type": "stream",
     "text": [
      "\r",
      "Generating responses:  72%|###########################################1                | 144/200 [25:43<10:00, 10.72s/it]"
     ]
    },
    {
     "name": "stderr",
     "output_type": "stream",
     "text": [
      "\r",
      "Generating responses:  72%|###########################################5                | 145/200 [25:52<09:48, 10.71s/it]"
     ]
    },
    {
     "name": "stderr",
     "output_type": "stream",
     "text": [
      "\r",
      "Generating responses:  73%|###########################################8                | 146/200 [26:04<09:38, 10.72s/it]"
     ]
    },
    {
     "name": "stderr",
     "output_type": "stream",
     "text": [
      "\r",
      "Generating responses:  74%|############################################1               | 147/200 [26:15<09:27, 10.72s/it]"
     ]
    },
    {
     "name": "stderr",
     "output_type": "stream",
     "text": [
      "\r",
      "Generating responses:  74%|############################################4               | 148/200 [26:27<09:17, 10.73s/it]"
     ]
    },
    {
     "name": "stderr",
     "output_type": "stream",
     "text": [
      "\r",
      "Generating responses:  74%|############################################7               | 149/200 [26:38<09:07, 10.73s/it]"
     ]
    },
    {
     "name": "stderr",
     "output_type": "stream",
     "text": [
      "\r",
      "Generating responses:  75%|#############################################               | 150/200 [26:49<08:56, 10.73s/it]"
     ]
    },
    {
     "name": "stderr",
     "output_type": "stream",
     "text": [
      "\r",
      "Generating responses:  76%|#############################################3              | 151/200 [26:56<08:44, 10.70s/it]"
     ]
    },
    {
     "name": "stderr",
     "output_type": "stream",
     "text": [
      "\r",
      "Generating responses:  76%|#############################################6              | 152/200 [27:07<08:33, 10.71s/it]"
     ]
    },
    {
     "name": "stderr",
     "output_type": "stream",
     "text": [
      "\r",
      "Generating responses:  76%|#############################################9              | 153/200 [27:20<08:23, 10.72s/it]"
     ]
    },
    {
     "name": "stderr",
     "output_type": "stream",
     "text": [
      "\r",
      "Generating responses:  77%|##############################################2             | 154/200 [27:31<08:13, 10.72s/it]"
     ]
    },
    {
     "name": "stderr",
     "output_type": "stream",
     "text": [
      "\r",
      "Generating responses:  78%|##############################################5             | 155/200 [27:43<08:02, 10.73s/it]"
     ]
    },
    {
     "name": "stderr",
     "output_type": "stream",
     "text": [
      "\r",
      "Generating responses:  78%|##############################################8             | 156/200 [27:53<07:52, 10.73s/it]"
     ]
    },
    {
     "name": "stderr",
     "output_type": "stream",
     "text": [
      "\r",
      "Generating responses:  78%|###############################################1            | 157/200 [28:05<07:41, 10.74s/it]"
     ]
    },
    {
     "name": "stderr",
     "output_type": "stream",
     "text": [
      "\r",
      "Generating responses:  79%|###############################################4            | 158/200 [28:18<07:31, 10.75s/it]"
     ]
    },
    {
     "name": "stderr",
     "output_type": "stream",
     "text": [
      "\r",
      "Generating responses:  80%|###############################################7            | 159/200 [28:30<07:21, 10.76s/it]"
     ]
    },
    {
     "name": "stderr",
     "output_type": "stream",
     "text": [
      "\r",
      "Generating responses:  80%|################################################            | 160/200 [28:42<07:10, 10.77s/it]"
     ]
    },
    {
     "name": "stderr",
     "output_type": "stream",
     "text": [
      "\r",
      "Generating responses:  80%|################################################3           | 161/200 [28:54<07:00, 10.77s/it]"
     ]
    },
    {
     "name": "stderr",
     "output_type": "stream",
     "text": [
      "\r",
      "Generating responses:  81%|################################################6           | 162/200 [29:07<06:49, 10.78s/it]"
     ]
    },
    {
     "name": "stderr",
     "output_type": "stream",
     "text": [
      "\r",
      "Generating responses:  82%|################################################9           | 163/200 [29:16<06:38, 10.77s/it]"
     ]
    },
    {
     "name": "stderr",
     "output_type": "stream",
     "text": [
      "\r",
      "Generating responses:  82%|#################################################1          | 164/200 [29:25<06:27, 10.76s/it]"
     ]
    },
    {
     "name": "stderr",
     "output_type": "stream",
     "text": [
      "\r",
      "Generating responses:  82%|#################################################5          | 165/200 [29:35<06:16, 10.76s/it]"
     ]
    },
    {
     "name": "stderr",
     "output_type": "stream",
     "text": [
      "\r",
      "Generating responses:  83%|#################################################8          | 166/200 [29:46<06:05, 10.76s/it]"
     ]
    },
    {
     "name": "stderr",
     "output_type": "stream",
     "text": [
      "\r",
      "Generating responses:  84%|##################################################          | 167/200 [29:57<05:55, 10.77s/it]"
     ]
    },
    {
     "name": "stderr",
     "output_type": "stream",
     "text": [
      "\r",
      "Generating responses:  84%|##################################################4         | 168/200 [30:10<05:44, 10.78s/it]"
     ]
    },
    {
     "name": "stderr",
     "output_type": "stream",
     "text": [
      "\r",
      "Generating responses:  84%|##################################################6         | 169/200 [30:22<05:34, 10.79s/it]"
     ]
    },
    {
     "name": "stderr",
     "output_type": "stream",
     "text": [
      "\r",
      "Generating responses:  85%|###################################################         | 170/200 [30:35<05:23, 10.80s/it]"
     ]
    },
    {
     "name": "stderr",
     "output_type": "stream",
     "text": [
      "\r",
      "Generating responses:  86%|###################################################3        | 171/200 [30:47<05:13, 10.80s/it]"
     ]
    },
    {
     "name": "stderr",
     "output_type": "stream",
     "text": [
      "\r",
      "Generating responses:  86%|###################################################6        | 172/200 [30:58<05:02, 10.80s/it]"
     ]
    },
    {
     "name": "stderr",
     "output_type": "stream",
     "text": [
      "\r",
      "Generating responses:  86%|###################################################9        | 173/200 [31:10<04:51, 10.81s/it]"
     ]
    },
    {
     "name": "stderr",
     "output_type": "stream",
     "text": [
      "\r",
      "Generating responses:  87%|####################################################2       | 174/200 [31:22<04:41, 10.82s/it]"
     ]
    },
    {
     "name": "stderr",
     "output_type": "stream",
     "text": [
      "\r",
      "Generating responses:  88%|####################################################5       | 175/200 [31:35<04:30, 10.83s/it]"
     ]
    },
    {
     "name": "stderr",
     "output_type": "stream",
     "text": [
      "\r",
      "Generating responses:  88%|####################################################8       | 176/200 [31:47<04:20, 10.84s/it]"
     ]
    },
    {
     "name": "stderr",
     "output_type": "stream",
     "text": [
      "\r",
      "Generating responses:  88%|#####################################################1      | 177/200 [31:56<04:09, 10.83s/it]"
     ]
    },
    {
     "name": "stderr",
     "output_type": "stream",
     "text": [
      "\r",
      "Generating responses:  89%|#####################################################4      | 178/200 [32:08<03:58, 10.84s/it]"
     ]
    },
    {
     "name": "stderr",
     "output_type": "stream",
     "text": [
      "\r",
      "Generating responses:  90%|#####################################################7      | 179/200 [32:19<03:47, 10.83s/it]"
     ]
    },
    {
     "name": "stderr",
     "output_type": "stream",
     "text": [
      "\r",
      "Generating responses:  90%|######################################################      | 180/200 [32:30<03:36, 10.84s/it]"
     ]
    },
    {
     "name": "stderr",
     "output_type": "stream",
     "text": [
      "\r",
      "Generating responses:  90%|######################################################3     | 181/200 [32:40<03:25, 10.83s/it]"
     ]
    },
    {
     "name": "stderr",
     "output_type": "stream",
     "text": [
      "\r",
      "Generating responses:  91%|######################################################6     | 182/200 [32:49<03:14, 10.82s/it]"
     ]
    },
    {
     "name": "stderr",
     "output_type": "stream",
     "text": [
      "\r",
      "Generating responses:  92%|######################################################9     | 183/200 [33:01<03:04, 10.83s/it]"
     ]
    },
    {
     "name": "stderr",
     "output_type": "stream",
     "text": [
      "\r",
      "Generating responses:  92%|#######################################################2    | 184/200 [33:10<02:53, 10.82s/it]"
     ]
    },
    {
     "name": "stderr",
     "output_type": "stream",
     "text": [
      "\r",
      "Generating responses:  92%|#######################################################5    | 185/200 [33:23<02:42, 10.83s/it]"
     ]
    },
    {
     "name": "stderr",
     "output_type": "stream",
     "text": [
      "\r",
      "Generating responses:  93%|#######################################################8    | 186/200 [33:35<02:31, 10.84s/it]"
     ]
    },
    {
     "name": "stderr",
     "output_type": "stream",
     "text": [
      "\r",
      "Generating responses:  94%|########################################################1   | 187/200 [33:45<02:20, 10.83s/it]"
     ]
    },
    {
     "name": "stderr",
     "output_type": "stream",
     "text": [
      "\r",
      "Generating responses:  94%|########################################################4   | 188/200 [33:57<02:10, 10.84s/it]"
     ]
    },
    {
     "name": "stderr",
     "output_type": "stream",
     "text": [
      "\r",
      "Generating responses:  94%|########################################################7   | 189/200 [34:08<01:59, 10.84s/it]"
     ]
    },
    {
     "name": "stderr",
     "output_type": "stream",
     "text": [
      "\r",
      "Generating responses:  95%|#########################################################   | 190/200 [34:20<01:48, 10.85s/it]"
     ]
    },
    {
     "name": "stderr",
     "output_type": "stream",
     "text": [
      "\r",
      "Generating responses:  96%|#########################################################3  | 191/200 [34:33<01:37, 10.85s/it]"
     ]
    },
    {
     "name": "stderr",
     "output_type": "stream",
     "text": [
      "\r",
      "Generating responses:  96%|#########################################################6  | 192/200 [34:45<01:26, 10.86s/it]"
     ]
    },
    {
     "name": "stderr",
     "output_type": "stream",
     "text": [
      "\r",
      "Generating responses:  96%|#########################################################9  | 193/200 [34:57<01:16, 10.87s/it]"
     ]
    },
    {
     "name": "stderr",
     "output_type": "stream",
     "text": [
      "\r",
      "Generating responses:  97%|##########################################################2 | 194/200 [35:10<01:05, 10.88s/it]"
     ]
    },
    {
     "name": "stderr",
     "output_type": "stream",
     "text": [
      "\r",
      "Generating responses:  98%|##########################################################5 | 195/200 [35:22<00:54, 10.89s/it]"
     ]
    },
    {
     "name": "stderr",
     "output_type": "stream",
     "text": [
      "\r",
      "Generating responses:  98%|##########################################################8 | 196/200 [35:35<00:43, 10.89s/it]"
     ]
    },
    {
     "name": "stderr",
     "output_type": "stream",
     "text": [
      "\r",
      "Generating responses:  98%|###########################################################1| 197/200 [35:47<00:32, 10.90s/it]"
     ]
    },
    {
     "name": "stderr",
     "output_type": "stream",
     "text": [
      "\r",
      "Generating responses:  99%|###########################################################4| 198/200 [35:59<00:21, 10.91s/it]"
     ]
    },
    {
     "name": "stderr",
     "output_type": "stream",
     "text": [
      "\r",
      "Generating responses: 100%|###########################################################7| 199/200 [36:10<00:10, 10.91s/it]"
     ]
    },
    {
     "name": "stderr",
     "output_type": "stream",
     "text": [
      "\r",
      "Generating responses: 100%|############################################################| 200/200 [36:23<00:00, 10.92s/it]"
     ]
    },
    {
     "name": "stderr",
     "output_type": "stream",
     "text": [
      "\r",
      "Generating responses: 100%|############################################################| 200/200 [36:23<00:00, 10.92s/it]"
     ]
    },
    {
     "name": "stderr",
     "output_type": "stream",
     "text": [
      "\n"
     ]
    },
    {
     "name": "stdout",
     "output_type": "stream",
     "text": [
      "Generating responses for:  temp/llama-3.1-8B-it_responses.json\n"
     ]
    },
    {
     "name": "stderr",
     "output_type": "stream",
     "text": [
      "\r",
      "Generating responses:   0%|                                                                      | 0/200 [00:00<?, ?it/s]"
     ]
    },
    {
     "name": "stderr",
     "output_type": "stream",
     "text": [
      "\r",
      "Generating responses:   0%|2                                                         | 1/200 [08:09<27:03:19, 489.44s/it]"
     ]
    },
    {
     "name": "stderr",
     "output_type": "stream",
     "text": [
      "\r",
      "Generating responses:   1%|5                                                         | 2/200 [08:34<14:08:25, 257.10s/it]"
     ]
    },
    {
     "name": "stderr",
     "output_type": "stream",
     "text": [
      "\r",
      "Generating responses:   2%|8                                                          | 3/200 [09:02<9:53:40, 180.82s/it]"
     ]
    },
    {
     "name": "stderr",
     "output_type": "stream",
     "text": [
      "\r",
      "Generating responses:   2%|#1                                                         | 4/200 [09:40<7:53:58, 145.10s/it]"
     ]
    },
    {
     "name": "stderr",
     "output_type": "stream",
     "text": [
      "\r",
      "Generating responses:   2%|#4                                                         | 5/200 [10:17<6:41:30, 123.54s/it]"
     ]
    },
    {
     "name": "stderr",
     "output_type": "stream",
     "text": [
      "\r",
      "Generating responses:   3%|#7                                                         | 6/200 [10:31<5:40:28, 105.30s/it]"
     ]
    },
    {
     "name": "stderr",
     "output_type": "stream",
     "text": [
      "\r",
      "Generating responses:   4%|##1                                                         | 7/200 [11:04<5:05:15, 94.90s/it]"
     ]
    },
    {
     "name": "stderr",
     "output_type": "stream",
     "text": [
      "\r",
      "Generating responses:   4%|##4                                                         | 8/200 [11:51<4:44:43, 88.98s/it]"
     ]
    },
    {
     "name": "stderr",
     "output_type": "stream",
     "text": [
      "\r",
      "Generating responses:   4%|##6                                                         | 9/200 [12:23<4:23:01, 82.63s/it]"
     ]
    },
    {
     "name": "stderr",
     "output_type": "stream",
     "text": [
      "\r",
      "Generating responses:   5%|##9                                                        | 10/200 [13:02<4:07:51, 78.27s/it]"
     ]
    },
    {
     "name": "stderr",
     "output_type": "stream",
     "text": [
      "\r",
      "Generating responses:   6%|###2                                                       | 11/200 [13:36<3:53:56, 74.26s/it]"
     ]
    },
    {
     "name": "stderr",
     "output_type": "stream",
     "text": [
      "\r",
      "Generating responses:   6%|###5                                                       | 12/200 [14:29<3:46:55, 72.42s/it]"
     ]
    },
    {
     "name": "stderr",
     "output_type": "stream",
     "text": [
      "\r",
      "Generating responses:   6%|###8                                                       | 13/200 [14:55<3:34:35, 68.85s/it]"
     ]
    },
    {
     "name": "stderr",
     "output_type": "stream",
     "text": [
      "\r",
      "Generating responses:   7%|####1                                                      | 14/200 [15:29<3:25:43, 66.36s/it]"
     ]
    },
    {
     "name": "stderr",
     "output_type": "stream",
     "text": [
      "\r",
      "Generating responses:   8%|####4                                                      | 15/200 [15:55<3:16:28, 63.72s/it]"
     ]
    },
    {
     "name": "stderr",
     "output_type": "stream",
     "text": [
      "\r",
      "Generating responses:   8%|####7                                                      | 16/200 [16:29<3:09:43, 61.87s/it]"
     ]
    },
    {
     "name": "stderr",
     "output_type": "stream",
     "text": [
      "\r",
      "Generating responses:   8%|#####                                                      | 17/200 [17:03<3:03:35, 60.19s/it]"
     ]
    },
    {
     "name": "stderr",
     "output_type": "stream",
     "text": [
      "\r",
      "Generating responses:   9%|#####3                                                     | 18/200 [17:40<2:58:43, 58.92s/it]"
     ]
    },
    {
     "name": "stderr",
     "output_type": "stream",
     "text": [
      "\r",
      "Generating responses:  10%|#####6                                                     | 19/200 [17:47<2:49:32, 56.20s/it]"
     ]
    },
    {
     "name": "stderr",
     "output_type": "stream",
     "text": [
      "\r",
      "Generating responses:  10%|#####9                                                     | 20/200 [18:11<2:43:44, 54.58s/it]"
     ]
    },
    {
     "name": "stderr",
     "output_type": "stream",
     "text": [
      "\r",
      "Generating responses:  10%|######1                                                    | 21/200 [18:52<2:40:51, 53.92s/it]"
     ]
    },
    {
     "name": "stderr",
     "output_type": "stream",
     "text": [
      "\r",
      "Generating responses:  11%|######4                                                    | 22/200 [19:35<2:38:28, 53.42s/it]"
     ]
    },
    {
     "name": "stderr",
     "output_type": "stream",
     "text": [
      "\r",
      "Generating responses:  12%|######7                                                    | 23/200 [20:08<2:35:01, 52.55s/it]"
     ]
    },
    {
     "name": "stderr",
     "output_type": "stream",
     "text": [
      "\r",
      "Generating responses:  12%|#######                                                    | 24/200 [20:42<2:31:48, 51.75s/it]"
     ]
    },
    {
     "name": "stderr",
     "output_type": "stream",
     "text": [
      "\r",
      "Generating responses:  12%|#######3                                                   | 25/200 [21:05<2:27:35, 50.60s/it]"
     ]
    },
    {
     "name": "stderr",
     "output_type": "stream",
     "text": [
      "\r",
      "Generating responses:  13%|#######6                                                   | 26/200 [21:51<2:26:16, 50.44s/it]"
     ]
    },
    {
     "name": "stderr",
     "output_type": "stream",
     "text": [
      "\r",
      "Generating responses:  14%|#######9                                                   | 27/200 [21:57<2:20:42, 48.80s/it]"
     ]
    },
    {
     "name": "stderr",
     "output_type": "stream",
     "text": [
      "\r",
      "Generating responses:  14%|########2                                                  | 28/200 [22:27<2:17:58, 48.13s/it]"
     ]
    },
    {
     "name": "stderr",
     "output_type": "stream",
     "text": [
      "\r",
      "Generating responses:  14%|########5                                                  | 29/200 [23:07<2:16:23, 47.86s/it]"
     ]
    },
    {
     "name": "stderr",
     "output_type": "stream",
     "text": [
      "\r",
      "Generating responses:  15%|########8                                                  | 30/200 [23:31<2:13:19, 47.06s/it]"
     ]
    },
    {
     "name": "stderr",
     "output_type": "stream",
     "text": [
      "\r",
      "Generating responses:  16%|#########1                                                 | 31/200 [24:05<2:11:21, 46.63s/it]"
     ]
    },
    {
     "name": "stderr",
     "output_type": "stream",
     "text": [
      "\r",
      "Generating responses:  16%|#########4                                                 | 32/200 [24:37<2:09:19, 46.19s/it]"
     ]
    },
    {
     "name": "stderr",
     "output_type": "stream",
     "text": [
      "\r",
      "Generating responses:  16%|#########7                                                 | 33/200 [24:49<2:05:39, 45.15s/it]"
     ]
    },
    {
     "name": "stderr",
     "output_type": "stream",
     "text": [
      "\r",
      "Generating responses:  17%|##########                                                 | 34/200 [25:24<2:04:04, 44.85s/it]"
     ]
    },
    {
     "name": "stderr",
     "output_type": "stream",
     "text": [
      "\r",
      "Generating responses:  18%|##########3                                                | 35/200 [25:47<2:01:36, 44.22s/it]"
     ]
    },
    {
     "name": "stderr",
     "output_type": "stream",
     "text": [
      "\r",
      "Generating responses:  18%|##########6                                                | 36/200 [26:22<2:00:08, 43.95s/it]"
     ]
    },
    {
     "name": "stderr",
     "output_type": "stream",
     "text": [
      "\r",
      "Generating responses:  18%|##########9                                                | 37/200 [26:59<1:58:54, 43.77s/it]"
     ]
    },
    {
     "name": "stderr",
     "output_type": "stream",
     "text": [
      "\r",
      "Generating responses:  19%|###########2                                               | 38/200 [27:34<1:57:32, 43.53s/it]"
     ]
    },
    {
     "name": "stderr",
     "output_type": "stream",
     "text": [
      "\r",
      "Generating responses:  20%|###########5                                               | 39/200 [27:35<1:53:53, 42.44s/it]"
     ]
    },
    {
     "name": "stderr",
     "output_type": "stream",
     "text": [
      "\r",
      "Generating responses:  20%|###########8                                               | 40/200 [28:06<1:52:27, 42.17s/it]"
     ]
    },
    {
     "name": "stderr",
     "output_type": "stream",
     "text": [
      "\r",
      "Generating responses:  20%|############                                               | 41/200 [28:25<1:50:15, 41.60s/it]"
     ]
    },
    {
     "name": "stderr",
     "output_type": "stream",
     "text": [
      "\r",
      "Generating responses:  21%|############3                                              | 42/200 [28:59<1:49:02, 41.41s/it]"
     ]
    },
    {
     "name": "stderr",
     "output_type": "stream",
     "text": [
      "\r",
      "Generating responses:  22%|############6                                              | 43/200 [29:39<1:48:17, 41.38s/it]"
     ]
    },
    {
     "name": "stderr",
     "output_type": "stream",
     "text": [
      "\r",
      "Generating responses:  22%|############9                                              | 44/200 [30:12<1:47:04, 41.18s/it]"
     ]
    },
    {
     "name": "stderr",
     "output_type": "stream",
     "text": [
      "\r",
      "Generating responses:  22%|#############2                                             | 45/200 [30:50<1:46:12, 41.11s/it]"
     ]
    },
    {
     "name": "stderr",
     "output_type": "stream",
     "text": [
      "\r",
      "Generating responses:  23%|#############5                                             | 46/200 [31:21<1:44:58, 40.90s/it]"
     ]
    },
    {
     "name": "stderr",
     "output_type": "stream",
     "text": [
      "\r",
      "Generating responses:  24%|#############8                                             | 47/200 [31:56<1:43:59, 40.78s/it]"
     ]
    },
    {
     "name": "stderr",
     "output_type": "stream",
     "text": [
      "\r",
      "Generating responses:  24%|##############1                                            | 48/200 [32:34<1:43:08, 40.72s/it]"
     ]
    },
    {
     "name": "stderr",
     "output_type": "stream",
     "text": [
      "\r",
      "Generating responses:  24%|##############4                                            | 49/200 [32:54<1:41:25, 40.30s/it]"
     ]
    },
    {
     "name": "stderr",
     "output_type": "stream",
     "text": [
      "\r",
      "Generating responses:  25%|##############7                                            | 50/200 [33:20<1:40:01, 40.01s/it]"
     ]
    },
    {
     "name": "stderr",
     "output_type": "stream",
     "text": [
      "\r",
      "Generating responses:  26%|###############                                            | 51/200 [33:58<1:39:16, 39.98s/it]"
     ]
    },
    {
     "name": "stderr",
     "output_type": "stream",
     "text": [
      "\r",
      "Generating responses:  26%|###############3                                           | 52/200 [34:40<1:38:41, 40.01s/it]"
     ]
    },
    {
     "name": "stderr",
     "output_type": "stream",
     "text": [
      "\r",
      "Generating responses:  26%|###############6                                           | 53/200 [35:13<1:37:42, 39.88s/it]"
     ]
    },
    {
     "name": "stderr",
     "output_type": "stream",
     "text": [
      "\r",
      "Generating responses:  27%|###############9                                           | 54/200 [35:56<1:37:10, 39.93s/it]"
     ]
    },
    {
     "name": "stderr",
     "output_type": "stream",
     "text": [
      "\r",
      "Generating responses:  28%|################2                                          | 55/200 [36:25<1:36:00, 39.73s/it]"
     ]
    },
    {
     "name": "stderr",
     "output_type": "stream",
     "text": [
      "\r",
      "Generating responses:  28%|################5                                          | 56/200 [36:54<1:34:53, 39.54s/it]"
     ]
    },
    {
     "name": "stderr",
     "output_type": "stream",
     "text": [
      "\r",
      "Generating responses:  28%|################8                                          | 57/200 [37:29<1:34:02, 39.46s/it]"
     ]
    },
    {
     "name": "stderr",
     "output_type": "stream",
     "text": [
      "\r",
      "Generating responses:  29%|#################1                                         | 58/200 [37:38<1:32:10, 38.95s/it]"
     ]
    },
    {
     "name": "stderr",
     "output_type": "stream",
     "text": [
      "\r",
      "Generating responses:  30%|#################4                                         | 59/200 [38:13<1:31:22, 38.88s/it]"
     ]
    },
    {
     "name": "stderr",
     "output_type": "stream",
     "text": [
      "\r",
      "Generating responses:  30%|#################7                                         | 60/200 [38:43<1:30:21, 38.72s/it]"
     ]
    },
    {
     "name": "stderr",
     "output_type": "stream",
     "text": [
      "\r",
      "Generating responses:  30%|#################9                                         | 61/200 [38:51<1:28:33, 38.23s/it]"
     ]
    },
    {
     "name": "stderr",
     "output_type": "stream",
     "text": [
      "\r",
      "Generating responses:  31%|##################2                                        | 62/200 [39:24<1:27:43, 38.14s/it]"
     ]
    },
    {
     "name": "stderr",
     "output_type": "stream",
     "text": [
      "\r",
      "Generating responses:  32%|##################5                                        | 63/200 [40:00<1:27:00, 38.10s/it]"
     ]
    },
    {
     "name": "stderr",
     "output_type": "stream",
     "text": [
      "\r",
      "Generating responses:  32%|##################8                                        | 64/200 [40:11<1:25:24, 37.68s/it]"
     ]
    },
    {
     "name": "stderr",
     "output_type": "stream",
     "text": [
      "\r",
      "Generating responses:  32%|###################1                                       | 65/200 [40:43<1:24:34, 37.59s/it]"
     ]
    },
    {
     "name": "stderr",
     "output_type": "stream",
     "text": [
      "\r",
      "Generating responses:  33%|###################4                                       | 66/200 [41:19<1:23:53, 37.57s/it]"
     ]
    },
    {
     "name": "stderr",
     "output_type": "stream",
     "text": [
      "\r",
      "Generating responses:  34%|###################7                                       | 67/200 [41:36<1:22:35, 37.26s/it]"
     ]
    },
    {
     "name": "stderr",
     "output_type": "stream",
     "text": [
      "\r",
      "Generating responses:  34%|####################                                       | 68/200 [42:14<1:21:59, 37.27s/it]"
     ]
    },
    {
     "name": "stderr",
     "output_type": "stream",
     "text": [
      "\r",
      "Generating responses:  34%|####################3                                      | 69/200 [42:47<1:21:15, 37.22s/it]"
     ]
    },
    {
     "name": "stderr",
     "output_type": "stream",
     "text": [
      "\r",
      "Generating responses:  35%|####################6                                      | 70/200 [43:26<1:20:40, 37.24s/it]"
     ]
    },
    {
     "name": "stderr",
     "output_type": "stream",
     "text": [
      "\r",
      "Generating responses:  36%|####################9                                      | 71/200 [44:01<1:19:58, 37.20s/it]"
     ]
    },
    {
     "name": "stderr",
     "output_type": "stream",
     "text": [
      "\r",
      "Generating responses:  36%|#####################2                                     | 72/200 [44:42<1:19:28, 37.25s/it]"
     ]
    },
    {
     "name": "stderr",
     "output_type": "stream",
     "text": [
      "\r",
      "Generating responses:  36%|#####################5                                     | 73/200 [45:04<1:18:25, 37.05s/it]"
     ]
    },
    {
     "name": "stderr",
     "output_type": "stream",
     "text": [
      "\r",
      "Generating responses:  37%|#####################8                                     | 74/200 [45:42<1:17:49, 37.06s/it]"
     ]
    },
    {
     "name": "stderr",
     "output_type": "stream",
     "text": [
      "\r",
      "Generating responses:  38%|######################1                                    | 75/200 [46:04<1:16:46, 36.85s/it]"
     ]
    },
    {
     "name": "stderr",
     "output_type": "stream",
     "text": [
      "\r",
      "Generating responses:  38%|######################4                                    | 76/200 [46:35<1:16:00, 36.78s/it]"
     ]
    },
    {
     "name": "stderr",
     "output_type": "stream",
     "text": [
      "\r",
      "Generating responses:  38%|######################7                                    | 77/200 [47:16<1:15:31, 36.84s/it]"
     ]
    },
    {
     "name": "stderr",
     "output_type": "stream",
     "text": [
      "\r",
      "Generating responses:  39%|#######################                                    | 78/200 [47:22<1:14:05, 36.44s/it]"
     ]
    },
    {
     "name": "stderr",
     "output_type": "stream",
     "text": [
      "\r",
      "Generating responses:  40%|#######################3                                   | 79/200 [47:57<1:13:27, 36.42s/it]"
     ]
    },
    {
     "name": "stderr",
     "output_type": "stream",
     "text": [
      "\r",
      "Generating responses:  40%|#######################6                                   | 80/200 [48:36<1:12:54, 36.46s/it]"
     ]
    },
    {
     "name": "stderr",
     "output_type": "stream",
     "text": [
      "\r",
      "Generating responses:  40%|#######################8                                   | 81/200 [49:05<1:12:07, 36.37s/it]"
     ]
    },
    {
     "name": "stderr",
     "output_type": "stream",
     "text": [
      "\r",
      "Generating responses:  41%|########################1                                  | 82/200 [49:06<1:10:39, 35.93s/it]"
     ]
    },
    {
     "name": "stderr",
     "output_type": "stream",
     "text": [
      "\r",
      "Generating responses:  42%|########################4                                  | 83/200 [49:38<1:09:58, 35.89s/it]"
     ]
    },
    {
     "name": "stderr",
     "output_type": "stream",
     "text": [
      "\r",
      "Generating responses:  42%|########################7                                  | 84/200 [50:06<1:09:11, 35.79s/it]"
     ]
    },
    {
     "name": "stderr",
     "output_type": "stream",
     "text": [
      "\r",
      "Generating responses:  42%|#########################                                  | 85/200 [50:40<1:08:34, 35.78s/it]"
     ]
    },
    {
     "name": "stderr",
     "output_type": "stream",
     "text": [
      "\r",
      "Generating responses:  43%|#########################3                                 | 86/200 [51:16<1:07:58, 35.77s/it]"
     ]
    },
    {
     "name": "stderr",
     "output_type": "stream",
     "text": [
      "\r",
      "Generating responses:  44%|#########################6                                 | 87/200 [51:54<1:07:25, 35.80s/it]"
     ]
    },
    {
     "name": "stderr",
     "output_type": "stream",
     "text": [
      "\r",
      "Generating responses:  44%|#########################9                                 | 88/200 [52:21<1:06:38, 35.70s/it]"
     ]
    },
    {
     "name": "stderr",
     "output_type": "stream",
     "text": [
      "\r",
      "Generating responses:  44%|##########################2                                | 89/200 [52:52<1:05:57, 35.65s/it]"
     ]
    },
    {
     "name": "stderr",
     "output_type": "stream",
     "text": [
      "\r",
      "Generating responses:  45%|##########################5                                | 90/200 [53:23<1:05:15, 35.59s/it]"
     ]
    },
    {
     "name": "stderr",
     "output_type": "stream",
     "text": [
      "\r",
      "Generating responses:  46%|##########################8                                | 91/200 [53:35<1:04:10, 35.33s/it]"
     ]
    },
    {
     "name": "stderr",
     "output_type": "stream",
     "text": [
      "\r",
      "Generating responses:  46%|###########################1                               | 92/200 [53:58<1:03:21, 35.20s/it]"
     ]
    },
    {
     "name": "stderr",
     "output_type": "stream",
     "text": [
      "\r",
      "Generating responses:  46%|###########################4                               | 93/200 [54:29<1:02:42, 35.16s/it]"
     ]
    },
    {
     "name": "stderr",
     "output_type": "stream",
     "text": [
      "\r",
      "Generating responses:  47%|###########################7                               | 94/200 [54:48<1:01:48, 34.99s/it]"
     ]
    },
    {
     "name": "stderr",
     "output_type": "stream",
     "text": [
      "\r",
      "Generating responses:  48%|############################                               | 95/200 [55:21<1:01:11, 34.96s/it]"
     ]
    },
    {
     "name": "stderr",
     "output_type": "stream",
     "text": [
      "\r",
      "Generating responses:  48%|############################3                              | 96/200 [55:57<1:00:37, 34.97s/it]"
     ]
    },
    {
     "name": "stderr",
     "output_type": "stream",
     "text": [
      "\r",
      "Generating responses:  48%|#############################5                               | 97/200 [56:29<59:58, 34.94s/it]"
     ]
    },
    {
     "name": "stderr",
     "output_type": "stream",
     "text": [
      "\r",
      "Generating responses:  49%|#############################8                               | 98/200 [57:10<59:30, 35.01s/it]"
     ]
    },
    {
     "name": "stderr",
     "output_type": "stream",
     "text": [
      "\r",
      "Generating responses:  50%|##############################1                              | 99/200 [58:00<59:10, 35.15s/it]"
     ]
    },
    {
     "name": "stderr",
     "output_type": "stream",
     "text": [
      "\r",
      "Generating responses:  50%|##############################                              | 100/200 [58:37<58:37, 35.17s/it]"
     ]
    },
    {
     "name": "stderr",
     "output_type": "stream",
     "text": [
      "\r",
      "Generating responses:  50%|##############################3                             | 101/200 [59:08<57:58, 35.14s/it]"
     ]
    },
    {
     "name": "stderr",
     "output_type": "stream",
     "text": [
      "\r",
      "Generating responses:  51%|##############################6                             | 102/200 [59:41<57:21, 35.11s/it]"
     ]
    },
    {
     "name": "stderr",
     "output_type": "stream",
     "text": [
      "\r",
      "Generating responses:  52%|#############################8                            | 103/200 [1:00:12<56:42, 35.08s/it]"
     ]
    },
    {
     "name": "stderr",
     "output_type": "stream",
     "text": [
      "\r",
      "Generating responses:  52%|##############################1                           | 104/200 [1:01:15<56:32, 35.34s/it]"
     ]
    },
    {
     "name": "stderr",
     "output_type": "stream",
     "text": [
      "\r",
      "Generating responses:  52%|##############################4                           | 105/200 [1:01:17<55:26, 35.02s/it]"
     ]
    },
    {
     "name": "stderr",
     "output_type": "stream",
     "text": [
      "\r",
      "Generating responses:  53%|##############################7                           | 106/200 [1:01:52<54:52, 35.03s/it]"
     ]
    },
    {
     "name": "stderr",
     "output_type": "stream",
     "text": [
      "\r",
      "Generating responses:  54%|###############################                           | 107/200 [1:02:27<54:16, 35.02s/it]"
     ]
    },
    {
     "name": "stderr",
     "output_type": "stream",
     "text": [
      "\r",
      "Generating responses:  54%|###############################3                          | 108/200 [1:03:07<53:46, 35.07s/it]"
     ]
    },
    {
     "name": "stderr",
     "output_type": "stream",
     "text": [
      "\r",
      "Generating responses:  55%|###############################6                          | 109/200 [1:04:10<53:34, 35.32s/it]"
     ]
    },
    {
     "name": "stderr",
     "output_type": "stream",
     "text": [
      "\r",
      "Generating responses:  55%|###############################9                          | 110/200 [1:04:56<53:08, 35.42s/it]"
     ]
    },
    {
     "name": "stderr",
     "output_type": "stream",
     "text": [
      "\r",
      "Generating responses:  56%|################################1                         | 111/200 [1:05:33<52:33, 35.44s/it]"
     ]
    },
    {
     "name": "stderr",
     "output_type": "stream",
     "text": [
      "\r",
      "Generating responses:  56%|################################4                         | 112/200 [1:06:05<51:55, 35.40s/it]"
     ]
    },
    {
     "name": "stderr",
     "output_type": "stream",
     "text": [
      "\r",
      "Generating responses:  56%|################################7                         | 113/200 [1:06:39<51:19, 35.39s/it]"
     ]
    },
    {
     "name": "stderr",
     "output_type": "stream",
     "text": [
      "\r",
      "Generating responses:  57%|#################################                         | 114/200 [1:07:08<50:39, 35.34s/it]"
     ]
    },
    {
     "name": "stderr",
     "output_type": "stream",
     "text": [
      "\r",
      "Generating responses:  57%|#################################3                        | 115/200 [1:07:22<49:48, 35.15s/it]"
     ]
    },
    {
     "name": "stderr",
     "output_type": "stream",
     "text": [
      "\r",
      "Generating responses:  58%|#################################6                        | 116/200 [1:08:03<49:17, 35.20s/it]"
     ]
    },
    {
     "name": "stderr",
     "output_type": "stream",
     "text": [
      "\r",
      "Generating responses:  58%|#################################9                        | 117/200 [1:08:43<48:45, 35.24s/it]"
     ]
    },
    {
     "name": "stderr",
     "output_type": "stream",
     "text": [
      "\r",
      "Generating responses:  59%|##################################2                       | 118/200 [1:09:17<48:08, 35.23s/it]"
     ]
    },
    {
     "name": "stderr",
     "output_type": "stream",
     "text": [
      "\r",
      "Generating responses:  60%|##################################5                       | 119/200 [1:09:56<47:36, 35.26s/it]"
     ]
    },
    {
     "name": "stderr",
     "output_type": "stream",
     "text": [
      "\r",
      "Generating responses:  60%|##################################8                       | 120/200 [1:10:31<47:00, 35.26s/it]"
     ]
    },
    {
     "name": "stderr",
     "output_type": "stream",
     "text": [
      "\r",
      "Generating responses:  60%|###################################                       | 121/200 [1:11:09<46:27, 35.29s/it]"
     ]
    },
    {
     "name": "stderr",
     "output_type": "stream",
     "text": [
      "\r",
      "Generating responses:  61%|###################################3                      | 122/200 [1:11:36<45:47, 35.22s/it]"
     ]
    },
    {
     "name": "stderr",
     "output_type": "stream",
     "text": [
      "\r",
      "Generating responses:  62%|###################################6                      | 123/200 [1:11:57<45:02, 35.10s/it]"
     ]
    },
    {
     "name": "stderr",
     "output_type": "stream",
     "text": [
      "\r",
      "Generating responses:  62%|###################################9                      | 124/200 [1:12:32<44:27, 35.10s/it]"
     ]
    },
    {
     "name": "stderr",
     "output_type": "stream",
     "text": [
      "\r",
      "Generating responses:  62%|####################################2                     | 125/200 [1:13:06<43:52, 35.09s/it]"
     ]
    },
    {
     "name": "stderr",
     "output_type": "stream",
     "text": [
      "\r",
      "Generating responses:  63%|####################################5                     | 126/200 [1:13:49<43:21, 35.16s/it]"
     ]
    },
    {
     "name": "stderr",
     "output_type": "stream",
     "text": [
      "\r",
      "Generating responses:  64%|####################################8                     | 127/200 [1:14:20<42:44, 35.13s/it]"
     ]
    },
    {
     "name": "stderr",
     "output_type": "stream",
     "text": [
      "\r",
      "Generating responses:  64%|#####################################1                    | 128/200 [1:14:54<42:08, 35.11s/it]"
     ]
    },
    {
     "name": "stderr",
     "output_type": "stream",
     "text": [
      "\r",
      "Generating responses:  64%|#####################################4                    | 129/200 [1:15:36<41:36, 35.17s/it]"
     ]
    },
    {
     "name": "stderr",
     "output_type": "stream",
     "text": [
      "\r",
      "Generating responses:  65%|#####################################7                    | 130/200 [1:16:05<40:58, 35.12s/it]"
     ]
    },
    {
     "name": "stderr",
     "output_type": "stream",
     "text": [
      "\r",
      "Generating responses:  66%|#####################################9                    | 131/200 [1:16:34<40:19, 35.07s/it]"
     ]
    },
    {
     "name": "stderr",
     "output_type": "stream",
     "text": [
      "\r",
      "Generating responses:  66%|######################################2                   | 132/200 [1:17:07<39:43, 35.06s/it]"
     ]
    },
    {
     "name": "stderr",
     "output_type": "stream",
     "text": [
      "\r",
      "Generating responses:  66%|######################################5                   | 133/200 [1:17:43<39:09, 35.07s/it]"
     ]
    },
    {
     "name": "stderr",
     "output_type": "stream",
     "text": [
      "\r",
      "Generating responses:  67%|######################################8                   | 134/200 [1:18:23<38:36, 35.10s/it]"
     ]
    },
    {
     "name": "stderr",
     "output_type": "stream",
     "text": [
      "\r",
      "Generating responses:  68%|#######################################1                  | 135/200 [1:18:52<37:58, 35.05s/it]"
     ]
    },
    {
     "name": "stderr",
     "output_type": "stream",
     "text": [
      "\r",
      "Generating responses:  68%|#######################################4                  | 136/200 [1:19:30<37:24, 35.07s/it]"
     ]
    },
    {
     "name": "stderr",
     "output_type": "stream",
     "text": [
      "\r",
      "Generating responses:  68%|#######################################7                  | 137/200 [1:19:57<36:46, 35.02s/it]"
     ]
    },
    {
     "name": "stderr",
     "output_type": "stream",
     "text": [
      "\r",
      "Generating responses:  69%|########################################                  | 138/200 [1:20:38<36:13, 35.06s/it]"
     ]
    },
    {
     "name": "stderr",
     "output_type": "stream",
     "text": [
      "\r",
      "Generating responses:  70%|########################################3                 | 139/200 [1:20:48<35:27, 34.88s/it]"
     ]
    },
    {
     "name": "stderr",
     "output_type": "stream",
     "text": [
      "\r",
      "Generating responses:  70%|########################################5                 | 140/200 [1:21:26<34:54, 34.90s/it]"
     ]
    },
    {
     "name": "stderr",
     "output_type": "stream",
     "text": [
      "\r",
      "Generating responses:  70%|########################################8                 | 141/200 [1:22:01<34:19, 34.91s/it]"
     ]
    },
    {
     "name": "stderr",
     "output_type": "stream",
     "text": [
      "\r",
      "Generating responses:  71%|#########################################1                | 142/200 [1:22:38<33:45, 34.92s/it]"
     ]
    },
    {
     "name": "stderr",
     "output_type": "stream",
     "text": [
      "\r",
      "Generating responses:  72%|#########################################4                | 143/200 [1:23:09<33:08, 34.89s/it]"
     ]
    },
    {
     "name": "stderr",
     "output_type": "stream",
     "text": [
      "\r",
      "Generating responses:  72%|#########################################7                | 144/200 [1:23:39<32:32, 34.86s/it]"
     ]
    },
    {
     "name": "stderr",
     "output_type": "stream",
     "text": [
      "\r",
      "Generating responses:  72%|##########################################                | 145/200 [1:24:11<31:56, 34.84s/it]"
     ]
    },
    {
     "name": "stderr",
     "output_type": "stream",
     "text": [
      "\r",
      "Generating responses:  73%|##########################################3               | 146/200 [1:24:46<31:21, 34.84s/it]"
     ]
    },
    {
     "name": "stderr",
     "output_type": "stream",
     "text": [
      "\r",
      "Generating responses:  74%|##########################################6               | 147/200 [1:25:16<30:44, 34.80s/it]"
     ]
    },
    {
     "name": "stderr",
     "output_type": "stream",
     "text": [
      "\r",
      "Generating responses:  74%|##########################################9               | 148/200 [1:25:51<30:10, 34.81s/it]"
     ]
    },
    {
     "name": "stderr",
     "output_type": "stream",
     "text": [
      "\r",
      "Generating responses:  74%|###########################################2              | 149/200 [1:26:12<29:30, 34.72s/it]"
     ]
    },
    {
     "name": "stderr",
     "output_type": "stream",
     "text": [
      "\r",
      "Generating responses:  75%|###########################################5              | 150/200 [1:26:48<28:56, 34.72s/it]"
     ]
    },
    {
     "name": "stderr",
     "output_type": "stream",
     "text": [
      "\r",
      "Generating responses:  76%|###########################################7              | 151/200 [1:27:17<28:19, 34.68s/it]"
     ]
    },
    {
     "name": "stderr",
     "output_type": "stream",
     "text": [
      "\r",
      "Generating responses:  76%|############################################              | 152/200 [1:27:18<27:34, 34.46s/it]"
     ]
    },
    {
     "name": "stderr",
     "output_type": "stream",
     "text": [
      "\r",
      "Generating responses:  76%|############################################3             | 153/200 [1:27:53<26:59, 34.46s/it]"
     ]
    },
    {
     "name": "stderr",
     "output_type": "stream",
     "text": [
      "\r",
      "Generating responses:  77%|############################################6             | 154/200 [1:28:24<26:24, 34.45s/it]"
     ]
    },
    {
     "name": "stderr",
     "output_type": "stream",
     "text": [
      "\r",
      "Generating responses:  78%|############################################9             | 155/200 [1:28:53<25:48, 34.41s/it]"
     ]
    },
    {
     "name": "stderr",
     "output_type": "stream",
     "text": [
      "\r",
      "Generating responses:  78%|#############################################2            | 156/200 [1:29:16<25:10, 34.33s/it]"
     ]
    },
    {
     "name": "stderr",
     "output_type": "stream",
     "text": [
      "\r",
      "Generating responses:  78%|#############################################5            | 157/200 [1:29:47<24:35, 34.31s/it]"
     ]
    },
    {
     "name": "stderr",
     "output_type": "stream",
     "text": [
      "\r",
      "Generating responses:  79%|#############################################8            | 158/200 [1:30:26<24:02, 34.35s/it]"
     ]
    },
    {
     "name": "stderr",
     "output_type": "stream",
     "text": [
      "\r",
      "Generating responses:  80%|##############################################1           | 159/200 [1:31:01<23:28, 34.35s/it]"
     ]
    },
    {
     "name": "stderr",
     "output_type": "stream",
     "text": [
      "\r",
      "Generating responses:  80%|##############################################4           | 160/200 [1:31:28<22:52, 34.30s/it]"
     ]
    },
    {
     "name": "stderr",
     "output_type": "stream",
     "text": [
      "\r",
      "Generating responses:  80%|##############################################6           | 161/200 [1:32:06<22:18, 34.33s/it]"
     ]
    },
    {
     "name": "stderr",
     "output_type": "stream",
     "text": [
      "\r",
      "Generating responses:  81%|##############################################9           | 162/200 [1:32:07<21:36, 34.12s/it]"
     ]
    },
    {
     "name": "stderr",
     "output_type": "stream",
     "text": [
      "\r",
      "Generating responses:  82%|###############################################2          | 163/200 [1:32:44<21:03, 34.14s/it]"
     ]
    },
    {
     "name": "stderr",
     "output_type": "stream",
     "text": [
      "\r",
      "Generating responses:  82%|###############################################5          | 164/200 [1:33:29<20:31, 34.20s/it]"
     ]
    },
    {
     "name": "stderr",
     "output_type": "stream",
     "text": [
      "\r",
      "Generating responses:  82%|###############################################8          | 165/200 [1:34:01<19:56, 34.19s/it]"
     ]
    },
    {
     "name": "stderr",
     "output_type": "stream",
     "text": [
      "\r",
      "Generating responses:  83%|################################################1         | 166/200 [1:34:37<19:22, 34.20s/it]"
     ]
    },
    {
     "name": "stderr",
     "output_type": "stream",
     "text": [
      "\r",
      "Generating responses:  84%|################################################4         | 167/200 [1:35:06<18:47, 34.17s/it]"
     ]
    },
    {
     "name": "stderr",
     "output_type": "stream",
     "text": [
      "\r",
      "Generating responses:  84%|################################################7         | 168/200 [1:35:44<18:14, 34.20s/it]"
     ]
    },
    {
     "name": "stderr",
     "output_type": "stream",
     "text": [
      "\r",
      "Generating responses:  84%|#################################################         | 169/200 [1:36:21<17:40, 34.21s/it]"
     ]
    },
    {
     "name": "stderr",
     "output_type": "stream",
     "text": [
      "\r",
      "Generating responses:  85%|#################################################3        | 170/200 [1:36:58<17:06, 34.23s/it]"
     ]
    },
    {
     "name": "stderr",
     "output_type": "stream",
     "text": [
      "\r",
      "Generating responses:  86%|#################################################5        | 171/200 [1:37:29<16:32, 34.21s/it]"
     ]
    },
    {
     "name": "stderr",
     "output_type": "stream",
     "text": [
      "\r",
      "Generating responses:  86%|#################################################8        | 172/200 [1:38:32<16:02, 34.37s/it]"
     ]
    },
    {
     "name": "stderr",
     "output_type": "stream",
     "text": [
      "\r",
      "Generating responses:  86%|##################################################1       | 173/200 [1:39:10<15:28, 34.40s/it]"
     ]
    },
    {
     "name": "stderr",
     "output_type": "stream",
     "text": [
      "\r",
      "Generating responses:  87%|##################################################4       | 174/200 [1:39:48<14:54, 34.42s/it]"
     ]
    },
    {
     "name": "stderr",
     "output_type": "stream",
     "text": [
      "\r",
      "Generating responses:  88%|##################################################7       | 175/200 [1:40:23<14:20, 34.42s/it]"
     ]
    },
    {
     "name": "stderr",
     "output_type": "stream",
     "text": [
      "\r",
      "Generating responses:  88%|###################################################       | 176/200 [1:40:55<13:45, 34.41s/it]"
     ]
    },
    {
     "name": "stderr",
     "output_type": "stream",
     "text": [
      "\r",
      "Generating responses:  88%|###################################################3      | 177/200 [1:41:12<13:09, 34.31s/it]"
     ]
    },
    {
     "name": "stderr",
     "output_type": "stream",
     "text": [
      "\r",
      "Generating responses:  89%|###################################################6      | 178/200 [1:41:49<12:35, 34.33s/it]"
     ]
    },
    {
     "name": "stderr",
     "output_type": "stream",
     "text": [
      "\r",
      "Generating responses:  90%|###################################################9      | 179/200 [1:42:26<12:01, 34.34s/it]"
     ]
    },
    {
     "name": "stderr",
     "output_type": "stream",
     "text": [
      "\r",
      "Generating responses:  90%|####################################################2     | 180/200 [1:43:29<11:29, 34.50s/it]"
     ]
    },
    {
     "name": "stderr",
     "output_type": "stream",
     "text": [
      "\r",
      "Generating responses:  90%|####################################################4     | 181/200 [1:43:56<10:54, 34.46s/it]"
     ]
    },
    {
     "name": "stderr",
     "output_type": "stream",
     "text": [
      "\r",
      "Generating responses:  91%|####################################################7     | 182/200 [1:44:33<10:20, 34.47s/it]"
     ]
    },
    {
     "name": "stderr",
     "output_type": "stream",
     "text": [
      "\r",
      "Generating responses:  92%|#####################################################     | 183/200 [1:45:12<09:46, 34.50s/it]"
     ]
    },
    {
     "name": "stderr",
     "output_type": "stream",
     "text": [
      "\r",
      "Generating responses:  92%|#####################################################3    | 184/200 [1:45:45<09:11, 34.48s/it]"
     ]
    },
    {
     "name": "stderr",
     "output_type": "stream",
     "text": [
      "\r",
      "Generating responses:  92%|#####################################################6    | 185/200 [1:46:21<08:37, 34.50s/it]"
     ]
    },
    {
     "name": "stderr",
     "output_type": "stream",
     "text": [
      "\r",
      "Generating responses:  93%|#####################################################9    | 186/200 [1:46:57<08:03, 34.50s/it]"
     ]
    },
    {
     "name": "stderr",
     "output_type": "stream",
     "text": [
      "\r",
      "Generating responses:  94%|######################################################2   | 187/200 [1:47:36<07:28, 34.52s/it]"
     ]
    },
    {
     "name": "stderr",
     "output_type": "stream",
     "text": [
      "\r",
      "Generating responses:  94%|######################################################5   | 188/200 [1:48:11<06:54, 34.53s/it]"
     ]
    },
    {
     "name": "stderr",
     "output_type": "stream",
     "text": [
      "\r",
      "Generating responses:  94%|######################################################8   | 189/200 [1:48:55<06:20, 34.58s/it]"
     ]
    },
    {
     "name": "stderr",
     "output_type": "stream",
     "text": [
      "\r",
      "Generating responses:  95%|#######################################################1  | 190/200 [1:49:28<05:45, 34.57s/it]"
     ]
    },
    {
     "name": "stderr",
     "output_type": "stream",
     "text": [
      "\r",
      "Generating responses:  96%|#######################################################3  | 191/200 [1:50:12<05:11, 34.62s/it]"
     ]
    },
    {
     "name": "stderr",
     "output_type": "stream",
     "text": [
      "\r",
      "Generating responses:  96%|#######################################################6  | 192/200 [1:50:39<04:36, 34.58s/it]"
     ]
    },
    {
     "name": "stderr",
     "output_type": "stream",
     "text": [
      "\r",
      "Generating responses:  96%|#######################################################9  | 193/200 [1:51:14<04:02, 34.58s/it]"
     ]
    },
    {
     "name": "stderr",
     "output_type": "stream",
     "text": [
      "\r",
      "Generating responses:  97%|########################################################2 | 194/200 [1:51:58<03:27, 34.63s/it]"
     ]
    },
    {
     "name": "stderr",
     "output_type": "stream",
     "text": [
      "\r",
      "Generating responses:  98%|########################################################5 | 195/200 [1:52:26<02:52, 34.60s/it]"
     ]
    },
    {
     "name": "stderr",
     "output_type": "stream",
     "text": [
      "\r",
      "Generating responses:  98%|########################################################8 | 196/200 [1:53:11<02:18, 34.65s/it]"
     ]
    },
    {
     "name": "stderr",
     "output_type": "stream",
     "text": [
      "\r",
      "Generating responses:  98%|#########################################################1| 197/200 [1:53:45<01:43, 34.65s/it]"
     ]
    },
    {
     "name": "stderr",
     "output_type": "stream",
     "text": [
      "\r",
      "Generating responses:  99%|#########################################################4| 198/200 [1:54:27<01:09, 34.68s/it]"
     ]
    },
    {
     "name": "stderr",
     "output_type": "stream",
     "text": [
      "\r",
      "Generating responses: 100%|#########################################################7| 199/200 [1:55:01<00:34, 34.68s/it]"
     ]
    },
    {
     "name": "stderr",
     "output_type": "stream",
     "text": [
      "\r",
      "Generating responses: 100%|##########################################################| 200/200 [1:55:42<00:00, 34.71s/it]"
     ]
    },
    {
     "name": "stderr",
     "output_type": "stream",
     "text": [
      "\r",
      "Generating responses: 100%|##########################################################| 200/200 [1:55:42<00:00, 34.71s/it]"
     ]
    },
    {
     "name": "stderr",
     "output_type": "stream",
     "text": [
      "\n"
     ]
    }
   ],
   "source": [
    "# Because many of the non-instruction tuned based models don't have warm inference endpoints (and aren't available on tools like Together), we're going to create dedicated endpoints on AWS through the Huggingface API.\n",
    "# The dedicated endpoints take a while to warm up (also you may need to fiddle with URLs)\n",
    "\n",
    "hf_models = {\n",
    "    'gemma-2-2b-it': \"https://z70frgvzih3230r1.us-east-1.aws.endpoints.huggingface.cloud\", \n",
    "    # 'gemma-2-2b': \"https://vbkt0rabiunjn175.us-east-1.aws.endpoints.huggingface.cloud\",  \n",
    "    # \"llama-3.1-8B\": \"https://ropkydxq3vq8qff9.us-east-1.aws.endpoints.huggingface.cloud\", # These will be slow to run.\n",
    "    \"llama-3.1-8B-it\": \"https://dxdj0n50tbi0mgar.us-east-1.aws.endpoints.huggingface.cloud\", \n",
    "}\n",
    "\n",
    "non_chat_models = ['llama-3.1-8B', 'gemma-2-2b-it', 'gemma-2-2b']\n",
    "\n",
    "for model, api_url in hf_models.items():\n",
    "    output_file = model+'_responses.json'\n",
    "    hf_client = InferenceClient(model=api_url, token=hf_api_key)\n",
    "    if model in non_chat_models:\n",
    "        generation_function = lambda x: query_huggingface(hf_client, x, chat=False)\n",
    "    else:\n",
    "        generation_function = lambda x: query_huggingface(hf_client, x, chat=True)\n",
    "\n",
    "    responses = generate_responses(\n",
    "        questions=df_questions['question'], \n",
    "        generation_function=generation_function,\n",
    "        output_path=TEMP_PATH+output_file,\n",
    "        start_from_checkpoint=False\n",
    "    )"
   ]
  },
  {
   "cell_type": "markdown",
   "metadata": {},
   "source": [
    "Now we're gonna run this with Google Deepmind Models. You may need to run:\n",
    "\n",
    "`gcloud components update`\n",
    "\n",
    "`gcloud auth application-default login`\n"
   ]
  },
  {
   "cell_type": "markdown",
   "metadata": {},
   "source": [
    "### Google Cloud Models"
   ]
  },
  {
   "cell_type": "code",
   "execution_count": 8,
   "metadata": {
    "execution": {
     "iopub.execute_input": "2025-01-03T23:17:07.522079Z",
     "iopub.status.busy": "2025-01-03T23:17:07.521579Z",
     "iopub.status.idle": "2025-01-03T23:25:24.940869Z",
     "shell.execute_reply": "2025-01-03T23:25:24.938407Z"
    }
   },
   "outputs": [
    {
     "name": "stdout",
     "output_type": "stream",
     "text": [
      "Running with PROJECT_ID:  selfanalysis\n",
      "Generating responses for:  temp/gemini-1.5-flash-002_responses.json\n"
     ]
    },
    {
     "name": "stderr",
     "output_type": "stream",
     "text": [
      "\r",
      "Generating responses:   0%|                                                                      | 0/200 [00:00<?, ?it/s]"
     ]
    },
    {
     "name": "stderr",
     "output_type": "stream",
     "text": [
      "/u/tsouth/projects/OvertonEvals/venv/lib/python3.10/site-packages/google/auth/_default.py:76: UserWarning: Your application has authenticated using end user credentials from Google Cloud SDK without a quota project. You might receive a \"quota exceeded\" or \"API not enabled\" error. See the following page for troubleshooting: https://cloud.google.com/docs/authentication/adc-troubleshooting/user-creds. \n",
      "  warnings.warn(_CLOUD_SDK_CREDENTIALS_WARNING)\n"
     ]
    },
    {
     "name": "stderr",
     "output_type": "stream",
     "text": [
      "\r",
      "Generating responses:   0%|3                                                             | 1/200 [00:09<31:31,  9.50s/it]"
     ]
    },
    {
     "name": "stderr",
     "output_type": "stream",
     "text": [
      "\r",
      "Generating responses:   1%|6                                                             | 2/200 [00:13<22:01,  6.67s/it]"
     ]
    },
    {
     "name": "stderr",
     "output_type": "stream",
     "text": [
      "\r",
      "Generating responses:   2%|9                                                             | 3/200 [00:15<17:22,  5.29s/it]"
     ]
    },
    {
     "name": "stderr",
     "output_type": "stream",
     "text": [
      "\r",
      "Generating responses:   2%|#2                                                            | 4/200 [00:17<14:18,  4.38s/it]"
     ]
    },
    {
     "name": "stderr",
     "output_type": "stream",
     "text": [
      "\r",
      "Generating responses:   2%|#5                                                            | 5/200 [00:19<12:27,  3.83s/it]"
     ]
    },
    {
     "name": "stderr",
     "output_type": "stream",
     "text": [
      "\r",
      "Generating responses:   3%|#8                                                            | 6/200 [00:20<11:15,  3.48s/it]"
     ]
    },
    {
     "name": "stderr",
     "output_type": "stream",
     "text": [
      "\r",
      "Generating responses:   4%|##1                                                           | 7/200 [00:22<10:22,  3.22s/it]"
     ]
    },
    {
     "name": "stderr",
     "output_type": "stream",
     "text": [
      "\r",
      "Generating responses:   4%|##4                                                           | 8/200 [00:24<09:59,  3.12s/it]"
     ]
    },
    {
     "name": "stderr",
     "output_type": "stream",
     "text": [
      "\r",
      "Generating responses:   4%|##7                                                           | 9/200 [00:27<09:37,  3.02s/it]"
     ]
    },
    {
     "name": "stderr",
     "output_type": "stream",
     "text": [
      "\r",
      "Generating responses:   5%|###                                                          | 10/200 [00:30<09:33,  3.02s/it]"
     ]
    },
    {
     "name": "stderr",
     "output_type": "stream",
     "text": [
      "\r",
      "Generating responses:   6%|###3                                                         | 11/200 [00:32<09:10,  2.91s/it]"
     ]
    },
    {
     "name": "stderr",
     "output_type": "stream",
     "text": [
      "\r",
      "Generating responses:   6%|###6                                                         | 12/200 [00:36<09:30,  3.04s/it]"
     ]
    },
    {
     "name": "stderr",
     "output_type": "stream",
     "text": [
      "\r",
      "Generating responses:   6%|###9                                                         | 13/200 [00:39<09:26,  3.03s/it]"
     ]
    },
    {
     "name": "stderr",
     "output_type": "stream",
     "text": [
      "\r",
      "Generating responses:   7%|####2                                                        | 14/200 [00:41<09:12,  2.97s/it]"
     ]
    },
    {
     "name": "stderr",
     "output_type": "stream",
     "text": [
      "\r",
      "Generating responses:   8%|####5                                                        | 15/200 [00:44<09:07,  2.96s/it]"
     ]
    },
    {
     "name": "stderr",
     "output_type": "stream",
     "text": [
      "\r",
      "Generating responses:   8%|####8                                                        | 16/200 [00:46<08:56,  2.92s/it]"
     ]
    },
    {
     "name": "stderr",
     "output_type": "stream",
     "text": [
      "\r",
      "Generating responses:   8%|#####1                                                       | 17/200 [00:48<08:43,  2.86s/it]"
     ]
    },
    {
     "name": "stderr",
     "output_type": "stream",
     "text": [
      "\r",
      "Generating responses:   9%|#####4                                                       | 18/200 [00:51<08:45,  2.89s/it]"
     ]
    },
    {
     "name": "stderr",
     "output_type": "stream",
     "text": [
      "\r",
      "Generating responses:  10%|#####7                                                       | 19/200 [00:54<08:36,  2.85s/it]"
     ]
    },
    {
     "name": "stderr",
     "output_type": "stream",
     "text": [
      "\r",
      "Generating responses:  10%|######1                                                      | 20/200 [00:55<08:22,  2.79s/it]"
     ]
    },
    {
     "name": "stderr",
     "output_type": "stream",
     "text": [
      "\r",
      "Generating responses:  10%|######4                                                      | 21/200 [00:59<08:26,  2.83s/it]"
     ]
    },
    {
     "name": "stderr",
     "output_type": "stream",
     "text": [
      "\r",
      "Generating responses:  11%|######7                                                      | 22/200 [01:00<08:09,  2.75s/it]"
     ]
    },
    {
     "name": "stderr",
     "output_type": "stream",
     "text": [
      "\r",
      "Generating responses:  12%|#######                                                      | 23/200 [01:04<08:15,  2.80s/it]"
     ]
    },
    {
     "name": "stderr",
     "output_type": "stream",
     "text": [
      "\r",
      "Generating responses:  12%|#######3                                                     | 24/200 [01:05<08:01,  2.74s/it]"
     ]
    },
    {
     "name": "stderr",
     "output_type": "stream",
     "text": [
      "\r",
      "Generating responses:  12%|#######6                                                     | 25/200 [01:08<08:02,  2.76s/it]"
     ]
    },
    {
     "name": "stderr",
     "output_type": "stream",
     "text": [
      "\r",
      "Generating responses:  13%|#######9                                                     | 26/200 [01:12<08:04,  2.78s/it]"
     ]
    },
    {
     "name": "stderr",
     "output_type": "stream",
     "text": [
      "\r",
      "Generating responses:  14%|########2                                                    | 27/200 [01:15<08:02,  2.79s/it]"
     ]
    },
    {
     "name": "stderr",
     "output_type": "stream",
     "text": [
      "\r",
      "Generating responses:  14%|########5                                                    | 28/200 [01:19<08:08,  2.84s/it]"
     ]
    },
    {
     "name": "stderr",
     "output_type": "stream",
     "text": [
      "\r",
      "Generating responses:  14%|########8                                                    | 29/200 [01:22<08:07,  2.85s/it]"
     ]
    },
    {
     "name": "stderr",
     "output_type": "stream",
     "text": [
      "\r",
      "Generating responses:  15%|#########1                                                   | 30/200 [01:23<07:55,  2.80s/it]"
     ]
    },
    {
     "name": "stderr",
     "output_type": "stream",
     "text": [
      "\r",
      "Generating responses:  16%|#########4                                                   | 31/200 [01:26<07:51,  2.79s/it]"
     ]
    },
    {
     "name": "stderr",
     "output_type": "stream",
     "text": [
      "\r",
      "Generating responses:  16%|#########7                                                   | 32/200 [01:28<07:44,  2.76s/it]"
     ]
    },
    {
     "name": "stderr",
     "output_type": "stream",
     "text": [
      "\r",
      "Generating responses:  16%|##########                                                   | 33/200 [01:31<07:42,  2.77s/it]"
     ]
    },
    {
     "name": "stderr",
     "output_type": "stream",
     "text": [
      "\r",
      "Generating responses:  17%|##########3                                                  | 34/200 [01:33<07:34,  2.74s/it]"
     ]
    },
    {
     "name": "stderr",
     "output_type": "stream",
     "text": [
      "\r",
      "Generating responses:  18%|##########6                                                  | 35/200 [01:35<07:28,  2.72s/it]"
     ]
    },
    {
     "name": "stderr",
     "output_type": "stream",
     "text": [
      "\r",
      "Generating responses:  18%|##########9                                                  | 36/200 [01:37<07:26,  2.72s/it]"
     ]
    },
    {
     "name": "stderr",
     "output_type": "stream",
     "text": [
      "\r",
      "Generating responses:  18%|###########2                                                 | 37/200 [01:39<07:20,  2.70s/it]"
     ]
    },
    {
     "name": "stderr",
     "output_type": "stream",
     "text": [
      "\r",
      "Generating responses:  19%|###########5                                                 | 38/200 [01:43<07:23,  2.74s/it]"
     ]
    },
    {
     "name": "stderr",
     "output_type": "stream",
     "text": [
      "\r",
      "Generating responses:  20%|###########8                                                 | 39/200 [01:44<07:12,  2.69s/it]"
     ]
    },
    {
     "name": "stderr",
     "output_type": "stream",
     "text": [
      "\r",
      "Generating responses:  20%|############2                                                | 40/200 [01:47<07:08,  2.68s/it]"
     ]
    },
    {
     "name": "stderr",
     "output_type": "stream",
     "text": [
      "\r",
      "Generating responses:  20%|############5                                                | 41/200 [01:47<06:57,  2.62s/it]"
     ]
    },
    {
     "name": "stderr",
     "output_type": "stream",
     "text": [
      "\r",
      "Generating responses:  21%|############8                                                | 42/200 [01:49<06:50,  2.60s/it]"
     ]
    },
    {
     "name": "stderr",
     "output_type": "stream",
     "text": [
      "\r",
      "Generating responses:  22%|#############1                                               | 43/200 [01:50<06:44,  2.58s/it]"
     ]
    },
    {
     "name": "stderr",
     "output_type": "stream",
     "text": [
      "\r",
      "Generating responses:  22%|#############4                                               | 44/200 [01:52<06:40,  2.56s/it]"
     ]
    },
    {
     "name": "stderr",
     "output_type": "stream",
     "text": [
      "\r",
      "Generating responses:  22%|#############7                                               | 45/200 [01:55<06:36,  2.56s/it]"
     ]
    },
    {
     "name": "stderr",
     "output_type": "stream",
     "text": [
      "\r",
      "Generating responses:  23%|##############                                               | 46/200 [01:58<06:35,  2.57s/it]"
     ]
    },
    {
     "name": "stderr",
     "output_type": "stream",
     "text": [
      "\r",
      "Generating responses:  24%|##############3                                              | 47/200 [02:00<06:31,  2.56s/it]"
     ]
    },
    {
     "name": "stderr",
     "output_type": "stream",
     "text": [
      "\r",
      "Generating responses:  24%|##############6                                              | 48/200 [02:01<06:24,  2.53s/it]"
     ]
    },
    {
     "name": "stderr",
     "output_type": "stream",
     "text": [
      "\r",
      "Generating responses:  24%|##############9                                              | 49/200 [02:04<06:23,  2.54s/it]"
     ]
    },
    {
     "name": "stderr",
     "output_type": "stream",
     "text": [
      "\r",
      "Generating responses:  25%|###############2                                             | 50/200 [02:07<06:21,  2.54s/it]"
     ]
    },
    {
     "name": "stderr",
     "output_type": "stream",
     "text": [
      "\r",
      "Generating responses:  26%|###############5                                             | 51/200 [02:09<06:19,  2.55s/it]"
     ]
    },
    {
     "name": "stderr",
     "output_type": "stream",
     "text": [
      "\r",
      "Generating responses:  26%|###############8                                             | 52/200 [02:13<06:19,  2.56s/it]"
     ]
    },
    {
     "name": "stderr",
     "output_type": "stream",
     "text": [
      "\r",
      "Generating responses:  26%|################1                                            | 53/200 [02:15<06:14,  2.55s/it]"
     ]
    },
    {
     "name": "stderr",
     "output_type": "stream",
     "text": [
      "\r",
      "Generating responses:  27%|################4                                            | 54/200 [02:18<06:13,  2.56s/it]"
     ]
    },
    {
     "name": "stderr",
     "output_type": "stream",
     "text": [
      "\r",
      "Generating responses:  28%|################7                                            | 55/200 [02:20<06:09,  2.55s/it]"
     ]
    },
    {
     "name": "stderr",
     "output_type": "stream",
     "text": [
      "\r",
      "Generating responses:  28%|#################                                            | 56/200 [02:22<06:05,  2.54s/it]"
     ]
    },
    {
     "name": "stderr",
     "output_type": "stream",
     "text": [
      "\r",
      "Generating responses:  28%|#################3                                           | 57/200 [02:24<06:03,  2.54s/it]"
     ]
    },
    {
     "name": "stderr",
     "output_type": "stream",
     "text": [
      "\r",
      "Generating responses:  29%|#################6                                           | 58/200 [02:25<05:56,  2.51s/it]"
     ]
    },
    {
     "name": "stderr",
     "output_type": "stream",
     "text": [
      "\r",
      "Generating responses:  30%|#################9                                           | 59/200 [02:28<05:55,  2.52s/it]"
     ]
    },
    {
     "name": "stderr",
     "output_type": "stream",
     "text": [
      "\r",
      "Generating responses:  30%|##################3                                          | 60/200 [02:30<05:50,  2.50s/it]"
     ]
    },
    {
     "name": "stderr",
     "output_type": "stream",
     "text": [
      "\r",
      "Generating responses:  30%|##################6                                          | 61/200 [02:30<05:43,  2.47s/it]"
     ]
    },
    {
     "name": "stderr",
     "output_type": "stream",
     "text": [
      "\r",
      "Generating responses:  31%|##################9                                          | 62/200 [02:33<05:40,  2.47s/it]"
     ]
    },
    {
     "name": "stderr",
     "output_type": "stream",
     "text": [
      "\r",
      "Generating responses:  32%|###################2                                         | 63/200 [02:36<05:40,  2.49s/it]"
     ]
    },
    {
     "name": "stderr",
     "output_type": "stream",
     "text": [
      "\r",
      "Generating responses:  32%|###################5                                         | 64/200 [02:37<05:34,  2.46s/it]"
     ]
    },
    {
     "name": "stderr",
     "output_type": "stream",
     "text": [
      "\r",
      "Generating responses:  32%|###################8                                         | 65/200 [02:40<05:32,  2.46s/it]"
     ]
    },
    {
     "name": "stderr",
     "output_type": "stream",
     "text": [
      "\r",
      "Generating responses:  33%|####################1                                        | 66/200 [02:41<05:27,  2.45s/it]"
     ]
    },
    {
     "name": "stderr",
     "output_type": "stream",
     "text": [
      "\r",
      "Generating responses:  34%|####################4                                        | 67/200 [02:43<05:25,  2.45s/it]"
     ]
    },
    {
     "name": "stderr",
     "output_type": "stream",
     "text": [
      "\r",
      "Generating responses:  34%|####################7                                        | 68/200 [02:45<05:21,  2.43s/it]"
     ]
    },
    {
     "name": "stderr",
     "output_type": "stream",
     "text": [
      "\r",
      "Generating responses:  34%|#####################                                        | 69/200 [02:47<05:18,  2.43s/it]"
     ]
    },
    {
     "name": "stderr",
     "output_type": "stream",
     "text": [
      "\r",
      "Generating responses:  35%|#####################3                                       | 70/200 [02:51<05:18,  2.45s/it]"
     ]
    },
    {
     "name": "stderr",
     "output_type": "stream",
     "text": [
      "\r",
      "Generating responses:  36%|#####################6                                       | 71/200 [02:53<05:15,  2.45s/it]"
     ]
    },
    {
     "name": "stderr",
     "output_type": "stream",
     "text": [
      "\r",
      "Generating responses:  36%|#####################9                                       | 72/200 [02:56<05:13,  2.45s/it]"
     ]
    },
    {
     "name": "stderr",
     "output_type": "stream",
     "text": [
      "\r",
      "Generating responses:  36%|######################2                                      | 73/200 [02:58<05:11,  2.45s/it]"
     ]
    },
    {
     "name": "stderr",
     "output_type": "stream",
     "text": [
      "\r",
      "Generating responses:  37%|######################5                                      | 74/200 [03:01<05:08,  2.45s/it]"
     ]
    },
    {
     "name": "stderr",
     "output_type": "stream",
     "text": [
      "\r",
      "Generating responses:  38%|######################8                                      | 75/200 [03:03<05:05,  2.44s/it]"
     ]
    },
    {
     "name": "stderr",
     "output_type": "stream",
     "text": [
      "\r",
      "Generating responses:  38%|#######################1                                     | 76/200 [03:05<05:03,  2.44s/it]"
     ]
    },
    {
     "name": "stderr",
     "output_type": "stream",
     "text": [
      "\r",
      "Generating responses:  38%|#######################4                                     | 77/200 [03:08<05:01,  2.45s/it]"
     ]
    },
    {
     "name": "stderr",
     "output_type": "stream",
     "text": [
      "\r",
      "Generating responses:  39%|#######################7                                     | 78/200 [03:12<05:01,  2.47s/it]"
     ]
    },
    {
     "name": "stderr",
     "output_type": "stream",
     "text": [
      "\r",
      "Generating responses:  40%|########################                                     | 79/200 [03:13<04:56,  2.45s/it]"
     ]
    },
    {
     "name": "stderr",
     "output_type": "stream",
     "text": [
      "\r",
      "Generating responses:  40%|########################4                                    | 80/200 [03:17<04:56,  2.47s/it]"
     ]
    },
    {
     "name": "stderr",
     "output_type": "stream",
     "text": [
      "\r",
      "Generating responses:  40%|########################7                                    | 81/200 [03:20<04:54,  2.48s/it]"
     ]
    },
    {
     "name": "stderr",
     "output_type": "stream",
     "text": [
      "\r",
      "Generating responses:  41%|#########################                                    | 82/200 [03:22<04:51,  2.47s/it]"
     ]
    },
    {
     "name": "stderr",
     "output_type": "stream",
     "text": [
      "\r",
      "Generating responses:  42%|#########################3                                   | 83/200 [03:23<04:47,  2.45s/it]"
     ]
    },
    {
     "name": "stderr",
     "output_type": "stream",
     "text": [
      "\r",
      "Generating responses:  42%|#########################6                                   | 84/200 [03:26<04:45,  2.46s/it]"
     ]
    },
    {
     "name": "stderr",
     "output_type": "stream",
     "text": [
      "\r",
      "Generating responses:  42%|#########################9                                   | 85/200 [03:29<04:43,  2.46s/it]"
     ]
    },
    {
     "name": "stderr",
     "output_type": "stream",
     "text": [
      "\r",
      "Generating responses:  43%|##########################2                                  | 86/200 [03:31<04:40,  2.46s/it]"
     ]
    },
    {
     "name": "stderr",
     "output_type": "stream",
     "text": [
      "\r",
      "Generating responses:  44%|##########################5                                  | 87/200 [03:35<04:39,  2.47s/it]"
     ]
    },
    {
     "name": "stderr",
     "output_type": "stream",
     "text": [
      "\r",
      "Generating responses:  44%|##########################8                                  | 88/200 [03:38<04:37,  2.48s/it]"
     ]
    },
    {
     "name": "stderr",
     "output_type": "stream",
     "text": [
      "\r",
      "Generating responses:  44%|###########################1                                 | 89/200 [03:39<04:34,  2.47s/it]"
     ]
    },
    {
     "name": "stderr",
     "output_type": "stream",
     "text": [
      "\r",
      "Generating responses:  45%|###########################4                                 | 90/200 [03:41<04:31,  2.47s/it]"
     ]
    },
    {
     "name": "stderr",
     "output_type": "stream",
     "text": [
      "\r",
      "Generating responses:  46%|###########################7                                 | 91/200 [03:42<04:26,  2.45s/it]"
     ]
    },
    {
     "name": "stderr",
     "output_type": "stream",
     "text": [
      "\r",
      "Generating responses:  46%|############################                                 | 92/200 [03:45<04:24,  2.45s/it]"
     ]
    },
    {
     "name": "stderr",
     "output_type": "stream",
     "text": [
      "\r",
      "Generating responses:  46%|############################3                                | 93/200 [03:47<04:21,  2.44s/it]"
     ]
    },
    {
     "name": "stderr",
     "output_type": "stream",
     "text": [
      "\r",
      "Generating responses:  47%|############################6                                | 94/200 [03:49<04:19,  2.44s/it]"
     ]
    },
    {
     "name": "stderr",
     "output_type": "stream",
     "text": [
      "\r",
      "Generating responses:  48%|############################9                                | 95/200 [03:53<04:17,  2.46s/it]"
     ]
    },
    {
     "name": "stderr",
     "output_type": "stream",
     "text": [
      "\r",
      "Generating responses:  48%|#############################2                               | 96/200 [03:54<04:14,  2.45s/it]"
     ]
    },
    {
     "name": "stderr",
     "output_type": "stream",
     "text": [
      "\r",
      "Generating responses:  48%|#############################5                               | 97/200 [03:57<04:11,  2.44s/it]"
     ]
    },
    {
     "name": "stderr",
     "output_type": "stream",
     "text": [
      "\r",
      "Generating responses:  49%|#############################8                               | 98/200 [03:58<04:08,  2.44s/it]"
     ]
    },
    {
     "name": "stderr",
     "output_type": "stream",
     "text": [
      "\r",
      "Generating responses:  50%|##############################1                              | 99/200 [04:01<04:06,  2.44s/it]"
     ]
    },
    {
     "name": "stderr",
     "output_type": "stream",
     "text": [
      "\r",
      "Generating responses:  50%|##############################                              | 100/200 [04:03<04:03,  2.44s/it]"
     ]
    },
    {
     "name": "stderr",
     "output_type": "stream",
     "text": [
      "\r",
      "Generating responses:  50%|##############################3                             | 101/200 [04:05<04:00,  2.43s/it]"
     ]
    },
    {
     "name": "stderr",
     "output_type": "stream",
     "text": [
      "\r",
      "Generating responses:  51%|##############################6                             | 102/200 [04:07<03:57,  2.42s/it]"
     ]
    },
    {
     "name": "stderr",
     "output_type": "stream",
     "text": [
      "\r",
      "Generating responses:  52%|##############################9                             | 103/200 [04:09<03:54,  2.42s/it]"
     ]
    },
    {
     "name": "stderr",
     "output_type": "stream",
     "text": [
      "\r",
      "Generating responses:  52%|###############################2                            | 104/200 [04:10<03:51,  2.41s/it]"
     ]
    },
    {
     "name": "stderr",
     "output_type": "stream",
     "text": [
      "\r",
      "Generating responses:  52%|###############################5                            | 105/200 [04:11<03:47,  2.40s/it]"
     ]
    },
    {
     "name": "stderr",
     "output_type": "stream",
     "text": [
      "\r",
      "Generating responses:  53%|###############################8                            | 106/200 [04:12<03:43,  2.38s/it]"
     ]
    },
    {
     "name": "stderr",
     "output_type": "stream",
     "text": [
      "\r",
      "Generating responses:  54%|################################1                           | 107/200 [04:14<03:41,  2.38s/it]"
     ]
    },
    {
     "name": "stderr",
     "output_type": "stream",
     "text": [
      "\r",
      "Generating responses:  54%|################################4                           | 108/200 [04:19<03:40,  2.40s/it]"
     ]
    },
    {
     "name": "stderr",
     "output_type": "stream",
     "text": [
      "\r",
      "Generating responses:  55%|################################7                           | 109/200 [04:23<03:39,  2.42s/it]"
     ]
    },
    {
     "name": "stderr",
     "output_type": "stream",
     "text": [
      "\r",
      "Generating responses:  55%|#################################                           | 110/200 [04:26<03:38,  2.42s/it]"
     ]
    },
    {
     "name": "stderr",
     "output_type": "stream",
     "text": [
      "\r",
      "Generating responses:  56%|#################################3                          | 111/200 [04:28<03:35,  2.42s/it]"
     ]
    },
    {
     "name": "stderr",
     "output_type": "stream",
     "text": [
      "\r",
      "Generating responses:  56%|#################################6                          | 112/200 [04:31<03:33,  2.42s/it]"
     ]
    },
    {
     "name": "stderr",
     "output_type": "stream",
     "text": [
      "\r",
      "Generating responses:  56%|#################################9                          | 113/200 [04:32<03:30,  2.42s/it]"
     ]
    },
    {
     "name": "stderr",
     "output_type": "stream",
     "text": [
      "\r",
      "Generating responses:  57%|##################################1                         | 114/200 [04:34<03:27,  2.41s/it]"
     ]
    },
    {
     "name": "stderr",
     "output_type": "stream",
     "text": [
      "\r",
      "Generating responses:  57%|##################################5                         | 115/200 [04:35<03:23,  2.40s/it]"
     ]
    },
    {
     "name": "stderr",
     "output_type": "stream",
     "text": [
      "\r",
      "Generating responses:  58%|##################################8                         | 116/200 [04:40<03:23,  2.42s/it]"
     ]
    },
    {
     "name": "stderr",
     "output_type": "stream",
     "text": [
      "\r",
      "Generating responses:  58%|###################################                         | 117/200 [04:42<03:20,  2.41s/it]"
     ]
    },
    {
     "name": "stderr",
     "output_type": "stream",
     "text": [
      "\r",
      "Generating responses:  59%|###################################4                        | 118/200 [04:43<03:17,  2.40s/it]"
     ]
    },
    {
     "name": "stderr",
     "output_type": "stream",
     "text": [
      "\r",
      "Generating responses:  60%|###################################6                        | 119/200 [04:46<03:14,  2.41s/it]"
     ]
    },
    {
     "name": "stderr",
     "output_type": "stream",
     "text": [
      "\r",
      "Generating responses:  60%|####################################                        | 120/200 [04:49<03:13,  2.41s/it]"
     ]
    },
    {
     "name": "stderr",
     "output_type": "stream",
     "text": [
      "\r",
      "Generating responses:  60%|####################################3                       | 121/200 [04:52<03:10,  2.41s/it]"
     ]
    },
    {
     "name": "stderr",
     "output_type": "stream",
     "text": [
      "\r",
      "Generating responses:  61%|####################################6                       | 122/200 [04:53<03:07,  2.40s/it]"
     ]
    },
    {
     "name": "stderr",
     "output_type": "stream",
     "text": [
      "\r",
      "Generating responses:  62%|####################################9                       | 123/200 [04:56<03:05,  2.41s/it]"
     ]
    },
    {
     "name": "stderr",
     "output_type": "stream",
     "text": [
      "\r",
      "Generating responses:  62%|#####################################2                      | 124/200 [04:59<03:03,  2.41s/it]"
     ]
    },
    {
     "name": "stderr",
     "output_type": "stream",
     "text": [
      "\r",
      "Generating responses:  62%|#####################################5                      | 125/200 [05:01<03:01,  2.41s/it]"
     ]
    },
    {
     "name": "stderr",
     "output_type": "stream",
     "text": [
      "\r",
      "Generating responses:  63%|#####################################8                      | 126/200 [05:02<02:57,  2.40s/it]"
     ]
    },
    {
     "name": "stderr",
     "output_type": "stream",
     "text": [
      "\r",
      "Generating responses:  64%|######################################1                     | 127/200 [05:05<02:55,  2.41s/it]"
     ]
    },
    {
     "name": "stderr",
     "output_type": "stream",
     "text": [
      "\r",
      "Generating responses:  64%|######################################4                     | 128/200 [05:06<02:52,  2.40s/it]"
     ]
    },
    {
     "name": "stderr",
     "output_type": "stream",
     "text": [
      "\r",
      "Generating responses:  64%|######################################7                     | 129/200 [05:09<02:50,  2.40s/it]"
     ]
    },
    {
     "name": "stderr",
     "output_type": "stream",
     "text": [
      "\r",
      "Generating responses:  65%|#######################################                     | 130/200 [05:12<02:48,  2.40s/it]"
     ]
    },
    {
     "name": "stderr",
     "output_type": "stream",
     "text": [
      "\r",
      "Generating responses:  66%|#######################################3                    | 131/200 [05:14<02:45,  2.40s/it]"
     ]
    },
    {
     "name": "stderr",
     "output_type": "stream",
     "text": [
      "\r",
      "Generating responses:  66%|#######################################6                    | 132/200 [05:16<02:42,  2.40s/it]"
     ]
    },
    {
     "name": "stderr",
     "output_type": "stream",
     "text": [
      "\r",
      "Generating responses:  66%|#######################################9                    | 133/200 [05:19<02:40,  2.40s/it]"
     ]
    },
    {
     "name": "stderr",
     "output_type": "stream",
     "text": [
      "\r",
      "Generating responses:  67%|########################################2                   | 134/200 [05:22<02:38,  2.40s/it]"
     ]
    },
    {
     "name": "stderr",
     "output_type": "stream",
     "text": [
      "\r",
      "Generating responses:  68%|########################################5                   | 135/200 [05:23<02:35,  2.39s/it]"
     ]
    },
    {
     "name": "stderr",
     "output_type": "stream",
     "text": [
      "\r",
      "Generating responses:  68%|########################################8                   | 136/200 [05:26<02:33,  2.40s/it]"
     ]
    },
    {
     "name": "stderr",
     "output_type": "stream",
     "text": [
      "\r",
      "Generating responses:  68%|#########################################1                  | 137/200 [05:31<02:32,  2.42s/it]"
     ]
    },
    {
     "name": "stderr",
     "output_type": "stream",
     "text": [
      "\r",
      "Generating responses:  69%|#########################################4                  | 138/200 [05:33<02:29,  2.42s/it]"
     ]
    },
    {
     "name": "stderr",
     "output_type": "stream",
     "text": [
      "\r",
      "Generating responses:  70%|#########################################6                  | 139/200 [05:34<02:26,  2.41s/it]"
     ]
    },
    {
     "name": "stderr",
     "output_type": "stream",
     "text": [
      "\r",
      "Generating responses:  70%|##########################################                  | 140/200 [05:35<02:23,  2.40s/it]"
     ]
    },
    {
     "name": "stderr",
     "output_type": "stream",
     "text": [
      "\r",
      "Generating responses:  70%|##########################################3                 | 141/200 [05:37<02:21,  2.40s/it]"
     ]
    },
    {
     "name": "stderr",
     "output_type": "stream",
     "text": [
      "\r",
      "Generating responses:  71%|##########################################5                 | 142/200 [05:40<02:18,  2.40s/it]"
     ]
    },
    {
     "name": "stderr",
     "output_type": "stream",
     "text": [
      "\r",
      "Generating responses:  72%|##########################################9                 | 143/200 [05:41<02:15,  2.39s/it]"
     ]
    },
    {
     "name": "stderr",
     "output_type": "stream",
     "text": [
      "\r",
      "Generating responses:  72%|###########################################1                | 144/200 [05:44<02:13,  2.39s/it]"
     ]
    },
    {
     "name": "stderr",
     "output_type": "stream",
     "text": [
      "\r",
      "Generating responses:  72%|###########################################5                | 145/200 [05:47<02:11,  2.39s/it]"
     ]
    },
    {
     "name": "stderr",
     "output_type": "stream",
     "text": [
      "\r",
      "Generating responses:  73%|###########################################8                | 146/200 [05:50<02:09,  2.40s/it]"
     ]
    },
    {
     "name": "stderr",
     "output_type": "stream",
     "text": [
      "\r",
      "Generating responses:  74%|############################################1               | 147/200 [05:51<02:06,  2.39s/it]"
     ]
    },
    {
     "name": "stderr",
     "output_type": "stream",
     "text": [
      "\r",
      "Generating responses:  74%|############################################4               | 148/200 [05:54<02:04,  2.39s/it]"
     ]
    },
    {
     "name": "stderr",
     "output_type": "stream",
     "text": [
      "\r",
      "Generating responses:  74%|############################################7               | 149/200 [05:55<02:01,  2.39s/it]"
     ]
    },
    {
     "name": "stderr",
     "output_type": "stream",
     "text": [
      "\r",
      "Generating responses:  75%|#############################################               | 150/200 [05:58<01:59,  2.39s/it]"
     ]
    },
    {
     "name": "stderr",
     "output_type": "stream",
     "text": [
      "\r",
      "Generating responses:  76%|#############################################3              | 151/200 [06:00<01:57,  2.39s/it]"
     ]
    },
    {
     "name": "stderr",
     "output_type": "stream",
     "text": [
      "\r",
      "Generating responses:  76%|#############################################6              | 152/200 [06:04<01:55,  2.40s/it]"
     ]
    },
    {
     "name": "stderr",
     "output_type": "stream",
     "text": [
      "\r",
      "Generating responses:  76%|#############################################9              | 153/200 [06:06<01:52,  2.40s/it]"
     ]
    },
    {
     "name": "stderr",
     "output_type": "stream",
     "text": [
      "\r",
      "Generating responses:  77%|##############################################2             | 154/200 [06:08<01:50,  2.39s/it]"
     ]
    },
    {
     "name": "stderr",
     "output_type": "stream",
     "text": [
      "\r",
      "Generating responses:  78%|##############################################5             | 155/200 [06:12<01:48,  2.40s/it]"
     ]
    },
    {
     "name": "stderr",
     "output_type": "stream",
     "text": [
      "\r",
      "Generating responses:  78%|##############################################8             | 156/200 [06:16<01:46,  2.41s/it]"
     ]
    },
    {
     "name": "stderr",
     "output_type": "stream",
     "text": [
      "\r",
      "Generating responses:  78%|###############################################1            | 157/200 [06:19<01:43,  2.42s/it]"
     ]
    },
    {
     "name": "stderr",
     "output_type": "stream",
     "text": [
      "\r",
      "Generating responses:  79%|###############################################4            | 158/200 [06:20<01:41,  2.41s/it]"
     ]
    },
    {
     "name": "stderr",
     "output_type": "stream",
     "text": [
      "\r",
      "Generating responses:  80%|###############################################7            | 159/200 [06:24<01:39,  2.42s/it]"
     ]
    },
    {
     "name": "stderr",
     "output_type": "stream",
     "text": [
      "\r",
      "Generating responses:  80%|################################################            | 160/200 [06:27<01:36,  2.42s/it]"
     ]
    },
    {
     "name": "stderr",
     "output_type": "stream",
     "text": [
      "\r",
      "Generating responses:  80%|################################################3           | 161/200 [06:28<01:34,  2.41s/it]"
     ]
    },
    {
     "name": "stderr",
     "output_type": "stream",
     "text": [
      "\r",
      "Generating responses:  81%|################################################6           | 162/200 [06:29<01:31,  2.40s/it]"
     ]
    },
    {
     "name": "stderr",
     "output_type": "stream",
     "text": [
      "\r",
      "Generating responses:  82%|################################################9           | 163/200 [06:30<01:28,  2.40s/it]"
     ]
    },
    {
     "name": "stderr",
     "output_type": "stream",
     "text": [
      "\r",
      "Generating responses:  82%|#################################################1          | 164/200 [06:32<01:26,  2.39s/it]"
     ]
    },
    {
     "name": "stderr",
     "output_type": "stream",
     "text": [
      "\r",
      "Generating responses:  82%|#################################################5          | 165/200 [06:36<01:24,  2.40s/it]"
     ]
    },
    {
     "name": "stderr",
     "output_type": "stream",
     "text": [
      "\r",
      "Generating responses:  83%|#################################################8          | 166/200 [06:40<01:22,  2.41s/it]"
     ]
    },
    {
     "name": "stderr",
     "output_type": "stream",
     "text": [
      "\r",
      "Generating responses:  84%|##################################################          | 167/200 [06:43<01:19,  2.41s/it]"
     ]
    },
    {
     "name": "stderr",
     "output_type": "stream",
     "text": [
      "\r",
      "Generating responses:  84%|##################################################4         | 168/200 [06:46<01:17,  2.42s/it]"
     ]
    },
    {
     "name": "stderr",
     "output_type": "stream",
     "text": [
      "\r",
      "Generating responses:  84%|##################################################6         | 169/200 [06:49<01:15,  2.42s/it]"
     ]
    },
    {
     "name": "stderr",
     "output_type": "stream",
     "text": [
      "\r",
      "Generating responses:  85%|###################################################         | 170/200 [06:50<01:12,  2.41s/it]"
     ]
    },
    {
     "name": "stderr",
     "output_type": "stream",
     "text": [
      "\r",
      "Generating responses:  86%|###################################################3        | 171/200 [06:52<01:09,  2.41s/it]"
     ]
    },
    {
     "name": "stderr",
     "output_type": "stream",
     "text": [
      "\r",
      "Generating responses:  86%|###################################################6        | 172/200 [06:54<01:07,  2.41s/it]"
     ]
    },
    {
     "name": "stderr",
     "output_type": "stream",
     "text": [
      "\r",
      "Generating responses:  86%|###################################################9        | 173/200 [06:57<01:05,  2.41s/it]"
     ]
    },
    {
     "name": "stderr",
     "output_type": "stream",
     "text": [
      "\r",
      "Generating responses:  87%|####################################################2       | 174/200 [06:59<01:02,  2.41s/it]"
     ]
    },
    {
     "name": "stderr",
     "output_type": "stream",
     "text": [
      "\r",
      "Generating responses:  88%|####################################################5       | 175/200 [07:02<01:00,  2.41s/it]"
     ]
    },
    {
     "name": "stderr",
     "output_type": "stream",
     "text": [
      "\r",
      "Generating responses:  88%|####################################################8       | 176/200 [07:04<00:57,  2.41s/it]"
     ]
    },
    {
     "name": "stderr",
     "output_type": "stream",
     "text": [
      "\r",
      "Generating responses:  88%|#####################################################1      | 177/200 [07:05<00:55,  2.40s/it]"
     ]
    },
    {
     "name": "stderr",
     "output_type": "stream",
     "text": [
      "\r",
      "Generating responses:  89%|#####################################################4      | 178/200 [07:07<00:52,  2.40s/it]"
     ]
    },
    {
     "name": "stderr",
     "output_type": "stream",
     "text": [
      "\r",
      "Generating responses:  90%|#####################################################7      | 179/200 [07:09<00:50,  2.40s/it]"
     ]
    },
    {
     "name": "stderr",
     "output_type": "stream",
     "text": [
      "\r",
      "Generating responses:  90%|######################################################      | 180/200 [07:13<00:48,  2.41s/it]"
     ]
    },
    {
     "name": "stderr",
     "output_type": "stream",
     "text": [
      "\r",
      "Generating responses:  90%|######################################################3     | 181/200 [07:15<00:45,  2.41s/it]"
     ]
    },
    {
     "name": "stderr",
     "output_type": "stream",
     "text": [
      "\r",
      "Generating responses:  91%|######################################################6     | 182/200 [07:17<00:43,  2.40s/it]"
     ]
    },
    {
     "name": "stderr",
     "output_type": "stream",
     "text": [
      "\r",
      "Generating responses:  92%|######################################################9     | 183/200 [07:19<00:40,  2.40s/it]"
     ]
    },
    {
     "name": "stderr",
     "output_type": "stream",
     "text": [
      "\r",
      "Generating responses:  92%|#######################################################2    | 184/200 [07:22<00:38,  2.40s/it]"
     ]
    },
    {
     "name": "stderr",
     "output_type": "stream",
     "text": [
      "\r",
      "Generating responses:  92%|#######################################################5    | 185/200 [07:25<00:36,  2.41s/it]"
     ]
    },
    {
     "name": "stderr",
     "output_type": "stream",
     "text": [
      "\r",
      "Generating responses:  93%|#######################################################8    | 186/200 [07:26<00:33,  2.40s/it]"
     ]
    },
    {
     "name": "stderr",
     "output_type": "stream",
     "text": [
      "\r",
      "Generating responses:  94%|########################################################1   | 187/200 [07:28<00:31,  2.40s/it]"
     ]
    },
    {
     "name": "stderr",
     "output_type": "stream",
     "text": [
      "\r",
      "Generating responses:  94%|########################################################4   | 188/200 [07:32<00:28,  2.40s/it]"
     ]
    },
    {
     "name": "stderr",
     "output_type": "stream",
     "text": [
      "\r",
      "Generating responses:  94%|########################################################7   | 189/200 [07:33<00:26,  2.40s/it]"
     ]
    },
    {
     "name": "stderr",
     "output_type": "stream",
     "text": [
      "\r",
      "Generating responses:  95%|#########################################################   | 190/200 [07:38<00:24,  2.41s/it]"
     ]
    },
    {
     "name": "stderr",
     "output_type": "stream",
     "text": [
      "\r",
      "Generating responses:  96%|#########################################################3  | 191/200 [07:41<00:21,  2.42s/it]"
     ]
    },
    {
     "name": "stderr",
     "output_type": "stream",
     "text": [
      "\r",
      "Generating responses:  96%|#########################################################6  | 192/200 [07:43<00:19,  2.42s/it]"
     ]
    },
    {
     "name": "stderr",
     "output_type": "stream",
     "text": [
      "\r",
      "Generating responses:  96%|#########################################################9  | 193/200 [07:46<00:16,  2.41s/it]"
     ]
    },
    {
     "name": "stderr",
     "output_type": "stream",
     "text": [
      "\r",
      "Generating responses:  97%|##########################################################2 | 194/200 [07:48<00:14,  2.41s/it]"
     ]
    },
    {
     "name": "stderr",
     "output_type": "stream",
     "text": [
      "\r",
      "Generating responses:  98%|##########################################################5 | 195/200 [07:51<00:12,  2.42s/it]"
     ]
    },
    {
     "name": "stderr",
     "output_type": "stream",
     "text": [
      "\r",
      "Generating responses:  98%|##########################################################8 | 196/200 [07:52<00:09,  2.41s/it]"
     ]
    },
    {
     "name": "stderr",
     "output_type": "stream",
     "text": [
      "\r",
      "Generating responses:  98%|###########################################################1| 197/200 [07:54<00:07,  2.41s/it]"
     ]
    },
    {
     "name": "stderr",
     "output_type": "stream",
     "text": [
      "\r",
      "Generating responses:  99%|###########################################################4| 198/200 [07:56<00:04,  2.41s/it]"
     ]
    },
    {
     "name": "stderr",
     "output_type": "stream",
     "text": [
      "\r",
      "Generating responses: 100%|###########################################################7| 199/200 [07:59<00:02,  2.41s/it]"
     ]
    },
    {
     "name": "stderr",
     "output_type": "stream",
     "text": [
      "\r",
      "Generating responses: 100%|############################################################| 200/200 [08:01<00:00,  2.41s/it]"
     ]
    },
    {
     "name": "stderr",
     "output_type": "stream",
     "text": [
      "\r",
      "Generating responses: 100%|############################################################| 200/200 [08:01<00:00,  2.41s/it]"
     ]
    },
    {
     "name": "stderr",
     "output_type": "stream",
     "text": [
      "\n"
     ]
    }
   ],
   "source": [
    "import vertexai\n",
    "from vertexai.generative_models import GenerativeModel\n",
    "\n",
    "# Get the project ID from the .env file\n",
    "PROJECT_ID = os.getenv('GOOGLE_PROJECT_ID')\n",
    "print(\"Running with PROJECT_ID: \", PROJECT_ID)\n",
    "\n",
    "vertexai.init(project=PROJECT_ID, location=\"us-central1\")\n",
    "\n",
    "gdp_models = ['gemini-1.5-flash-002']\n",
    "for model in gdp_models:\n",
    "    output_file = model+'_responses.json'\n",
    "    model = GenerativeModel(model)\n",
    "    generation_function = lambda x: model.generate_content(x).text\n",
    "\n",
    "    responses = generate_responses(\n",
    "        questions=df_questions['question'], \n",
    "        generation_function=generation_function,\n",
    "        output_path=TEMP_PATH+output_file,\n",
    "        start_from_checkpoint=False\n",
    "    )"
   ]
  },
  {
   "cell_type": "markdown",
   "metadata": {},
   "source": [
    "### Together AI Models\n",
    "\n",
    "Together is a great model provider but doesn't have a lot of non-instruction tuned models."
   ]
  },
  {
   "cell_type": "code",
   "execution_count": 9,
   "metadata": {
    "execution": {
     "iopub.execute_input": "2025-01-03T23:25:24.948253Z",
     "iopub.status.busy": "2025-01-03T23:25:24.947286Z",
     "iopub.status.idle": "2025-01-03T23:25:24.957552Z",
     "shell.execute_reply": "2025-01-03T23:25:24.955793Z"
    }
   },
   "outputs": [],
   "source": [
    "# # This is a prompt suggested by Michiel to few shot non-instruction tuned models.\n",
    "# michiel_prompt = lambda x: f\"\"\"Q: What is an ambigram\n",
    "# A: An ambigram is a word, phrase, symbol, or design that retains its meaning or readability when viewed from a different perspective, orientation, or transformation. It is a type of visual wordplay that often relies on symmetry, rotation, or reflection.\n",
    "\n",
    "# Q: What are the zipcodes in Cambridge MA?\n",
    "# A: Cambridge, MA, has multiple ZIP codes depending on the specific area. Here are the primary ones:\n",
    "# 02138: Harvard Square and surrounding areas\n",
    "# 02139: Central Square and parts of MIT\n",
    "# 02140: Porter Square and North Cambridge\n",
    "# 02141: East Cambridge\n",
    "# 02142: Kendall Square and parts of MIT\n",
    "# If you need a ZIP code for a specific address or neighborhood, let me know!\n",
    "\n",
    "# Q: What country is Steve Irwin from?\n",
    "# A: Steve Irwin, famously known as \"The Crocodile Hunter,\" was from Australia. Born in Essendon, Victoria, Australia, he was an internationally renowned wildlife expert, conservationist, and television personality known for his passion for wildlife and environmental preservation.\n",
    "\n",
    "# Q: {x}\"\"\""
   ]
  },
  {
   "cell_type": "code",
   "execution_count": 10,
   "metadata": {
    "execution": {
     "iopub.execute_input": "2025-01-03T23:25:24.963830Z",
     "iopub.status.busy": "2025-01-03T23:25:24.963075Z",
     "iopub.status.idle": "2025-01-03T23:35:24.679614Z",
     "shell.execute_reply": "2025-01-03T23:35:24.677996Z"
    }
   },
   "outputs": [
    {
     "name": "stdout",
     "output_type": "stream",
     "text": [
      "Generating responses for:  temp/mistral-7b-instruct_responses.json\n"
     ]
    },
    {
     "name": "stderr",
     "output_type": "stream",
     "text": [
      "\r",
      "Generating responses:   0%|                                                                      | 0/200 [00:00<?, ?it/s]"
     ]
    },
    {
     "name": "stderr",
     "output_type": "stream",
     "text": [
      "\r",
      "Generating responses:   0%|3                                                             | 1/200 [00:03<11:15,  3.40s/it]"
     ]
    },
    {
     "name": "stderr",
     "output_type": "stream",
     "text": [
      "\r",
      "Generating responses:   1%|6                                                             | 2/200 [00:04<07:02,  2.13s/it]"
     ]
    },
    {
     "name": "stderr",
     "output_type": "stream",
     "text": [
      "\r",
      "Generating responses:   2%|9                                                             | 3/200 [00:04<05:27,  1.66s/it]"
     ]
    },
    {
     "name": "stderr",
     "output_type": "stream",
     "text": [
      "\r",
      "Generating responses:   2%|#2                                                            | 4/200 [00:09<07:59,  2.45s/it]"
     ]
    },
    {
     "name": "stderr",
     "output_type": "stream",
     "text": [
      "\r",
      "Generating responses:   2%|#5                                                            | 5/200 [00:12<07:50,  2.41s/it]"
     ]
    },
    {
     "name": "stderr",
     "output_type": "stream",
     "text": [
      "\r",
      "Generating responses:   3%|#8                                                            | 6/200 [00:15<08:20,  2.58s/it]"
     ]
    },
    {
     "name": "stderr",
     "output_type": "stream",
     "text": [
      "\r",
      "Generating responses:   4%|##1                                                           | 7/200 [00:17<07:56,  2.47s/it]"
     ]
    },
    {
     "name": "stderr",
     "output_type": "stream",
     "text": [
      "\r",
      "Generating responses:   4%|##4                                                           | 8/200 [00:23<09:31,  2.98s/it]"
     ]
    },
    {
     "name": "stderr",
     "output_type": "stream",
     "text": [
      "\r",
      "Generating responses:   4%|##7                                                           | 9/200 [00:27<09:40,  3.04s/it]"
     ]
    },
    {
     "name": "stderr",
     "output_type": "stream",
     "text": [
      "\r",
      "Generating responses:   5%|###                                                          | 10/200 [00:30<09:40,  3.06s/it]"
     ]
    },
    {
     "name": "stderr",
     "output_type": "stream",
     "text": [
      "\r",
      "Generating responses:   6%|###3                                                         | 11/200 [00:33<09:38,  3.06s/it]"
     ]
    },
    {
     "name": "stderr",
     "output_type": "stream",
     "text": [
      "\r",
      "Generating responses:   6%|###6                                                         | 12/200 [00:36<09:32,  3.05s/it]"
     ]
    },
    {
     "name": "stderr",
     "output_type": "stream",
     "text": [
      "\r",
      "Generating responses:   6%|###9                                                         | 13/200 [00:39<09:23,  3.01s/it]"
     ]
    },
    {
     "name": "stderr",
     "output_type": "stream",
     "text": [
      "\r",
      "Generating responses:   7%|####2                                                        | 14/200 [00:41<09:08,  2.95s/it]"
     ]
    },
    {
     "name": "stderr",
     "output_type": "stream",
     "text": [
      "\r",
      "Generating responses:   8%|####5                                                        | 15/200 [00:42<08:42,  2.82s/it]"
     ]
    },
    {
     "name": "stderr",
     "output_type": "stream",
     "text": [
      "\r",
      "Generating responses:   8%|####8                                                        | 16/200 [00:43<08:18,  2.71s/it]"
     ]
    },
    {
     "name": "stderr",
     "output_type": "stream",
     "text": [
      "\r",
      "Generating responses:   8%|#####1                                                       | 17/200 [00:47<08:31,  2.79s/it]"
     ]
    },
    {
     "name": "stderr",
     "output_type": "stream",
     "text": [
      "\r",
      "Generating responses:   9%|#####4                                                       | 18/200 [00:50<08:27,  2.79s/it]"
     ]
    },
    {
     "name": "stderr",
     "output_type": "stream",
     "text": [
      "\r",
      "Generating responses:  10%|#####7                                                       | 19/200 [00:53<08:26,  2.80s/it]"
     ]
    },
    {
     "name": "stderr",
     "output_type": "stream",
     "text": [
      "\r",
      "Generating responses:  10%|######1                                                      | 20/200 [00:54<08:14,  2.75s/it]"
     ]
    },
    {
     "name": "stderr",
     "output_type": "stream",
     "text": [
      "\r",
      "Generating responses:  10%|######4                                                      | 21/200 [00:56<08:05,  2.71s/it]"
     ]
    },
    {
     "name": "stderr",
     "output_type": "stream",
     "text": [
      "\r",
      "Generating responses:  11%|######7                                                      | 22/200 [00:58<07:50,  2.65s/it]"
     ]
    },
    {
     "name": "stderr",
     "output_type": "stream",
     "text": [
      "\r",
      "Generating responses:  12%|#######                                                      | 23/200 [01:02<08:01,  2.72s/it]"
     ]
    },
    {
     "name": "stderr",
     "output_type": "stream",
     "text": [
      "\r",
      "Generating responses:  12%|#######3                                                     | 24/200 [01:04<07:52,  2.69s/it]"
     ]
    },
    {
     "name": "stderr",
     "output_type": "stream",
     "text": [
      "\r",
      "Generating responses:  12%|#######6                                                     | 25/200 [01:05<07:41,  2.64s/it]"
     ]
    },
    {
     "name": "stderr",
     "output_type": "stream",
     "text": [
      "\r",
      "Generating responses:  13%|#######9                                                     | 26/200 [01:09<07:42,  2.66s/it]"
     ]
    },
    {
     "name": "stderr",
     "output_type": "stream",
     "text": [
      "\r",
      "Generating responses:  14%|########2                                                    | 27/200 [01:14<07:56,  2.75s/it]"
     ]
    },
    {
     "name": "stderr",
     "output_type": "stream",
     "text": [
      "\r",
      "Generating responses:  14%|########5                                                    | 28/200 [01:20<08:13,  2.87s/it]"
     ]
    },
    {
     "name": "stderr",
     "output_type": "stream",
     "text": [
      "\r",
      "Generating responses:  14%|########8                                                    | 29/200 [01:24<08:16,  2.90s/it]"
     ]
    },
    {
     "name": "stderr",
     "output_type": "stream",
     "text": [
      "\r",
      "Generating responses:  15%|#########1                                                   | 30/200 [01:29<08:25,  2.97s/it]"
     ]
    },
    {
     "name": "stderr",
     "output_type": "stream",
     "text": [
      "\r",
      "Generating responses:  16%|#########4                                                   | 31/200 [01:32<08:24,  2.99s/it]"
     ]
    },
    {
     "name": "stderr",
     "output_type": "stream",
     "text": [
      "\r",
      "Generating responses:  16%|#########7                                                   | 32/200 [01:35<08:21,  2.98s/it]"
     ]
    },
    {
     "name": "stderr",
     "output_type": "stream",
     "text": [
      "\r",
      "Generating responses:  16%|##########                                                   | 33/200 [01:37<08:15,  2.97s/it]"
     ]
    },
    {
     "name": "stderr",
     "output_type": "stream",
     "text": [
      "\r",
      "Generating responses:  17%|##########3                                                  | 34/200 [01:41<08:13,  2.97s/it]"
     ]
    },
    {
     "name": "stderr",
     "output_type": "stream",
     "text": [
      "\r",
      "Generating responses:  18%|##########6                                                  | 35/200 [01:42<08:01,  2.92s/it]"
     ]
    },
    {
     "name": "stderr",
     "output_type": "stream",
     "text": [
      "\r",
      "Generating responses:  18%|##########9                                                  | 36/200 [01:43<07:53,  2.89s/it]"
     ]
    },
    {
     "name": "stderr",
     "output_type": "stream",
     "text": [
      "\r",
      "Generating responses:  18%|###########2                                                 | 37/200 [01:47<07:55,  2.91s/it]"
     ]
    },
    {
     "name": "stderr",
     "output_type": "stream",
     "text": [
      "\r",
      "Generating responses:  19%|###########5                                                 | 38/200 [01:50<07:52,  2.92s/it]"
     ]
    },
    {
     "name": "stderr",
     "output_type": "stream",
     "text": [
      "\r",
      "Generating responses:  20%|###########8                                                 | 39/200 [01:52<07:42,  2.87s/it]"
     ]
    },
    {
     "name": "stderr",
     "output_type": "stream",
     "text": [
      "\r",
      "Generating responses:  20%|############2                                                | 40/200 [01:55<07:42,  2.89s/it]"
     ]
    },
    {
     "name": "stderr",
     "output_type": "stream",
     "text": [
      "\r",
      "Generating responses:  20%|############5                                                | 41/200 [01:56<07:31,  2.84s/it]"
     ]
    },
    {
     "name": "stderr",
     "output_type": "stream",
     "text": [
      "\r",
      "Generating responses:  21%|############8                                                | 42/200 [01:58<07:26,  2.82s/it]"
     ]
    },
    {
     "name": "stderr",
     "output_type": "stream",
     "text": [
      "\r",
      "Generating responses:  22%|#############1                                               | 43/200 [02:04<07:34,  2.90s/it]"
     ]
    },
    {
     "name": "stderr",
     "output_type": "stream",
     "text": [
      "\r",
      "Generating responses:  22%|#############4                                               | 44/200 [02:07<07:32,  2.90s/it]"
     ]
    },
    {
     "name": "stderr",
     "output_type": "stream",
     "text": [
      "\r",
      "Generating responses:  22%|#############7                                               | 45/200 [02:09<07:27,  2.89s/it]"
     ]
    },
    {
     "name": "stderr",
     "output_type": "stream",
     "text": [
      "\r",
      "Generating responses:  23%|##############                                               | 46/200 [02:11<07:21,  2.87s/it]"
     ]
    },
    {
     "name": "stderr",
     "output_type": "stream",
     "text": [
      "\r",
      "Generating responses:  24%|##############3                                              | 47/200 [02:13<07:13,  2.84s/it]"
     ]
    },
    {
     "name": "stderr",
     "output_type": "stream",
     "text": [
      "\r",
      "Generating responses:  24%|##############6                                              | 48/200 [02:14<07:05,  2.80s/it]"
     ]
    },
    {
     "name": "stderr",
     "output_type": "stream",
     "text": [
      "\r",
      "Generating responses:  24%|##############9                                              | 49/200 [02:15<06:57,  2.76s/it]"
     ]
    },
    {
     "name": "stderr",
     "output_type": "stream",
     "text": [
      "\r",
      "Generating responses:  25%|###############2                                             | 50/200 [02:18<06:54,  2.76s/it]"
     ]
    },
    {
     "name": "stderr",
     "output_type": "stream",
     "text": [
      "\r",
      "Generating responses:  26%|###############5                                             | 51/200 [02:21<06:54,  2.78s/it]"
     ]
    },
    {
     "name": "stderr",
     "output_type": "stream",
     "text": [
      "\r",
      "Generating responses:  26%|###############8                                             | 52/200 [02:25<06:52,  2.79s/it]"
     ]
    },
    {
     "name": "stderr",
     "output_type": "stream",
     "text": [
      "\r",
      "Generating responses:  26%|################1                                            | 53/200 [02:26<06:45,  2.76s/it]"
     ]
    },
    {
     "name": "stderr",
     "output_type": "stream",
     "text": [
      "\r",
      "Generating responses:  27%|################4                                            | 54/200 [02:29<06:43,  2.76s/it]"
     ]
    },
    {
     "name": "stderr",
     "output_type": "stream",
     "text": [
      "\r",
      "Generating responses:  28%|################7                                            | 55/200 [02:31<06:38,  2.75s/it]"
     ]
    },
    {
     "name": "stderr",
     "output_type": "stream",
     "text": [
      "\r",
      "Generating responses:  28%|#################                                            | 56/200 [02:33<06:35,  2.74s/it]"
     ]
    },
    {
     "name": "stderr",
     "output_type": "stream",
     "text": [
      "\r",
      "Generating responses:  28%|#################3                                           | 57/200 [02:34<06:28,  2.72s/it]"
     ]
    },
    {
     "name": "stderr",
     "output_type": "stream",
     "text": [
      "\r",
      "Generating responses:  29%|#################6                                           | 58/200 [02:36<06:24,  2.71s/it]"
     ]
    },
    {
     "name": "stderr",
     "output_type": "stream",
     "text": [
      "\r",
      "Generating responses:  30%|#################9                                           | 59/200 [02:37<06:17,  2.68s/it]"
     ]
    },
    {
     "name": "stderr",
     "output_type": "stream",
     "text": [
      "\r",
      "Generating responses:  30%|##################3                                          | 60/200 [02:39<06:11,  2.66s/it]"
     ]
    },
    {
     "name": "stderr",
     "output_type": "stream",
     "text": [
      "\r",
      "Generating responses:  30%|##################6                                          | 61/200 [02:41<06:08,  2.65s/it]"
     ]
    },
    {
     "name": "stderr",
     "output_type": "stream",
     "text": [
      "\r",
      "Generating responses:  31%|##################9                                          | 62/200 [02:50<06:19,  2.75s/it]"
     ]
    },
    {
     "name": "stderr",
     "output_type": "stream",
     "text": [
      "\r",
      "Generating responses:  32%|###################2                                         | 63/200 [02:53<06:16,  2.75s/it]"
     ]
    },
    {
     "name": "stderr",
     "output_type": "stream",
     "text": [
      "\r",
      "Generating responses:  32%|###################5                                         | 64/200 [02:55<06:13,  2.75s/it]"
     ]
    },
    {
     "name": "stderr",
     "output_type": "stream",
     "text": [
      "\r",
      "Generating responses:  32%|###################8                                         | 65/200 [03:02<06:19,  2.81s/it]"
     ]
    },
    {
     "name": "stderr",
     "output_type": "stream",
     "text": [
      "\r",
      "Generating responses:  33%|####################1                                        | 66/200 [03:04<06:14,  2.80s/it]"
     ]
    },
    {
     "name": "stderr",
     "output_type": "stream",
     "text": [
      "\r",
      "Generating responses:  34%|####################4                                        | 67/200 [03:06<06:10,  2.78s/it]"
     ]
    },
    {
     "name": "stderr",
     "output_type": "stream",
     "text": [
      "\r",
      "Generating responses:  34%|####################7                                        | 68/200 [03:07<06:04,  2.76s/it]"
     ]
    },
    {
     "name": "stderr",
     "output_type": "stream",
     "text": [
      "\r",
      "Generating responses:  34%|#####################                                        | 69/200 [03:09<05:59,  2.74s/it]"
     ]
    },
    {
     "name": "stderr",
     "output_type": "stream",
     "text": [
      "\r",
      "Generating responses:  35%|#####################3                                       | 70/200 [03:12<05:57,  2.75s/it]"
     ]
    },
    {
     "name": "stderr",
     "output_type": "stream",
     "text": [
      "\r",
      "Generating responses:  36%|#####################6                                       | 71/200 [03:14<05:53,  2.74s/it]"
     ]
    },
    {
     "name": "stderr",
     "output_type": "stream",
     "text": [
      "\r",
      "Generating responses:  36%|#####################9                                       | 72/200 [03:16<05:48,  2.72s/it]"
     ]
    },
    {
     "name": "stderr",
     "output_type": "stream",
     "text": [
      "\r",
      "Generating responses:  36%|######################2                                      | 73/200 [03:17<05:43,  2.70s/it]"
     ]
    },
    {
     "name": "stderr",
     "output_type": "stream",
     "text": [
      "\r",
      "Generating responses:  37%|######################5                                      | 74/200 [03:20<05:41,  2.71s/it]"
     ]
    },
    {
     "name": "stderr",
     "output_type": "stream",
     "text": [
      "\r",
      "Generating responses:  38%|######################8                                      | 75/200 [03:23<05:39,  2.71s/it]"
     ]
    },
    {
     "name": "stderr",
     "output_type": "stream",
     "text": [
      "\r",
      "Generating responses:  38%|#######################1                                     | 76/200 [03:24<05:34,  2.69s/it]"
     ]
    },
    {
     "name": "stderr",
     "output_type": "stream",
     "text": [
      "\r",
      "Generating responses:  38%|#######################4                                     | 77/200 [03:28<05:33,  2.71s/it]"
     ]
    },
    {
     "name": "stderr",
     "output_type": "stream",
     "text": [
      "\r",
      "Generating responses:  39%|#######################7                                     | 78/200 [03:34<05:35,  2.75s/it]"
     ]
    },
    {
     "name": "stderr",
     "output_type": "stream",
     "text": [
      "\r",
      "Generating responses:  40%|########################                                     | 79/200 [03:36<05:31,  2.74s/it]"
     ]
    },
    {
     "name": "stderr",
     "output_type": "stream",
     "text": [
      "\r",
      "Generating responses:  40%|########################4                                    | 80/200 [03:40<05:31,  2.76s/it]"
     ]
    },
    {
     "name": "stderr",
     "output_type": "stream",
     "text": [
      "\r",
      "Generating responses:  40%|########################7                                    | 81/200 [03:43<05:28,  2.76s/it]"
     ]
    },
    {
     "name": "stderr",
     "output_type": "stream",
     "text": [
      "\r",
      "Generating responses:  41%|#########################                                    | 82/200 [03:46<05:25,  2.76s/it]"
     ]
    },
    {
     "name": "stderr",
     "output_type": "stream",
     "text": [
      "\r",
      "Generating responses:  42%|#########################3                                   | 83/200 [03:49<05:23,  2.76s/it]"
     ]
    },
    {
     "name": "stderr",
     "output_type": "stream",
     "text": [
      "\r",
      "Generating responses:  42%|#########################6                                   | 84/200 [03:50<05:18,  2.74s/it]"
     ]
    },
    {
     "name": "stderr",
     "output_type": "stream",
     "text": [
      "\r",
      "Generating responses:  42%|#########################9                                   | 85/200 [03:51<05:13,  2.72s/it]"
     ]
    },
    {
     "name": "stderr",
     "output_type": "stream",
     "text": [
      "\r",
      "Generating responses:  43%|##########################2                                  | 86/200 [03:52<05:08,  2.71s/it]"
     ]
    },
    {
     "name": "stderr",
     "output_type": "stream",
     "text": [
      "\r",
      "Generating responses:  44%|##########################5                                  | 87/200 [03:53<05:03,  2.68s/it]"
     ]
    },
    {
     "name": "stderr",
     "output_type": "stream",
     "text": [
      "\r",
      "Generating responses:  44%|##########################8                                  | 88/200 [03:56<05:01,  2.69s/it]"
     ]
    },
    {
     "name": "stderr",
     "output_type": "stream",
     "text": [
      "\r",
      "Generating responses:  44%|###########################1                                 | 89/200 [03:59<04:58,  2.69s/it]"
     ]
    },
    {
     "name": "stderr",
     "output_type": "stream",
     "text": [
      "\r",
      "Generating responses:  45%|###########################4                                 | 90/200 [04:02<04:55,  2.69s/it]"
     ]
    },
    {
     "name": "stderr",
     "output_type": "stream",
     "text": [
      "\r",
      "Generating responses:  46%|###########################7                                 | 91/200 [04:03<04:51,  2.68s/it]"
     ]
    },
    {
     "name": "stderr",
     "output_type": "stream",
     "text": [
      "\r",
      "Generating responses:  46%|############################                                 | 92/200 [04:05<04:48,  2.67s/it]"
     ]
    },
    {
     "name": "stderr",
     "output_type": "stream",
     "text": [
      "\r",
      "Generating responses:  46%|############################3                                | 93/200 [04:09<04:47,  2.68s/it]"
     ]
    },
    {
     "name": "stderr",
     "output_type": "stream",
     "text": [
      "\r",
      "Generating responses:  47%|############################6                                | 94/200 [04:14<04:46,  2.71s/it]"
     ]
    },
    {
     "name": "stderr",
     "output_type": "stream",
     "text": [
      "\r",
      "Generating responses:  48%|############################9                                | 95/200 [04:15<04:42,  2.69s/it]"
     ]
    },
    {
     "name": "stderr",
     "output_type": "stream",
     "text": [
      "\r",
      "Generating responses:  48%|#############################2                               | 96/200 [04:19<04:40,  2.70s/it]"
     ]
    },
    {
     "name": "stderr",
     "output_type": "stream",
     "text": [
      "\r",
      "Generating responses:  48%|#############################5                               | 97/200 [04:25<04:41,  2.74s/it]"
     ]
    },
    {
     "name": "stderr",
     "output_type": "stream",
     "text": [
      "\r",
      "Generating responses:  49%|#############################8                               | 98/200 [04:28<04:39,  2.74s/it]"
     ]
    },
    {
     "name": "stderr",
     "output_type": "stream",
     "text": [
      "\r",
      "Generating responses:  50%|##############################1                              | 99/200 [04:31<04:37,  2.75s/it]"
     ]
    },
    {
     "name": "stderr",
     "output_type": "stream",
     "text": [
      "\r",
      "Generating responses:  50%|##############################                              | 100/200 [04:34<04:34,  2.75s/it]"
     ]
    },
    {
     "name": "stderr",
     "output_type": "stream",
     "text": [
      "\r",
      "Generating responses:  50%|##############################3                             | 101/200 [04:37<04:32,  2.75s/it]"
     ]
    },
    {
     "name": "stderr",
     "output_type": "stream",
     "text": [
      "\r",
      "Generating responses:  51%|##############################6                             | 102/200 [04:42<04:31,  2.77s/it]"
     ]
    },
    {
     "name": "stderr",
     "output_type": "stream",
     "text": [
      "\r",
      "Generating responses:  52%|##############################9                             | 103/200 [04:43<04:27,  2.76s/it]"
     ]
    },
    {
     "name": "stderr",
     "output_type": "stream",
     "text": [
      "\r",
      "Generating responses:  52%|###############################2                            | 104/200 [04:45<04:23,  2.75s/it]"
     ]
    },
    {
     "name": "stderr",
     "output_type": "stream",
     "text": [
      "\r",
      "Generating responses:  52%|###############################5                            | 105/200 [04:47<04:19,  2.74s/it]"
     ]
    },
    {
     "name": "stderr",
     "output_type": "stream",
     "text": [
      "\r",
      "Generating responses:  53%|###############################8                            | 106/200 [04:48<04:15,  2.72s/it]"
     ]
    },
    {
     "name": "stderr",
     "output_type": "stream",
     "text": [
      "\r",
      "Generating responses:  54%|################################1                           | 107/200 [04:48<04:11,  2.70s/it]"
     ]
    },
    {
     "name": "stderr",
     "output_type": "stream",
     "text": [
      "\r",
      "Generating responses:  54%|################################4                           | 108/200 [04:52<04:09,  2.71s/it]"
     ]
    },
    {
     "name": "stderr",
     "output_type": "stream",
     "text": [
      "\r",
      "Generating responses:  55%|################################7                           | 109/200 [04:53<04:05,  2.70s/it]"
     ]
    },
    {
     "name": "stderr",
     "output_type": "stream",
     "text": [
      "\r",
      "Generating responses:  55%|#################################                           | 110/200 [04:58<04:04,  2.71s/it]"
     ]
    },
    {
     "name": "stderr",
     "output_type": "stream",
     "text": [
      "\r",
      "Generating responses:  56%|#################################3                          | 111/200 [05:02<04:02,  2.72s/it]"
     ]
    },
    {
     "name": "stderr",
     "output_type": "stream",
     "text": [
      "\r",
      "Generating responses:  56%|#################################6                          | 112/200 [05:04<03:59,  2.72s/it]"
     ]
    },
    {
     "name": "stderr",
     "output_type": "stream",
     "text": [
      "\r",
      "Generating responses:  56%|#################################9                          | 113/200 [05:05<03:54,  2.70s/it]"
     ]
    },
    {
     "name": "stderr",
     "output_type": "stream",
     "text": [
      "\r",
      "Generating responses:  57%|##################################1                         | 114/200 [05:08<03:52,  2.71s/it]"
     ]
    },
    {
     "name": "stderr",
     "output_type": "stream",
     "text": [
      "\r",
      "Generating responses:  57%|##################################5                         | 115/200 [05:09<03:49,  2.70s/it]"
     ]
    },
    {
     "name": "stderr",
     "output_type": "stream",
     "text": [
      "\r",
      "Generating responses:  58%|##################################8                         | 116/200 [05:15<03:48,  2.72s/it]"
     ]
    },
    {
     "name": "stderr",
     "output_type": "stream",
     "text": [
      "\r",
      "Generating responses:  58%|###################################                         | 117/200 [05:18<03:46,  2.73s/it]"
     ]
    },
    {
     "name": "stderr",
     "output_type": "stream",
     "text": [
      "\r",
      "Generating responses:  59%|###################################4                        | 118/200 [05:20<03:42,  2.72s/it]"
     ]
    },
    {
     "name": "stderr",
     "output_type": "stream",
     "text": [
      "\r",
      "Generating responses:  60%|###################################6                        | 119/200 [05:21<03:38,  2.70s/it]"
     ]
    },
    {
     "name": "stderr",
     "output_type": "stream",
     "text": [
      "\r",
      "Generating responses:  60%|####################################                        | 120/200 [05:26<03:37,  2.72s/it]"
     ]
    },
    {
     "name": "stderr",
     "output_type": "stream",
     "text": [
      "\r",
      "Generating responses:  60%|####################################3                       | 121/200 [05:27<03:34,  2.71s/it]"
     ]
    },
    {
     "name": "stderr",
     "output_type": "stream",
     "text": [
      "\r",
      "Generating responses:  61%|####################################6                       | 122/200 [05:29<03:30,  2.70s/it]"
     ]
    },
    {
     "name": "stderr",
     "output_type": "stream",
     "text": [
      "\r",
      "Generating responses:  62%|####################################9                       | 123/200 [05:32<03:27,  2.70s/it]"
     ]
    },
    {
     "name": "stderr",
     "output_type": "stream",
     "text": [
      "\r",
      "Generating responses:  62%|#####################################2                      | 124/200 [05:36<03:26,  2.72s/it]"
     ]
    },
    {
     "name": "stderr",
     "output_type": "stream",
     "text": [
      "\r",
      "Generating responses:  62%|#####################################5                      | 125/200 [05:40<03:24,  2.72s/it]"
     ]
    },
    {
     "name": "stderr",
     "output_type": "stream",
     "text": [
      "\r",
      "Generating responses:  63%|#####################################8                      | 126/200 [05:41<03:20,  2.71s/it]"
     ]
    },
    {
     "name": "stderr",
     "output_type": "stream",
     "text": [
      "\r",
      "Generating responses:  64%|######################################1                     | 127/200 [05:42<03:17,  2.70s/it]"
     ]
    },
    {
     "name": "stderr",
     "output_type": "stream",
     "text": [
      "\r",
      "Generating responses:  64%|######################################4                     | 128/200 [05:45<03:14,  2.70s/it]"
     ]
    },
    {
     "name": "stderr",
     "output_type": "stream",
     "text": [
      "\r",
      "Generating responses:  64%|######################################7                     | 129/200 [05:49<03:12,  2.71s/it]"
     ]
    },
    {
     "name": "stderr",
     "output_type": "stream",
     "text": [
      "\r",
      "Generating responses:  65%|#######################################                     | 130/200 [05:53<03:10,  2.72s/it]"
     ]
    },
    {
     "name": "stderr",
     "output_type": "stream",
     "text": [
      "\r",
      "Generating responses:  66%|#######################################3                    | 131/200 [05:54<03:06,  2.70s/it]"
     ]
    },
    {
     "name": "stderr",
     "output_type": "stream",
     "text": [
      "\r",
      "Generating responses:  66%|#######################################6                    | 132/200 [05:59<03:05,  2.73s/it]"
     ]
    },
    {
     "name": "stderr",
     "output_type": "stream",
     "text": [
      "\r",
      "Generating responses:  66%|#######################################9                    | 133/200 [06:03<03:03,  2.73s/it]"
     ]
    },
    {
     "name": "stderr",
     "output_type": "stream",
     "text": [
      "\r",
      "Generating responses:  67%|########################################2                   | 134/200 [06:10<03:02,  2.77s/it]"
     ]
    },
    {
     "name": "stderr",
     "output_type": "stream",
     "text": [
      "\r",
      "Generating responses:  68%|########################################5                   | 135/200 [06:12<02:59,  2.76s/it]"
     ]
    },
    {
     "name": "stderr",
     "output_type": "stream",
     "text": [
      "\r",
      "Generating responses:  68%|########################################8                   | 136/200 [06:14<02:56,  2.75s/it]"
     ]
    },
    {
     "name": "stderr",
     "output_type": "stream",
     "text": [
      "\r",
      "Generating responses:  68%|#########################################1                  | 137/200 [06:18<02:54,  2.77s/it]"
     ]
    },
    {
     "name": "stderr",
     "output_type": "stream",
     "text": [
      "\r",
      "Generating responses:  69%|#########################################4                  | 138/200 [06:22<02:51,  2.77s/it]"
     ]
    },
    {
     "name": "stderr",
     "output_type": "stream",
     "text": [
      "\r",
      "Generating responses:  70%|#########################################6                  | 139/200 [06:22<02:48,  2.76s/it]"
     ]
    },
    {
     "name": "stderr",
     "output_type": "stream",
     "text": [
      "\r",
      "Generating responses:  70%|##########################################                  | 140/200 [06:28<02:46,  2.77s/it]"
     ]
    },
    {
     "name": "stderr",
     "output_type": "stream",
     "text": [
      "\r",
      "Generating responses:  70%|##########################################3                 | 141/200 [06:35<02:45,  2.80s/it]"
     ]
    },
    {
     "name": "stderr",
     "output_type": "stream",
     "text": [
      "\r",
      "Generating responses:  71%|##########################################5                 | 142/200 [06:41<02:43,  2.83s/it]"
     ]
    },
    {
     "name": "stderr",
     "output_type": "stream",
     "text": [
      "\r",
      "Generating responses:  72%|##########################################9                 | 143/200 [06:43<02:41,  2.83s/it]"
     ]
    },
    {
     "name": "stderr",
     "output_type": "stream",
     "text": [
      "\r",
      "Generating responses:  72%|###########################################1                | 144/200 [06:48<02:39,  2.84s/it]"
     ]
    },
    {
     "name": "stderr",
     "output_type": "stream",
     "text": [
      "\r",
      "Generating responses:  72%|###########################################5                | 145/200 [06:56<02:38,  2.88s/it]"
     ]
    },
    {
     "name": "stderr",
     "output_type": "stream",
     "text": [
      "\r",
      "Generating responses:  73%|###########################################8                | 146/200 [07:01<02:35,  2.89s/it]"
     ]
    },
    {
     "name": "stderr",
     "output_type": "stream",
     "text": [
      "\r",
      "Generating responses:  74%|############################################1               | 147/200 [07:04<02:33,  2.89s/it]"
     ]
    },
    {
     "name": "stderr",
     "output_type": "stream",
     "text": [
      "\r",
      "Generating responses:  74%|############################################4               | 148/200 [07:06<02:29,  2.88s/it]"
     ]
    },
    {
     "name": "stderr",
     "output_type": "stream",
     "text": [
      "\r",
      "Generating responses:  74%|############################################7               | 149/200 [07:07<02:26,  2.87s/it]"
     ]
    },
    {
     "name": "stderr",
     "output_type": "stream",
     "text": [
      "\r",
      "Generating responses:  75%|#############################################               | 150/200 [07:10<02:23,  2.87s/it]"
     ]
    },
    {
     "name": "stderr",
     "output_type": "stream",
     "text": [
      "\r",
      "Generating responses:  76%|#############################################3              | 151/200 [07:11<02:20,  2.86s/it]"
     ]
    },
    {
     "name": "stderr",
     "output_type": "stream",
     "text": [
      "\r",
      "Generating responses:  76%|#############################################6              | 152/200 [07:15<02:17,  2.86s/it]"
     ]
    },
    {
     "name": "stderr",
     "output_type": "stream",
     "text": [
      "\r",
      "Generating responses:  76%|#############################################9              | 153/200 [07:17<02:14,  2.86s/it]"
     ]
    },
    {
     "name": "stderr",
     "output_type": "stream",
     "text": [
      "\r",
      "Generating responses:  77%|##############################################2             | 154/200 [07:20<02:11,  2.86s/it]"
     ]
    },
    {
     "name": "stderr",
     "output_type": "stream",
     "text": [
      "\r",
      "Generating responses:  78%|##############################################5             | 155/200 [07:23<02:08,  2.86s/it]"
     ]
    },
    {
     "name": "stderr",
     "output_type": "stream",
     "text": [
      "\r",
      "Generating responses:  78%|##############################################8             | 156/200 [07:27<02:06,  2.87s/it]"
     ]
    },
    {
     "name": "stderr",
     "output_type": "stream",
     "text": [
      "\r",
      "Generating responses:  78%|###############################################1            | 157/200 [07:29<02:03,  2.86s/it]"
     ]
    },
    {
     "name": "stderr",
     "output_type": "stream",
     "text": [
      "\r",
      "Generating responses:  79%|###############################################4            | 158/200 [07:30<01:59,  2.85s/it]"
     ]
    },
    {
     "name": "stderr",
     "output_type": "stream",
     "text": [
      "\r",
      "Generating responses:  80%|###############################################7            | 159/200 [07:35<01:57,  2.86s/it]"
     ]
    },
    {
     "name": "stderr",
     "output_type": "stream",
     "text": [
      "\r",
      "Generating responses:  80%|################################################            | 160/200 [07:38<01:54,  2.86s/it]"
     ]
    },
    {
     "name": "stderr",
     "output_type": "stream",
     "text": [
      "\r",
      "Generating responses:  80%|################################################3           | 161/200 [07:41<01:51,  2.87s/it]"
     ]
    },
    {
     "name": "stderr",
     "output_type": "stream",
     "text": [
      "\r",
      "Generating responses:  81%|################################################6           | 162/200 [07:43<01:48,  2.86s/it]"
     ]
    },
    {
     "name": "stderr",
     "output_type": "stream",
     "text": [
      "\r",
      "Generating responses:  82%|################################################9           | 163/200 [07:44<01:45,  2.85s/it]"
     ]
    },
    {
     "name": "stderr",
     "output_type": "stream",
     "text": [
      "\r",
      "Generating responses:  82%|#################################################1          | 164/200 [07:46<01:42,  2.84s/it]"
     ]
    },
    {
     "name": "stderr",
     "output_type": "stream",
     "text": [
      "\r",
      "Generating responses:  82%|#################################################5          | 165/200 [07:50<01:39,  2.85s/it]"
     ]
    },
    {
     "name": "stderr",
     "output_type": "stream",
     "text": [
      "\r",
      "Generating responses:  83%|#################################################8          | 166/200 [08:07<01:39,  2.94s/it]"
     ]
    },
    {
     "name": "stderr",
     "output_type": "stream",
     "text": [
      "\r",
      "Generating responses:  84%|##################################################          | 167/200 [08:10<01:37,  2.94s/it]"
     ]
    },
    {
     "name": "stderr",
     "output_type": "stream",
     "text": [
      "\r",
      "Generating responses:  84%|##################################################4         | 168/200 [08:15<01:34,  2.95s/it]"
     ]
    },
    {
     "name": "stderr",
     "output_type": "stream",
     "text": [
      "\r",
      "Generating responses:  84%|##################################################6         | 169/200 [08:17<01:31,  2.94s/it]"
     ]
    },
    {
     "name": "stderr",
     "output_type": "stream",
     "text": [
      "\r",
      "Generating responses:  85%|###################################################         | 170/200 [08:19<01:28,  2.94s/it]"
     ]
    },
    {
     "name": "stderr",
     "output_type": "stream",
     "text": [
      "\r",
      "Generating responses:  86%|###################################################3        | 171/200 [08:24<01:25,  2.95s/it]"
     ]
    },
    {
     "name": "stderr",
     "output_type": "stream",
     "text": [
      "\r",
      "Generating responses:  86%|###################################################6        | 172/200 [08:27<01:22,  2.95s/it]"
     ]
    },
    {
     "name": "stderr",
     "output_type": "stream",
     "text": [
      "\r",
      "Generating responses:  86%|###################################################9        | 173/200 [08:29<01:19,  2.94s/it]"
     ]
    },
    {
     "name": "stderr",
     "output_type": "stream",
     "text": [
      "\r",
      "Generating responses:  87%|####################################################2       | 174/200 [08:35<01:16,  2.96s/it]"
     ]
    },
    {
     "name": "stderr",
     "output_type": "stream",
     "text": [
      "\r",
      "Generating responses:  88%|####################################################5       | 175/200 [08:36<01:13,  2.95s/it]"
     ]
    },
    {
     "name": "stderr",
     "output_type": "stream",
     "text": [
      "\r",
      "Generating responses:  88%|####################################################8       | 176/200 [08:40<01:10,  2.96s/it]"
     ]
    },
    {
     "name": "stderr",
     "output_type": "stream",
     "text": [
      "\r",
      "Generating responses:  88%|#####################################################1      | 177/200 [08:43<01:08,  2.96s/it]"
     ]
    },
    {
     "name": "stderr",
     "output_type": "stream",
     "text": [
      "\r",
      "Generating responses:  89%|#####################################################4      | 178/200 [08:45<01:04,  2.95s/it]"
     ]
    },
    {
     "name": "stderr",
     "output_type": "stream",
     "text": [
      "\r",
      "Generating responses:  90%|#####################################################7      | 179/200 [08:48<01:02,  2.96s/it]"
     ]
    },
    {
     "name": "stderr",
     "output_type": "stream",
     "text": [
      "\r",
      "Generating responses:  90%|######################################################      | 180/200 [08:50<00:58,  2.95s/it]"
     ]
    },
    {
     "name": "stderr",
     "output_type": "stream",
     "text": [
      "\r",
      "Generating responses:  90%|######################################################3     | 181/200 [08:56<00:56,  2.97s/it]"
     ]
    },
    {
     "name": "stderr",
     "output_type": "stream",
     "text": [
      "\r",
      "Generating responses:  91%|######################################################6     | 182/200 [09:08<00:54,  3.01s/it]"
     ]
    },
    {
     "name": "stderr",
     "output_type": "stream",
     "text": [
      "\r",
      "Generating responses:  92%|######################################################9     | 183/200 [09:11<00:51,  3.01s/it]"
     ]
    },
    {
     "name": "stderr",
     "output_type": "stream",
     "text": [
      "\r",
      "Generating responses:  92%|#######################################################2    | 184/200 [09:15<00:48,  3.02s/it]"
     ]
    },
    {
     "name": "stderr",
     "output_type": "stream",
     "text": [
      "\r",
      "Generating responses:  92%|#######################################################5    | 185/200 [09:17<00:45,  3.01s/it]"
     ]
    },
    {
     "name": "stderr",
     "output_type": "stream",
     "text": [
      "\r",
      "Generating responses:  93%|#######################################################8    | 186/200 [09:18<00:42,  3.00s/it]"
     ]
    },
    {
     "name": "stderr",
     "output_type": "stream",
     "text": [
      "\r",
      "Generating responses:  94%|########################################################1   | 187/200 [09:24<00:39,  3.02s/it]"
     ]
    },
    {
     "name": "stderr",
     "output_type": "stream",
     "text": [
      "\r",
      "Generating responses:  94%|########################################################4   | 188/200 [09:26<00:36,  3.01s/it]"
     ]
    },
    {
     "name": "stderr",
     "output_type": "stream",
     "text": [
      "\r",
      "Generating responses:  94%|########################################################7   | 189/200 [09:29<00:33,  3.02s/it]"
     ]
    },
    {
     "name": "stderr",
     "output_type": "stream",
     "text": [
      "\r",
      "Generating responses:  95%|#########################################################   | 190/200 [09:33<00:30,  3.02s/it]"
     ]
    },
    {
     "name": "stderr",
     "output_type": "stream",
     "text": [
      "\r",
      "Generating responses:  96%|#########################################################3  | 191/200 [09:37<00:27,  3.03s/it]"
     ]
    },
    {
     "name": "stderr",
     "output_type": "stream",
     "text": [
      "\r",
      "Generating responses:  96%|#########################################################6  | 192/200 [09:39<00:24,  3.02s/it]"
     ]
    },
    {
     "name": "stderr",
     "output_type": "stream",
     "text": [
      "\r",
      "Generating responses:  96%|#########################################################9  | 193/200 [09:42<00:21,  3.02s/it]"
     ]
    },
    {
     "name": "stderr",
     "output_type": "stream",
     "text": [
      "\r",
      "Generating responses:  97%|##########################################################2 | 194/200 [09:43<00:18,  3.01s/it]"
     ]
    },
    {
     "name": "stderr",
     "output_type": "stream",
     "text": [
      "\r",
      "Generating responses:  98%|##########################################################5 | 195/200 [09:44<00:14,  3.00s/it]"
     ]
    },
    {
     "name": "stderr",
     "output_type": "stream",
     "text": [
      "\r",
      "Generating responses:  98%|##########################################################8 | 196/200 [09:46<00:11,  2.99s/it]"
     ]
    },
    {
     "name": "stderr",
     "output_type": "stream",
     "text": [
      "\r",
      "Generating responses:  98%|###########################################################1| 197/200 [09:50<00:08,  3.00s/it]"
     ]
    },
    {
     "name": "stderr",
     "output_type": "stream",
     "text": [
      "\r",
      "Generating responses:  99%|###########################################################4| 198/200 [09:51<00:05,  2.99s/it]"
     ]
    },
    {
     "name": "stderr",
     "output_type": "stream",
     "text": [
      "\r",
      "Generating responses: 100%|###########################################################7| 199/200 [09:56<00:02,  3.00s/it]"
     ]
    },
    {
     "name": "stderr",
     "output_type": "stream",
     "text": [
      "\r",
      "Generating responses: 100%|############################################################| 200/200 [09:59<00:00,  3.00s/it]"
     ]
    },
    {
     "name": "stderr",
     "output_type": "stream",
     "text": [
      "\r",
      "Generating responses: 100%|############################################################| 200/200 [09:59<00:00,  3.00s/it]"
     ]
    },
    {
     "name": "stderr",
     "output_type": "stream",
     "text": [
      "\n"
     ]
    }
   ],
   "source": [
    "from together import Together\n",
    "\n",
    "client = Together(api_key=os.getenv('TOGETHER_API_KEY'))\n",
    "\n",
    "def generate_together_response(question, model):\n",
    "  completion = client.chat.completions.create(\n",
    "      model=model,\n",
    "      messages=[{\"role\": \"user\", \"content\": question}],\n",
    "      max_tokens=2048\n",
    "  )\n",
    "  return completion.choices[0].message.content\n",
    "\n",
    "# While you should be able to use the mistral models on HF, together is much faster with a dedicated endpoint and more models.\n",
    "together_models = {\n",
    "    'mistral-7b-instruct': 'mistralai/Mistral-7B-Instruct-v0.1',\n",
    "    # 'mistral-7b': 'mistralai/Mistral-7B-v0.1',\n",
    "}\n",
    "\n",
    "for bettername, model in together_models.items():\n",
    "    output_file = bettername+'_responses.json'\n",
    "\n",
    "    if bettername == 'mistral-7b':\n",
    "       nonITprompt = lambda x: f\"Question: {x}\\n\\nAnswer:\"\n",
    "    #    nonITprompt = lambda x: michiel_prompt(x)\n",
    "       generation_function = lambda x: generate_together_response(nonITprompt(x), model)\n",
    "    else:\n",
    "        generation_function = lambda x: generate_together_response(x, model)\n",
    "\n",
    "    responses = generate_responses(\n",
    "        questions=df_questions['question'], \n",
    "        generation_function=generation_function,\n",
    "        output_path=TEMP_PATH+output_file,\n",
    "        start_from_checkpoint=False\n",
    "    )"
   ]
  },
  {
   "cell_type": "markdown",
   "metadata": {},
   "source": [
    "## Processing Responses\n",
    "#### We're now going to load in all the responses and make them into one big dataframe."
   ]
  },
  {
   "cell_type": "code",
   "execution_count": 11,
   "metadata": {
    "execution": {
     "iopub.execute_input": "2025-01-03T23:35:24.687295Z",
     "iopub.status.busy": "2025-01-03T23:35:24.686726Z",
     "iopub.status.idle": "2025-01-03T23:35:24.777378Z",
     "shell.execute_reply": "2025-01-03T23:35:24.775849Z"
    }
   },
   "outputs": [],
   "source": [
    "df_questions = pd.read_csv(DATA_PATH+'questions_and_human_perspectives.csv') # Load in without and sampling or processing"
   ]
  },
  {
   "cell_type": "code",
   "execution_count": 12,
   "metadata": {
    "execution": {
     "iopub.execute_input": "2025-01-03T23:35:24.783280Z",
     "iopub.status.busy": "2025-01-03T23:35:24.782782Z",
     "iopub.status.idle": "2025-01-03T23:35:24.787743Z",
     "shell.execute_reply": "2025-01-03T23:35:24.786681Z"
    }
   },
   "outputs": [],
   "source": [
    "# all_models = oai_models + gdp_models + list(together_models.keys())"
   ]
  },
  {
   "cell_type": "code",
   "execution_count": 13,
   "metadata": {
    "execution": {
     "iopub.execute_input": "2025-01-03T23:35:24.793751Z",
     "iopub.status.busy": "2025-01-03T23:35:24.793319Z",
     "iopub.status.idle": "2025-01-03T23:35:24.894385Z",
     "shell.execute_reply": "2025-01-03T23:35:24.893600Z"
    }
   },
   "outputs": [],
   "source": [
    "all_models = oai_models + gdp_models + list(together_models.keys()) + list(hf_models.keys())\n",
    "# all_models = ['gemma-2-2b-it', 'gemma-2-2b', 'gpt-4o-mini', 'gpt-3.5-turbo', 'gemini-1.5-flash-002', 'mistral-7b-instruct']\n",
    "\n",
    "for model in all_models:\n",
    "    with open(TEMP_PATH+model+'_responses.json', 'r') as f:\n",
    "        model_responses = json.load(f)\n",
    "        df_questions[model] = df_questions['question'].map(model_responses)"
   ]
  },
  {
   "cell_type": "code",
   "execution_count": 14,
   "metadata": {
    "execution": {
     "iopub.execute_input": "2025-01-03T23:35:24.899936Z",
     "iopub.status.busy": "2025-01-03T23:35:24.899516Z",
     "iopub.status.idle": "2025-01-03T23:35:24.908149Z",
     "shell.execute_reply": "2025-01-03T23:35:24.907223Z"
    }
   },
   "outputs": [],
   "source": [
    "df_questions.dropna(inplace=True) # Only keep rows where all models have responses"
   ]
  },
  {
   "cell_type": "code",
   "execution_count": 15,
   "metadata": {
    "execution": {
     "iopub.execute_input": "2025-01-03T23:35:24.913299Z",
     "iopub.status.busy": "2025-01-03T23:35:24.912908Z",
     "iopub.status.idle": "2025-01-03T23:35:24.918335Z",
     "shell.execute_reply": "2025-01-03T23:35:24.917378Z"
    }
   },
   "outputs": [],
   "source": [
    "# We're going to do a basic check to make sure all the model columns are non-null.\n",
    "assert df_questions.isnull().sum().any() == False"
   ]
  },
  {
   "cell_type": "code",
   "execution_count": 16,
   "metadata": {
    "execution": {
     "iopub.execute_input": "2025-01-03T23:35:24.923925Z",
     "iopub.status.busy": "2025-01-03T23:35:24.923531Z",
     "iopub.status.idle": "2025-01-03T23:35:25.054681Z",
     "shell.execute_reply": "2025-01-03T23:35:25.053874Z"
    }
   },
   "outputs": [],
   "source": [
    "df_questions.to_csv(DATA_PATH+'questions_and_human_perspectives_with_responses.csv', index=False)"
   ]
  }
 ],
 "metadata": {
  "kernelspec": {
   "display_name": "base",
   "language": "python",
   "name": "python3"
  },
  "language_info": {
   "codemirror_mode": {
    "name": "ipython",
    "version": 3
   },
   "file_extension": ".py",
   "mimetype": "text/x-python",
   "name": "python",
   "nbconvert_exporter": "python",
   "pygments_lexer": "ipython3",
   "version": "3.10.6"
  }
 },
 "nbformat": 4,
 "nbformat_minor": 2
}
