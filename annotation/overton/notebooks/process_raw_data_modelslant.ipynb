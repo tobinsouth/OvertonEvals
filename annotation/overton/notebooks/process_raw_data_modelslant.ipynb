{
 "cells": [
  {
   "cell_type": "code",
   "execution_count": null,
   "metadata": {},
   "outputs": [],
   "source": [
    "import pandas as pd\n",
    "import numpy as np\n",
    "import matplotlib.pyplot as plt\n",
    "import seaborn as sns\n",
    "import os\n",
    "import sys\n"
   ]
  },
  {
   "cell_type": "code",
   "execution_count": null,
   "metadata": {},
   "outputs": [],
   "source": [
    "df1 = pd.read_csv('../data_files/raw/modelslant_pilot_llm_responses.csv')\n",
    "df2 = pd.read_csv('../data_files/raw/modelslant_questions_endpoints.csv')"
   ]
  },
  {
   "cell_type": "code",
   "execution_count": null,
   "metadata": {},
   "outputs": [],
   "source": [
    "df = df1.merge(df2, on='Topic', how='left')"
   ]
  },
  {
   "cell_type": "code",
   "execution_count": null,
   "metadata": {},
   "outputs": [],
   "source": [
    "df"
   ]
  },
  {
   "cell_type": "code",
   "execution_count": null,
   "metadata": {},
   "outputs": [],
   "source": [
    "# Process the dataframe into the desired format\n",
    "processed_data = []\n",
    "\n",
    "# Get unique question IDs\n",
    "question_ids = df['Question'].unique()\n",
    "\n",
    "for i, question in enumerate(question_ids):\n",
    "    # Filter rows for this question\n",
    "    question_df = df[df['Question'] == question]\n",
    "    option1 = question_df['Endpoint 1'].values[0]\n",
    "    option2 = question_df['Endpoint 2'].values[0]\n",
    "\n",
    "    # Add a row just for the question\n",
    "    question_entry = {\n",
    "        \"id\": f\"{i+1}_select\",\n",
    "        \"question\": question,\n",
    "        \"text\": f\"[Question] {question}\".replace(\"\\n\", \"<br>\") + f\"<br> <br> [Options] <br> 1. {option1} <br> 2. {option2}\",\n",
    "        \"option1\": option1,\n",
    "        \"option2\": option2,\n",
    "        \"model\": None,\n",
    "        \"response_length\": None\n",
    "    }\n",
    "    processed_data.append(question_entry)\n",
    "    \n",
    "    # Add a row just for the question\n",
    "    question_entry = {\n",
    "        \"id\": f\"{i+1}_question\",\n",
    "        \"question\": question,\n",
    "        \"text\": f\"[Question] {question}\".replace(\"\\n\", \"<br>\"),\n",
    "        \"option1\": None,\n",
    "        \"option2\": None,\n",
    "        \"model\": None,\n",
    "        \"response_length\": None\n",
    "    }\n",
    "    processed_data.append(question_entry)\n",
    "    \n",
    "    question_df = question_df.sample(frac=1).reset_index(drop=True)\n",
    "    # Add entries for each model's response to this question\n",
    "    for _, row in question_df.iterrows():\n",
    "        model = row['Model']\n",
    "        response = row['Response']\n",
    "        entry = {\n",
    "            \"id\": f\"{i+1}_{model}\",\n",
    "            \"question\": question,\n",
    "            \"model\": model,\n",
    "            \"text\": f\"Question: {question} <br> <hr> LLM generated response: <br> <br> {response}\".replace(\"\\n\", \"<br>\"),\n",
    "            \"option1\": None,\n",
    "            \"option2\": None,\n",
    "            \"response_length\": len(response)\n",
    "        }\n",
    "        processed_data.append(entry)\n",
    "\n",
    "# Convert the processed data into a DataFrame\n",
    "processed_df = pd.DataFrame(processed_data)\n"
   ]
  },
  {
   "cell_type": "code",
   "execution_count": null,
   "metadata": {},
   "outputs": [],
   "source": [
    "processed_df.text.values[2]"
   ]
  },
  {
   "cell_type": "code",
   "execution_count": null,
   "metadata": {},
   "outputs": [],
   "source": [
    "processed_df"
   ]
  },
  {
   "cell_type": "code",
   "execution_count": null,
   "metadata": {},
   "outputs": [],
   "source": [
    "processed_df.to_csv('../data_files/processed/pilot_modelslant_questions_with_responses.csv', index=False)"
   ]
  },
  {
   "cell_type": "code",
   "execution_count": null,
   "metadata": {},
   "outputs": [],
   "source": []
  }
 ],
 "metadata": {
  "kernelspec": {
   "display_name": "oeenv",
   "language": "python",
   "name": "python3"
  },
  "language_info": {
   "codemirror_mode": {
    "name": "ipython",
    "version": 3
   },
   "file_extension": ".py",
   "mimetype": "text/x-python",
   "name": "python",
   "nbconvert_exporter": "python",
   "pygments_lexer": "ipython3",
   "version": "3.11.13"
  }
 },
 "nbformat": 4,
 "nbformat_minor": 2
}
