{
 "cells": [
  {
   "cell_type": "code",
   "execution_count": null,
   "metadata": {},
   "outputs": [],
   "source": [
    "!git clone https://github.com/CogComp/perspectrum.git"
   ]
  },
  {
   "cell_type": "code",
   "execution_count": null,
   "metadata": {},
   "outputs": [],
   "source": [
    "import json, numpy as np, pandas as pd, os\n",
    "from itertools import chain\n"
   ]
  },
  {
   "cell_type": "code",
   "execution_count": null,
   "metadata": {},
   "outputs": [],
   "source": [
    "!ls perspectrum/data/dataset\n"
   ]
  },
  {
   "cell_type": "code",
   "execution_count": null,
   "metadata": {},
   "outputs": [],
   "source": [
    "perspectrum_with_answers = pd.read_json('perspectrum/data/dataset/perspectrum_with_answers_v1.0.json')\n",
    "perspectrum_with_answers.set_index('cId', inplace=True)\n",
    "perspectrum_with_answers.head()"
   ]
  },
  {
   "cell_type": "code",
   "execution_count": null,
   "metadata": {},
   "outputs": [],
   "source": [
    "perspective_pool = pd.read_json('perspectrum/data/dataset/perspective_pool_v1.0.json')\n",
    "perspective_pool.set_index('pId', inplace=True)\n",
    "perspective_pool.head()"
   ]
  },
  {
   "cell_type": "code",
   "execution_count": null,
   "metadata": {},
   "outputs": [],
   "source": [
    "example_question = perspectrum_with_answers.sample(1).iloc[0]\n",
    "print(example_question)\n",
    "print(\"\\nQuestion:\", example_question['text'])\n",
    "perspective = example_question['perspectives']\n",
    "pIds = list(chain(*[p['pids'] for p in perspective]))\n",
    "perspective_pool.loc[pIds]\n",
    "\n",
    "print(\"\\nPerspective:\", perspective_pool.loc[pIds])"
   ]
  },
  {
   "cell_type": "markdown",
   "metadata": {},
   "source": [
    "#### Generate one big dataframe"
   ]
  },
  {
   "cell_type": "code",
   "execution_count": null,
   "metadata": {},
   "outputs": [],
   "source": [
    "# Make this an array of strings\n",
    "perspective_pool.loc[pIds]['text'].to_list()"
   ]
  },
  {
   "cell_type": "code",
   "execution_count": null,
   "metadata": {},
   "outputs": [],
   "source": [
    "def get_perspective_pool(perspective):\n",
    "    pIds = list(chain(*[p['pids'] for p in perspective]))\n",
    "    return perspective_pool.loc[pIds]['text'].to_list()\n"
   ]
  },
  {
   "cell_type": "code",
   "execution_count": null,
   "metadata": {},
   "outputs": [],
   "source": [
    "perspectrum_with_answers['perspectives.text'] = perspectrum_with_answers['perspectives'].apply(get_perspective_pool)"
   ]
  },
  {
   "cell_type": "code",
   "execution_count": null,
   "metadata": {},
   "outputs": [],
   "source": [
    "perspectrum_with_answers['question'] = perspectrum_with_answers['text'] + \"\\nWhat are the relevant perspectives to the above claim?\""
   ]
  },
  {
   "cell_type": "code",
   "execution_count": null,
   "metadata": {},
   "outputs": [],
   "source": [
    "perspectrum_with_answers[['question', 'perspectives.text']]"
   ]
  },
  {
   "cell_type": "code",
   "execution_count": null,
   "metadata": {},
   "outputs": [],
   "source": [
    "perspectrum_with_answers[['question', 'perspectives.text']].to_csv('data/perspectrum_processed.csv')"
   ]
  },
  {
   "cell_type": "code",
   "execution_count": null,
   "metadata": {},
   "outputs": [],
   "source": []
  }
 ],
 "metadata": {
  "kernelspec": {
   "display_name": ".venv",
   "language": "python",
   "name": "python3"
  },
  "language_info": {
   "codemirror_mode": {
    "name": "ipython",
    "version": 3
   },
   "file_extension": ".py",
   "mimetype": "text/x-python",
   "name": "python",
   "nbconvert_exporter": "python",
   "pygments_lexer": "ipython3",
   "version": "3.11.10"
  }
 },
 "nbformat": 4,
 "nbformat_minor": 2
}
